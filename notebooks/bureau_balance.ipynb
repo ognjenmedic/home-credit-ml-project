{
 "cells": [
  {
   "cell_type": "markdown",
   "metadata": {},
   "source": [
    "# Home Credit Default Risk - Machine Learning Project\n",
    "\n",
    "## Project Overview\n",
    "- Predict loan default risk using historical credit data.\n",
    "- Objectives: Improve financial risk assessment, reduce losses for lenders."
   ]
  },
  {
   "cell_type": "markdown",
   "metadata": {},
   "source": [
    "# Processing `bureau_balance.csv` (Credit Bureau Loan History)"
   ]
  },
  {
   "cell_type": "markdown",
   "metadata": {},
   "source": [
    "## 1. Load Data (`bureau_balance.csv`)"
   ]
  },
  {
   "cell_type": "code",
   "execution_count": 1,
   "metadata": {
    "execution": {
     "iopub.execute_input": "2025-02-03T18:08:04.990493Z",
     "iopub.status.busy": "2025-02-03T18:08:04.990015Z",
     "iopub.status.idle": "2025-02-03T18:08:06.483160Z",
     "shell.execute_reply": "2025-02-03T18:08:06.482263Z",
     "shell.execute_reply.started": "2025-02-03T18:08:04.990415Z"
    }
   },
   "outputs": [],
   "source": [
    "# Import Libraries\n",
    "import pandas as pd\n",
    "import numpy as np\n",
    "import seaborn as sns\n",
    "import matplotlib.pyplot as plt\n",
    "import os\n",
    "import warnings\n",
    "# warnings.simplefilter(action='ignore', category=FutureWarning)\n",
    "# warnings.simplefilter(action='ignore', category=RuntimeWarning)"
   ]
  },
  {
   "cell_type": "code",
   "execution_count": 2,
   "metadata": {
    "execution": {
     "iopub.execute_input": "2025-02-03T18:13:38.992218Z",
     "iopub.status.busy": "2025-02-03T18:13:38.991635Z",
     "iopub.status.idle": "2025-02-03T18:13:48.691305Z",
     "shell.execute_reply": "2025-02-03T18:13:48.690361Z",
     "shell.execute_reply.started": "2025-02-03T18:13:38.992171Z"
    }
   },
   "outputs": [],
   "source": [
    "# Load dataset \n",
    "df_bureau_balance = pd.read_csv(\"/kaggle/input/home-credit-default-risk/bureau_balance.csv\")"
   ]
  },
  {
   "cell_type": "markdown",
   "metadata": {},
   "source": [
    "## 2. Initial Data Inspection (`bureau_balance.csv`)"
   ]
  },
  {
   "cell_type": "code",
   "execution_count": 3,
   "metadata": {
    "execution": {
     "iopub.execute_input": "2025-02-03T18:17:01.962313Z",
     "iopub.status.busy": "2025-02-03T18:17:01.961919Z",
     "iopub.status.idle": "2025-02-03T18:17:06.719584Z",
     "shell.execute_reply": "2025-02-03T18:17:06.718445Z",
     "shell.execute_reply.started": "2025-02-03T18:17:01.962282Z"
    }
   },
   "outputs": [
    {
     "name": "stdout",
     "output_type": "stream",
     "text": [
      "🔍 Checking for infinite values in dataset...\n",
      "✅ No infinite values detected.\n"
     ]
    }
   ],
   "source": [
    "# Check for infinite values\n",
    "print(\"🔍 Checking for infinite values in dataset...\")\n",
    "inf_count = (df_bureau_balance == np.inf).sum().sum()\n",
    "neg_inf_count = (df_bureau_balance == -np.inf).sum().sum()\n",
    "\n",
    "if inf_count > 0 or neg_inf_count > 0:\n",
    "    print(f\"⚠️ Found {inf_count} positive and {neg_inf_count} negative infinite values!\")\n",
    "else:\n",
    "    print(\"✅ No infinite values detected.\")"
   ]
  },
  {
   "cell_type": "code",
   "execution_count": 4,
   "metadata": {
    "execution": {
     "iopub.execute_input": "2025-02-03T18:18:28.741629Z",
     "iopub.status.busy": "2025-02-03T18:18:28.741277Z",
     "iopub.status.idle": "2025-02-03T18:18:30.091503Z",
     "shell.execute_reply": "2025-02-03T18:18:30.090459Z",
     "shell.execute_reply.started": "2025-02-03T18:18:28.741599Z"
    }
   },
   "outputs": [
    {
     "name": "stdout",
     "output_type": "stream",
     "text": [
      "✅ No missing values detected.\n"
     ]
    }
   ],
   "source": [
    "# 🔍 Check for missing values\n",
    "missing_values = df_bureau_balance.isnull().sum()\n",
    "missing_values = missing_values[missing_values > 0]  \n",
    "\n",
    "if not missing_values.empty:\n",
    "    print(\"⚠️ Missing values detected in columns:\")\n",
    "    print(missing_values)\n",
    "else:\n",
    "    print(\"✅ No missing values detected.\")"
   ]
  },
  {
   "cell_type": "code",
   "execution_count": 11,
   "metadata": {
    "execution": {
     "iopub.execute_input": "2025-02-03T18:50:04.200524Z",
     "iopub.status.busy": "2025-02-03T18:50:04.200208Z",
     "iopub.status.idle": "2025-02-03T18:50:04.205588Z",
     "shell.execute_reply": "2025-02-03T18:50:04.204664Z",
     "shell.execute_reply.started": "2025-02-03T18:50:04.200503Z"
    }
   },
   "outputs": [
    {
     "name": "stdout",
     "output_type": "stream",
     "text": [
      "Index(['SK_ID_BUREAU', 'MONTHS_BALANCE', 'STATUS'], dtype='object')\n"
     ]
    }
   ],
   "source": [
    "print(df_bureau_balance.columns)"
   ]
  },
  {
   "cell_type": "code",
   "execution_count": 12,
   "metadata": {
    "execution": {
     "iopub.execute_input": "2025-02-03T18:50:23.673670Z",
     "iopub.status.busy": "2025-02-03T18:50:23.673366Z",
     "iopub.status.idle": "2025-02-03T18:50:24.541542Z",
     "shell.execute_reply": "2025-02-03T18:50:24.540749Z",
     "shell.execute_reply.started": "2025-02-03T18:50:23.673646Z"
    }
   },
   "outputs": [
    {
     "name": "stdout",
     "output_type": "stream",
     "text": [
      "🔍 Checking for extreme values in 'bureau_balance' dataset using percentile thresholds...\n",
      "⚠️ Columns with very small values (below 1st percentile):\n",
      "MONTHS_BALANCE   -96\n",
      "dtype: int64\n"
     ]
    }
   ],
   "source": [
    "# Check for extreme values using percentile-based thresholds \n",
    "print(\"🔍 Checking for extreme values in 'bureau_balance' dataset using percentile thresholds...\")\n",
    "\n",
    "# Exclude ID columns from percentile-based detection\n",
    "extreme_exclude_cols = ['SK_ID_BUREAU'] \n",
    "extreme_numeric_columns = df_bureau_balance.select_dtypes(include=[\"number\"]).drop(columns=extreme_exclude_cols, errors='ignore')\n",
    "\n",
    "# Compute percentile-based thresholds\n",
    "extreme_upper_threshold = extreme_numeric_columns.quantile(0.99)\n",
    "extreme_lower_threshold = extreme_numeric_columns.quantile(0.01)\n",
    "\n",
    "# Identify extreme values\n",
    "extreme_large_columns = extreme_numeric_columns.max() > extreme_upper_threshold\n",
    "extreme_small_columns = extreme_numeric_columns.min() < extreme_lower_threshold\n",
    "\n",
    "# Print results\n",
    "if extreme_large_columns.any():\n",
    "    print(f\"⚠️ Columns with very large values (above 99th percentile):\\n{extreme_numeric_columns.loc[:, extreme_large_columns].max()}\")\n",
    "if extreme_small_columns.any():\n",
    "    print(f\"⚠️ Columns with very small values (below 1st percentile):\\n{extreme_numeric_columns.loc[:, extreme_small_columns].min()}\")\n",
    "if not extreme_large_columns.any() and not extreme_small_columns.any():\n",
    "    print(\"✅ No extreme values detected in 'bureau_balance' dataset.\")\n"
   ]
  },
  {
   "cell_type": "code",
   "execution_count": 7,
   "metadata": {
    "execution": {
     "iopub.execute_input": "2025-02-03T18:33:51.537021Z",
     "iopub.status.busy": "2025-02-03T18:33:51.536698Z",
     "iopub.status.idle": "2025-02-03T18:33:51.541306Z",
     "shell.execute_reply": "2025-02-03T18:33:51.540336Z",
     "shell.execute_reply.started": "2025-02-03T18:33:51.536994Z"
    }
   },
   "outputs": [
    {
     "name": "stdout",
     "output_type": "stream",
     "text": [
      "DataFrame Shape: (27299925, 3)\n"
     ]
    }
   ],
   "source": [
    "# Check the shape of the dataset\n",
    "print(\"DataFrame Shape:\", df_bureau_balance.shape)"
   ]
  },
  {
   "cell_type": "code",
   "execution_count": 8,
   "metadata": {
    "execution": {
     "iopub.execute_input": "2025-02-03T18:34:32.815085Z",
     "iopub.status.busy": "2025-02-03T18:34:32.814752Z",
     "iopub.status.idle": "2025-02-03T18:34:32.837396Z",
     "shell.execute_reply": "2025-02-03T18:34:32.836511Z",
     "shell.execute_reply.started": "2025-02-03T18:34:32.815045Z"
    }
   },
   "outputs": [
    {
     "name": "stdout",
     "output_type": "stream",
     "text": [
      "First few rows of bureau_balance DataFrame:\n"
     ]
    },
    {
     "data": {
      "text/html": [
       "<div>\n",
       "<style scoped>\n",
       "    .dataframe tbody tr th:only-of-type {\n",
       "        vertical-align: middle;\n",
       "    }\n",
       "\n",
       "    .dataframe tbody tr th {\n",
       "        vertical-align: top;\n",
       "    }\n",
       "\n",
       "    .dataframe thead th {\n",
       "        text-align: right;\n",
       "    }\n",
       "</style>\n",
       "<table border=\"1\" class=\"dataframe\">\n",
       "  <thead>\n",
       "    <tr style=\"text-align: right;\">\n",
       "      <th></th>\n",
       "      <th>SK_ID_BUREAU</th>\n",
       "      <th>MONTHS_BALANCE</th>\n",
       "      <th>STATUS</th>\n",
       "    </tr>\n",
       "  </thead>\n",
       "  <tbody>\n",
       "    <tr>\n",
       "      <th>0</th>\n",
       "      <td>5715448</td>\n",
       "      <td>0</td>\n",
       "      <td>C</td>\n",
       "    </tr>\n",
       "    <tr>\n",
       "      <th>1</th>\n",
       "      <td>5715448</td>\n",
       "      <td>-1</td>\n",
       "      <td>C</td>\n",
       "    </tr>\n",
       "    <tr>\n",
       "      <th>2</th>\n",
       "      <td>5715448</td>\n",
       "      <td>-2</td>\n",
       "      <td>C</td>\n",
       "    </tr>\n",
       "    <tr>\n",
       "      <th>3</th>\n",
       "      <td>5715448</td>\n",
       "      <td>-3</td>\n",
       "      <td>C</td>\n",
       "    </tr>\n",
       "    <tr>\n",
       "      <th>4</th>\n",
       "      <td>5715448</td>\n",
       "      <td>-4</td>\n",
       "      <td>C</td>\n",
       "    </tr>\n",
       "  </tbody>\n",
       "</table>\n",
       "</div>"
      ],
      "text/plain": [
       "   SK_ID_BUREAU  MONTHS_BALANCE STATUS\n",
       "0       5715448               0      C\n",
       "1       5715448              -1      C\n",
       "2       5715448              -2      C\n",
       "3       5715448              -3      C\n",
       "4       5715448              -4      C"
      ]
     },
     "metadata": {},
     "output_type": "display_data"
    }
   ],
   "source": [
    "# Display the first few rows\n",
    "print(\"First few rows of bureau_balance DataFrame:\")\n",
    "display(df_bureau_balance.head())"
   ]
  },
  {
   "cell_type": "code",
   "execution_count": 9,
   "metadata": {
    "execution": {
     "iopub.execute_input": "2025-02-03T18:35:32.126183Z",
     "iopub.status.busy": "2025-02-03T18:35:32.125799Z",
     "iopub.status.idle": "2025-02-03T18:35:32.155448Z",
     "shell.execute_reply": "2025-02-03T18:35:32.154219Z",
     "shell.execute_reply.started": "2025-02-03T18:35:32.126118Z"
    }
   },
   "outputs": [
    {
     "name": "stdout",
     "output_type": "stream",
     "text": [
      "\n",
      "DataFrame Info:\n",
      "<class 'pandas.core.frame.DataFrame'>\n",
      "RangeIndex: 27299925 entries, 0 to 27299924\n",
      "Data columns (total 3 columns):\n",
      " #   Column          Dtype \n",
      "---  ------          ----- \n",
      " 0   SK_ID_BUREAU    int64 \n",
      " 1   MONTHS_BALANCE  int64 \n",
      " 2   STATUS          object\n",
      "dtypes: int64(2), object(1)\n",
      "memory usage: 624.8+ MB\n"
     ]
    }
   ],
   "source": [
    "# Get a concise summary of the DataFrame\n",
    "print(\"\\nDataFrame Info:\")\n",
    "df_bureau_balance.info()"
   ]
  },
  {
   "cell_type": "code",
   "execution_count": 14,
   "metadata": {
    "execution": {
     "iopub.execute_input": "2025-02-03T19:06:49.980625Z",
     "iopub.status.busy": "2025-02-03T19:06:49.980295Z",
     "iopub.status.idle": "2025-02-03T19:06:54.100719Z",
     "shell.execute_reply": "2025-02-03T19:06:54.099839Z",
     "shell.execute_reply.started": "2025-02-03T19:06:49.980599Z"
    }
   },
   "outputs": [
    {
     "name": "stdout",
     "output_type": "stream",
     "text": [
      "\n",
      "Descriptive Statistics:\n"
     ]
    },
    {
     "data": {
      "text/html": [
       "<div>\n",
       "<style scoped>\n",
       "    .dataframe tbody tr th:only-of-type {\n",
       "        vertical-align: middle;\n",
       "    }\n",
       "\n",
       "    .dataframe tbody tr th {\n",
       "        vertical-align: top;\n",
       "    }\n",
       "\n",
       "    .dataframe thead th {\n",
       "        text-align: right;\n",
       "    }\n",
       "</style>\n",
       "<table border=\"1\" class=\"dataframe\">\n",
       "  <thead>\n",
       "    <tr style=\"text-align: right;\">\n",
       "      <th></th>\n",
       "      <th>SK_ID_BUREAU</th>\n",
       "      <th>MONTHS_BALANCE</th>\n",
       "    </tr>\n",
       "  </thead>\n",
       "  <tbody>\n",
       "    <tr>\n",
       "      <th>count</th>\n",
       "      <td>2.729992e+07</td>\n",
       "      <td>2.729992e+07</td>\n",
       "    </tr>\n",
       "    <tr>\n",
       "      <th>mean</th>\n",
       "      <td>6.036297e+06</td>\n",
       "      <td>-3.074169e+01</td>\n",
       "    </tr>\n",
       "    <tr>\n",
       "      <th>std</th>\n",
       "      <td>4.923489e+05</td>\n",
       "      <td>2.386451e+01</td>\n",
       "    </tr>\n",
       "    <tr>\n",
       "      <th>min</th>\n",
       "      <td>5.001709e+06</td>\n",
       "      <td>-9.600000e+01</td>\n",
       "    </tr>\n",
       "    <tr>\n",
       "      <th>25%</th>\n",
       "      <td>5.730933e+06</td>\n",
       "      <td>-4.600000e+01</td>\n",
       "    </tr>\n",
       "    <tr>\n",
       "      <th>50%</th>\n",
       "      <td>6.070821e+06</td>\n",
       "      <td>-2.500000e+01</td>\n",
       "    </tr>\n",
       "    <tr>\n",
       "      <th>75%</th>\n",
       "      <td>6.431951e+06</td>\n",
       "      <td>-1.100000e+01</td>\n",
       "    </tr>\n",
       "    <tr>\n",
       "      <th>max</th>\n",
       "      <td>6.842888e+06</td>\n",
       "      <td>0.000000e+00</td>\n",
       "    </tr>\n",
       "  </tbody>\n",
       "</table>\n",
       "</div>"
      ],
      "text/plain": [
       "       SK_ID_BUREAU  MONTHS_BALANCE\n",
       "count  2.729992e+07    2.729992e+07\n",
       "mean   6.036297e+06   -3.074169e+01\n",
       "std    4.923489e+05    2.386451e+01\n",
       "min    5.001709e+06   -9.600000e+01\n",
       "25%    5.730933e+06   -4.600000e+01\n",
       "50%    6.070821e+06   -2.500000e+01\n",
       "75%    6.431951e+06   -1.100000e+01\n",
       "max    6.842888e+06    0.000000e+00"
      ]
     },
     "metadata": {},
     "output_type": "display_data"
    },
    {
     "data": {
      "text/html": [
       "<div>\n",
       "<style scoped>\n",
       "    .dataframe tbody tr th:only-of-type {\n",
       "        vertical-align: middle;\n",
       "    }\n",
       "\n",
       "    .dataframe tbody tr th {\n",
       "        vertical-align: top;\n",
       "    }\n",
       "\n",
       "    .dataframe thead th {\n",
       "        text-align: right;\n",
       "    }\n",
       "</style>\n",
       "<table border=\"1\" class=\"dataframe\">\n",
       "  <thead>\n",
       "    <tr style=\"text-align: right;\">\n",
       "      <th></th>\n",
       "      <th>STATUS</th>\n",
       "    </tr>\n",
       "  </thead>\n",
       "  <tbody>\n",
       "    <tr>\n",
       "      <th>count</th>\n",
       "      <td>27299925</td>\n",
       "    </tr>\n",
       "    <tr>\n",
       "      <th>unique</th>\n",
       "      <td>8</td>\n",
       "    </tr>\n",
       "    <tr>\n",
       "      <th>top</th>\n",
       "      <td>C</td>\n",
       "    </tr>\n",
       "    <tr>\n",
       "      <th>freq</th>\n",
       "      <td>13646993</td>\n",
       "    </tr>\n",
       "  </tbody>\n",
       "</table>\n",
       "</div>"
      ],
      "text/plain": [
       "          STATUS\n",
       "count   27299925\n",
       "unique         8\n",
       "top            C\n",
       "freq    13646993"
      ]
     },
     "metadata": {},
     "output_type": "display_data"
    }
   ],
   "source": [
    "# Get summary statistics of columns\n",
    "print(\"\\nDescriptive Statistics:\")\n",
    "display(df_bureau_balance.describe())\n",
    "display(df_bureau_balance.describe(include=\"object\"))"
   ]
  },
  {
   "cell_type": "code",
   "execution_count": 15,
   "metadata": {
    "execution": {
     "iopub.execute_input": "2025-02-03T19:11:40.130106Z",
     "iopub.status.busy": "2025-02-03T19:11:40.128319Z",
     "iopub.status.idle": "2025-02-03T19:11:41.428865Z",
     "shell.execute_reply": "2025-02-03T19:11:41.427838Z",
     "shell.execute_reply.started": "2025-02-03T19:11:40.130034Z"
    }
   },
   "outputs": [
    {
     "name": "stdout",
     "output_type": "stream",
     "text": [
      "['C' '0' 'X' '1' '2' '3' '5' '4']\n"
     ]
    }
   ],
   "source": [
    "# To see all values in STATUS\n",
    "print(df_bureau_balance[\"STATUS\"].unique())"
   ]
  },
  {
   "cell_type": "code",
   "execution_count": 16,
   "metadata": {
    "execution": {
     "iopub.execute_input": "2025-02-03T19:12:09.481856Z",
     "iopub.status.busy": "2025-02-03T19:12:09.481560Z",
     "iopub.status.idle": "2025-02-03T19:12:10.809995Z",
     "shell.execute_reply": "2025-02-03T19:12:10.809184Z",
     "shell.execute_reply.started": "2025-02-03T19:12:09.481834Z"
    }
   },
   "outputs": [
    {
     "name": "stdout",
     "output_type": "stream",
     "text": [
      "STATUS\n",
      "C    13646993\n",
      "0     7499507\n",
      "X     5810482\n",
      "1      242347\n",
      "5       62406\n",
      "2       23419\n",
      "3        8924\n",
      "4        5847\n",
      "Name: count, dtype: int64\n"
     ]
    }
   ],
   "source": [
    "# To count how often each value appears\n",
    "print(df_bureau_balance[\"STATUS\"].value_counts())"
   ]
  },
  {
   "cell_type": "markdown",
   "metadata": {},
   "source": [
    "## 3. Initial Data Cleaning (`bureau_balance.csv`)"
   ]
  },
  {
   "cell_type": "code",
   "execution_count": 17,
   "metadata": {
    "execution": {
     "iopub.execute_input": "2025-02-03T19:19:43.892668Z",
     "iopub.status.busy": "2025-02-03T19:19:43.892287Z",
     "iopub.status.idle": "2025-02-03T19:19:48.134237Z",
     "shell.execute_reply": "2025-02-03T19:19:48.133314Z",
     "shell.execute_reply.started": "2025-02-03T19:19:43.892633Z"
    }
   },
   "outputs": [
    {
     "name": "stdout",
     "output_type": "stream",
     "text": [
      "✅ Infinite values replaced with NaN.\n"
     ]
    }
   ],
   "source": [
    "# Replace infinite values with NaN before handling missing values\n",
    "df_bureau_balance.replace([np.inf, -np.inf], np.nan, inplace=True)\n",
    "print(\"✅ Infinite values replaced with NaN.\")"
   ]
  },
  {
   "cell_type": "code",
   "execution_count": 18,
   "metadata": {
    "execution": {
     "iopub.execute_input": "2025-02-03T19:38:23.321122Z",
     "iopub.status.busy": "2025-02-03T19:38:23.320792Z",
     "iopub.status.idle": "2025-02-03T19:38:26.228820Z",
     "shell.execute_reply": "2025-02-03T19:38:26.227863Z",
     "shell.execute_reply.started": "2025-02-03T19:38:23.321098Z"
    }
   },
   "outputs": [
    {
     "name": "stdout",
     "output_type": "stream",
     "text": [
      "✅ Converted manually identified categorical columns to 'category'.\n"
     ]
    }
   ],
   "source": [
    "# Convert manually identified categorical columns\n",
    "categorical_cols = [\"STATUS\"]\n",
    "df_bureau_balance[categorical_cols] = df_bureau_balance[categorical_cols].astype(\"category\")\n",
    "\n",
    "print(\"✅ Converted manually identified categorical columns to 'category'.\")"
   ]
  },
  {
   "cell_type": "code",
   "execution_count": 19,
   "metadata": {
    "execution": {
     "iopub.execute_input": "2025-02-03T19:41:10.258036Z",
     "iopub.status.busy": "2025-02-03T19:41:10.257669Z",
     "iopub.status.idle": "2025-02-03T19:41:10.409239Z",
     "shell.execute_reply": "2025-02-03T19:41:10.408218Z",
     "shell.execute_reply.started": "2025-02-03T19:41:10.258007Z"
    }
   },
   "outputs": [
    {
     "name": "stdout",
     "output_type": "stream",
     "text": [
      "🔍 Unique values in categorical columns:\n",
      "STATUS: 8 unique values\n"
     ]
    }
   ],
   "source": [
    "# Check unique values in categorical columns\n",
    "print(\"🔍 Unique values in categorical columns:\")\n",
    "for col in categorical_cols:\n",
    "    print(f\"{col}: {df_bureau_balance[col].nunique()} unique values\")"
   ]
  },
  {
   "cell_type": "code",
   "execution_count": 20,
   "metadata": {
    "execution": {
     "iopub.execute_input": "2025-02-03T19:43:40.366291Z",
     "iopub.status.busy": "2025-02-03T19:43:40.365893Z",
     "iopub.status.idle": "2025-02-03T19:43:40.373362Z",
     "shell.execute_reply": "2025-02-03T19:43:40.372349Z",
     "shell.execute_reply.started": "2025-02-03T19:43:40.366264Z"
    }
   },
   "outputs": [
    {
     "name": "stdout",
     "output_type": "stream",
     "text": [
      "✅ Updated Data Types:\n",
      "SK_ID_BUREAU         int64\n",
      "MONTHS_BALANCE       int64\n",
      "STATUS            category\n",
      "dtype: object\n"
     ]
    }
   ],
   "source": [
    "# Display all columns and their data types\n",
    "pd.set_option('display.max_rows', None) \n",
    "print(\"✅ Updated Data Types:\")\n",
    "print(df_bureau_balance.dtypes)\n",
    "pd.reset_option('display.max_rows')  "
   ]
  },
  {
   "cell_type": "markdown",
   "metadata": {},
   "source": [
    "### Missing Values Handling"
   ]
  },
  {
   "cell_type": "code",
   "execution_count": 21,
   "metadata": {
    "execution": {
     "iopub.execute_input": "2025-02-03T19:45:34.610878Z",
     "iopub.status.busy": "2025-02-03T19:45:34.610508Z",
     "iopub.status.idle": "2025-02-03T19:45:34.758207Z",
     "shell.execute_reply": "2025-02-03T19:45:34.757283Z",
     "shell.execute_reply.started": "2025-02-03T19:45:34.610832Z"
    }
   },
   "outputs": [
    {
     "name": "stdout",
     "output_type": "stream",
     "text": [
      "🔍 Missing values in each column:\n",
      "SK_ID_BUREAU      0\n",
      "MONTHS_BALANCE    0\n",
      "STATUS            0\n",
      "dtype: int64\n"
     ]
    }
   ],
   "source": [
    "# Check for missing values\n",
    "pd.set_option('display.max_rows', None) \n",
    "print(\"🔍 Missing values in each column:\")\n",
    "print(df_bureau_balance.isnull().sum())\n",
    "pd.reset_option('display.max_rows')  "
   ]
  },
  {
   "cell_type": "code",
   "execution_count": 22,
   "metadata": {
    "execution": {
     "iopub.execute_input": "2025-02-03T19:53:25.329394Z",
     "iopub.status.busy": "2025-02-03T19:53:25.328868Z",
     "iopub.status.idle": "2025-02-03T19:53:35.575468Z",
     "shell.execute_reply": "2025-02-03T19:53:35.574697Z",
     "shell.execute_reply.started": "2025-02-03T19:53:25.329353Z"
    }
   },
   "outputs": [
    {
     "name": "stdout",
     "output_type": "stream",
     "text": [
      "Number of duplicate rows: 0\n"
     ]
    }
   ],
   "source": [
    "# Check for duplicates\n",
    "print(\"Number of duplicate rows:\", df_bureau_balance.duplicated().sum())"
   ]
  },
  {
   "cell_type": "markdown",
   "metadata": {},
   "source": [
    "## 4. Exploratory Data Analysis (`bureau_balance.csv`)"
   ]
  },
  {
   "cell_type": "code",
   "execution_count": 23,
   "metadata": {
    "execution": {
     "iopub.execute_input": "2025-02-03T19:56:45.848033Z",
     "iopub.status.busy": "2025-02-03T19:56:45.847688Z",
     "iopub.status.idle": "2025-02-03T19:56:47.304567Z",
     "shell.execute_reply": "2025-02-03T19:56:47.303676Z",
     "shell.execute_reply.started": "2025-02-03T19:56:45.848010Z"
    }
   },
   "outputs": [
    {
     "name": "stdout",
     "output_type": "stream",
     "text": [
      "Summary Statistics (Numeric Features):\n"
     ]
    },
    {
     "data": {
      "text/html": [
       "<div>\n",
       "<style scoped>\n",
       "    .dataframe tbody tr th:only-of-type {\n",
       "        vertical-align: middle;\n",
       "    }\n",
       "\n",
       "    .dataframe tbody tr th {\n",
       "        vertical-align: top;\n",
       "    }\n",
       "\n",
       "    .dataframe thead th {\n",
       "        text-align: right;\n",
       "    }\n",
       "</style>\n",
       "<table border=\"1\" class=\"dataframe\">\n",
       "  <thead>\n",
       "    <tr style=\"text-align: right;\">\n",
       "      <th></th>\n",
       "      <th>count</th>\n",
       "      <th>mean</th>\n",
       "      <th>std</th>\n",
       "      <th>min</th>\n",
       "      <th>25%</th>\n",
       "      <th>50%</th>\n",
       "      <th>75%</th>\n",
       "      <th>max</th>\n",
       "    </tr>\n",
       "  </thead>\n",
       "  <tbody>\n",
       "    <tr>\n",
       "      <th>SK_ID_BUREAU</th>\n",
       "      <td>27299925.0</td>\n",
       "      <td>6.036297e+06</td>\n",
       "      <td>492348.856904</td>\n",
       "      <td>5001709.0</td>\n",
       "      <td>5730933.0</td>\n",
       "      <td>6070821.0</td>\n",
       "      <td>6431951.0</td>\n",
       "      <td>6842888.0</td>\n",
       "    </tr>\n",
       "    <tr>\n",
       "      <th>MONTHS_BALANCE</th>\n",
       "      <td>27299925.0</td>\n",
       "      <td>-3.074169e+01</td>\n",
       "      <td>23.864509</td>\n",
       "      <td>-96.0</td>\n",
       "      <td>-46.0</td>\n",
       "      <td>-25.0</td>\n",
       "      <td>-11.0</td>\n",
       "      <td>0.0</td>\n",
       "    </tr>\n",
       "  </tbody>\n",
       "</table>\n",
       "</div>"
      ],
      "text/plain": [
       "                     count          mean            std        min        25%  \\\n",
       "SK_ID_BUREAU    27299925.0  6.036297e+06  492348.856904  5001709.0  5730933.0   \n",
       "MONTHS_BALANCE  27299925.0 -3.074169e+01      23.864509      -96.0      -46.0   \n",
       "\n",
       "                      50%        75%        max  \n",
       "SK_ID_BUREAU    6070821.0  6431951.0  6842888.0  \n",
       "MONTHS_BALANCE      -25.0      -11.0        0.0  "
      ]
     },
     "metadata": {},
     "output_type": "display_data"
    },
    {
     "name": "stdout",
     "output_type": "stream",
     "text": [
      "Summary Statistics (Categorical Features):\n"
     ]
    },
    {
     "data": {
      "text/html": [
       "<div>\n",
       "<style scoped>\n",
       "    .dataframe tbody tr th:only-of-type {\n",
       "        vertical-align: middle;\n",
       "    }\n",
       "\n",
       "    .dataframe tbody tr th {\n",
       "        vertical-align: top;\n",
       "    }\n",
       "\n",
       "    .dataframe thead th {\n",
       "        text-align: right;\n",
       "    }\n",
       "</style>\n",
       "<table border=\"1\" class=\"dataframe\">\n",
       "  <thead>\n",
       "    <tr style=\"text-align: right;\">\n",
       "      <th></th>\n",
       "      <th>count</th>\n",
       "      <th>unique</th>\n",
       "      <th>top</th>\n",
       "      <th>freq</th>\n",
       "    </tr>\n",
       "  </thead>\n",
       "  <tbody>\n",
       "    <tr>\n",
       "      <th>STATUS</th>\n",
       "      <td>27299925</td>\n",
       "      <td>8</td>\n",
       "      <td>C</td>\n",
       "      <td>13646993</td>\n",
       "    </tr>\n",
       "  </tbody>\n",
       "</table>\n",
       "</div>"
      ],
      "text/plain": [
       "           count unique top      freq\n",
       "STATUS  27299925      8   C  13646993"
      ]
     },
     "metadata": {},
     "output_type": "display_data"
    }
   ],
   "source": [
    "### Summary Statistics\n",
    "pd.set_option('display.max_columns', None)\n",
    "\n",
    "# Numeric summary\n",
    "print(\"Summary Statistics (Numeric Features):\")\n",
    "display(df_bureau_balance.describe().T)\n",
    "\n",
    "# Categorical summary\n",
    "print(\"Summary Statistics (Categorical Features):\")\n",
    "display(df_bureau_balance.describe(include=[\"category\"]).T)\n",
    "\n",
    "pd.reset_option('display.max_columns')"
   ]
  },
  {
   "cell_type": "markdown",
   "metadata": {},
   "source": [
    "### 4.1 Correlation Analysis (`bureau_balance.csv`)"
   ]
  },
  {
   "cell_type": "markdown",
   "metadata": {},
   "source": [
    "Correlation analysis is skipped because bureau_balance.csv contains only one numeric feature (MONTHS_BALANCE), making correlation analysis and heatmaps irrelevant."
   ]
  },
  {
   "cell_type": "markdown",
   "metadata": {},
   "source": [
    "### 4.2 Visualising Outliers (`bureau_balance.csv`)"
   ]
  },
  {
   "cell_type": "markdown",
   "metadata": {},
   "source": [
    "Outlier detection is skipped because `bureau_balance.csv` does not contain traditional transactional numeric features.  \n",
    "The only numeric column, `MONTHS_BALANCE`, represents time-series data, where detecting outliers using boxplots is not meaningful.  \n",
    "Instead, a histogram of `MONTHS_BALANCE` is included in additional EDA to analyze its distribution."
   ]
  },
  {
   "cell_type": "markdown",
   "metadata": {},
   "source": [
    "### 4.3 Pair Plot Analysis (`bureau_balance.csv`)"
   ]
  },
  {
   "cell_type": "markdown",
   "metadata": {},
   "source": [
    "Pair plot analysis is skipped because `bureau_balance.csv` contains only one numeric feature (`MONTHS_BALANCE`).  \n",
    "Pair plots are most useful when analyzing relationships between multiple numerical variables, which are not present in this dataset."
   ]
  },
  {
   "cell_type": "markdown",
   "metadata": {},
   "source": [
    "### 4.4 Group-wise Analysis (`bureau_balance.csv`)"
   ]
  },
  {
   "cell_type": "markdown",
   "metadata": {},
   "source": [
    "Group-wise analysis is skipped because `bureau_balance.csv` contains only one categorical feature (`STATUS`).  \n",
    "Since there are no additional numeric or categorical variables to group by, this analysis does not provide meaningful insights.  \n",
    "Categorical distributions of `STATUS` will be explored in additional EDA visualizations."
   ]
  },
  {
   "cell_type": "markdown",
   "metadata": {},
   "source": [
    "### 4.5 Time-wise Analysis (`bureau_balance.csv`)"
   ]
  },
  {
   "cell_type": "code",
   "execution_count": 24,
   "metadata": {
    "execution": {
     "iopub.execute_input": "2025-02-03T20:29:19.669793Z",
     "iopub.status.busy": "2025-02-03T20:29:19.669025Z",
     "iopub.status.idle": "2025-02-03T20:29:21.711867Z",
     "shell.execute_reply": "2025-02-03T20:29:21.710942Z",
     "shell.execute_reply.started": "2025-02-03T20:29:19.669700Z"
    }
   },
   "outputs": [
    {
     "name": "stderr",
     "output_type": "stream",
     "text": [
      "<ipython-input-24-9d3bcb7c1451>:2: FutureWarning: The default of observed=False is deprecated and will be changed to True in a future version of pandas. Pass observed=False to retain current behavior or observed=True to adopt the future default and silence this warning.\n",
      "  status_trend = df_bureau_balance.groupby([\"MONTHS_BALANCE\", \"STATUS\"]).size().reset_index(name=\"count\")\n"
     ]
    },
    {
     "data": {
      "text/html": [
       "<div>\n",
       "<style scoped>\n",
       "    .dataframe tbody tr th:only-of-type {\n",
       "        vertical-align: middle;\n",
       "    }\n",
       "\n",
       "    .dataframe tbody tr th {\n",
       "        vertical-align: top;\n",
       "    }\n",
       "\n",
       "    .dataframe thead th {\n",
       "        text-align: right;\n",
       "    }\n",
       "</style>\n",
       "<table border=\"1\" class=\"dataframe\">\n",
       "  <thead>\n",
       "    <tr style=\"text-align: right;\">\n",
       "      <th></th>\n",
       "      <th>MONTHS_BALANCE</th>\n",
       "      <th>STATUS</th>\n",
       "      <th>count</th>\n",
       "    </tr>\n",
       "  </thead>\n",
       "  <tbody>\n",
       "    <tr>\n",
       "      <th>0</th>\n",
       "      <td>-96</td>\n",
       "      <td>0</td>\n",
       "      <td>18250</td>\n",
       "    </tr>\n",
       "    <tr>\n",
       "      <th>1</th>\n",
       "      <td>-96</td>\n",
       "      <td>1</td>\n",
       "      <td>595</td>\n",
       "    </tr>\n",
       "    <tr>\n",
       "      <th>2</th>\n",
       "      <td>-96</td>\n",
       "      <td>2</td>\n",
       "      <td>100</td>\n",
       "    </tr>\n",
       "    <tr>\n",
       "      <th>3</th>\n",
       "      <td>-96</td>\n",
       "      <td>3</td>\n",
       "      <td>38</td>\n",
       "    </tr>\n",
       "    <tr>\n",
       "      <th>4</th>\n",
       "      <td>-96</td>\n",
       "      <td>4</td>\n",
       "      <td>27</td>\n",
       "    </tr>\n",
       "  </tbody>\n",
       "</table>\n",
       "</div>"
      ],
      "text/plain": [
       "   MONTHS_BALANCE STATUS  count\n",
       "0             -96      0  18250\n",
       "1             -96      1    595\n",
       "2             -96      2    100\n",
       "3             -96      3     38\n",
       "4             -96      4     27"
      ]
     },
     "execution_count": 24,
     "metadata": {},
     "output_type": "execute_result"
    }
   ],
   "source": [
    "# Aggregate STATUS counts per MONTHS_BALANCE\n",
    "status_trend = df_bureau_balance.groupby([\"MONTHS_BALANCE\", \"STATUS\"]).size().reset_index(name=\"count\")\n",
    "\n",
    "# Display first few rows\n",
    "status_trend.head()"
   ]
  },
  {
   "cell_type": "code",
   "execution_count": 25,
   "metadata": {
    "execution": {
     "iopub.execute_input": "2025-02-03T20:30:00.198827Z",
     "iopub.status.busy": "2025-02-03T20:30:00.198494Z",
     "iopub.status.idle": "2025-02-03T20:30:00.799710Z",
     "shell.execute_reply": "2025-02-03T20:30:00.798608Z",
     "shell.execute_reply.started": "2025-02-03T20:30:00.198802Z"
    }
   },
   "outputs": [
    {
     "name": "stderr",
     "output_type": "stream",
     "text": [
      "/usr/local/lib/python3.10/dist-packages/seaborn/_oldcore.py:1119: FutureWarning: use_inf_as_na option is deprecated and will be removed in a future version. Convert inf values to NaN before operating instead.\n",
      "  with pd.option_context('mode.use_inf_as_na', True):\n",
      "/usr/local/lib/python3.10/dist-packages/seaborn/_oldcore.py:1119: FutureWarning: use_inf_as_na option is deprecated and will be removed in a future version. Convert inf values to NaN before operating instead.\n",
      "  with pd.option_context('mode.use_inf_as_na', True):\n",
      "/usr/local/lib/python3.10/dist-packages/seaborn/_oldcore.py:1057: FutureWarning: The default of observed=False is deprecated and will be changed to True in a future version of pandas. Pass observed=False to retain current behavior or observed=True to adopt the future default and silence this warning.\n",
      "  grouped_data = data.groupby(\n",
      "/usr/local/lib/python3.10/dist-packages/seaborn/_oldcore.py:1075: FutureWarning: When grouping with a length-1 list-like, you will need to pass a length-1 tuple to get_group in a future version of pandas. Pass `(name,)` instead of `name` to silence this warning.\n",
      "  data_subset = grouped_data.get_group(pd_key)\n",
      "/usr/local/lib/python3.10/dist-packages/seaborn/_oldcore.py:1075: FutureWarning: When grouping with a length-1 list-like, you will need to pass a length-1 tuple to get_group in a future version of pandas. Pass `(name,)` instead of `name` to silence this warning.\n",
      "  data_subset = grouped_data.get_group(pd_key)\n",
      "/usr/local/lib/python3.10/dist-packages/seaborn/_oldcore.py:1075: FutureWarning: When grouping with a length-1 list-like, you will need to pass a length-1 tuple to get_group in a future version of pandas. Pass `(name,)` instead of `name` to silence this warning.\n",
      "  data_subset = grouped_data.get_group(pd_key)\n",
      "/usr/local/lib/python3.10/dist-packages/seaborn/_oldcore.py:1075: FutureWarning: When grouping with a length-1 list-like, you will need to pass a length-1 tuple to get_group in a future version of pandas. Pass `(name,)` instead of `name` to silence this warning.\n",
      "  data_subset = grouped_data.get_group(pd_key)\n",
      "/usr/local/lib/python3.10/dist-packages/seaborn/_oldcore.py:1075: FutureWarning: When grouping with a length-1 list-like, you will need to pass a length-1 tuple to get_group in a future version of pandas. Pass `(name,)` instead of `name` to silence this warning.\n",
      "  data_subset = grouped_data.get_group(pd_key)\n",
      "/usr/local/lib/python3.10/dist-packages/seaborn/_oldcore.py:1075: FutureWarning: When grouping with a length-1 list-like, you will need to pass a length-1 tuple to get_group in a future version of pandas. Pass `(name,)` instead of `name` to silence this warning.\n",
      "  data_subset = grouped_data.get_group(pd_key)\n",
      "/usr/local/lib/python3.10/dist-packages/seaborn/_oldcore.py:1075: FutureWarning: When grouping with a length-1 list-like, you will need to pass a length-1 tuple to get_group in a future version of pandas. Pass `(name,)` instead of `name` to silence this warning.\n",
      "  data_subset = grouped_data.get_group(pd_key)\n",
      "/usr/local/lib/python3.10/dist-packages/seaborn/_oldcore.py:1075: FutureWarning: When grouping with a length-1 list-like, you will need to pass a length-1 tuple to get_group in a future version of pandas. Pass `(name,)` instead of `name` to silence this warning.\n",
      "  data_subset = grouped_data.get_group(pd_key)\n"
     ]
    },
    {
     "data": {
      "image/png": "[encoded data removed]",
      "text/plain": [
       "<Figure size 1400x700 with 1 Axes>"
      ]
     },
     "metadata": {},
     "output_type": "display_data"
    }
   ],
   "source": [
    "# Set figure size\n",
    "plt.figure(figsize=(14, 7))\n",
    "\n",
    "# Create a line plot for each STATUS category\n",
    "sns.lineplot(data=status_trend, x=\"MONTHS_BALANCE\", y=\"count\", hue=\"STATUS\", marker=\"o\")\n",
    "\n",
    "# Titles and labels\n",
    "plt.title(\"Trend of STATUS Over Time (MONTHS_BALANCE)\", fontsize=14)\n",
    "plt.xlabel(\"Months Before Present\", fontsize=12)\n",
    "plt.ylabel(\"Count\", fontsize=12)\n",
    "plt.legend(title=\"STATUS\")\n",
    "plt.grid(True)\n",
    "\n",
    "# Show plot\n",
    "plt.show()"
   ]
  },
  {
   "cell_type": "markdown",
   "metadata": {},
   "source": [
    "### 4.6 Joint Plot Analysis (`bureau_balance.csv`)"
   ]
  },
  {
   "cell_type": "markdown",
   "metadata": {},
   "source": [
    "Joint plot analysis is skipped because `bureau_balance.csv` has only one numeric feature (`MONTHS_BALANCE`).  \n",
    "Joint plots are typically used to explore relationships between two numerical variables, which are not present in this dataset."
   ]
  },
  {
   "cell_type": "markdown",
   "metadata": {},
   "source": [
    "### 4.7 Additional EDA Visualisations (`bureau_balance.csv`)"
   ]
  },
  {
   "cell_type": "code",
   "execution_count": 26,
   "metadata": {
    "execution": {
     "iopub.execute_input": "2025-02-03T20:39:03.458404Z",
     "iopub.status.busy": "2025-02-03T20:39:03.458004Z",
     "iopub.status.idle": "2025-02-03T20:41:00.254325Z",
     "shell.execute_reply": "2025-02-03T20:41:00.253418Z",
     "shell.execute_reply.started": "2025-02-03T20:39:03.458374Z"
    }
   },
   "outputs": [
    {
     "name": "stderr",
     "output_type": "stream",
     "text": [
      "/usr/local/lib/python3.10/dist-packages/seaborn/_oldcore.py:1119: FutureWarning: use_inf_as_na option is deprecated and will be removed in a future version. Convert inf values to NaN before operating instead.\n",
      "  with pd.option_context('mode.use_inf_as_na', True):\n"
     ]
    },
    {
     "data": {
      "image/png": "[encoded data removed]",
      "text/plain": [
       "<Figure size 1000x500 with 1 Axes>"
      ]
     },
     "metadata": {},
     "output_type": "display_data"
    }
   ],
   "source": [
    "# Plot histogram for MONTHS_BALANCE to see distribution\n",
    "plt.figure(figsize=(10, 5))\n",
    "sns.histplot(df_bureau_balance[\"MONTHS_BALANCE\"], bins=50, kde=True)  \n",
    "plt.title(\"Distribution of MONTHS_BALANCE (Credit History Timeline)\")\n",
    "plt.xlabel(\"Months Before Present\")\n",
    "plt.ylabel(\"Count\")\n",
    "plt.show()"
   ]
  },
  {
   "cell_type": "code",
   "execution_count": 27,
   "metadata": {
    "execution": {
     "iopub.execute_input": "2025-02-03T20:42:16.624352Z",
     "iopub.status.busy": "2025-02-03T20:42:16.623948Z",
     "iopub.status.idle": "2025-02-03T20:42:17.661365Z",
     "shell.execute_reply": "2025-02-03T20:42:17.660538Z",
     "shell.execute_reply.started": "2025-02-03T20:42:16.624321Z"
    }
   },
   "outputs": [
    {
     "name": "stderr",
     "output_type": "stream",
     "text": [
      "/usr/local/lib/python3.10/dist-packages/seaborn/categorical.py:641: FutureWarning: The default of observed=False is deprecated and will be changed to True in a future version of pandas. Pass observed=False to retain current behavior or observed=True to adopt the future default and silence this warning.\n",
      "  grouped_vals = vals.groupby(grouper)\n"
     ]
    },
    {
     "data": {
      "image/png": "[encoded data removed]",
      "text/plain": [
       "<Figure size 1000x500 with 1 Axes>"
      ]
     },
     "metadata": {},
     "output_type": "display_data"
    }
   ],
   "source": [
    "# Plot bar chart for STATUS distribution\n",
    "plt.figure(figsize=(10, 5))\n",
    "sns.countplot(x=df_bureau_balance[\"STATUS\"], order=df_bureau_balance[\"STATUS\"].value_counts().index, palette=\"viridis\")\n",
    "plt.title(\"Distribution of STATUS (Credit Bureau Loan History)\")\n",
    "plt.xlabel(\"STATUS\")\n",
    "plt.ylabel(\"Count\")\n",
    "plt.show()"
   ]
  },
  {
   "cell_type": "markdown",
   "metadata": {},
   "source": [
    "## 5. Feature Engineering (`bureau_balance.csv`)"
   ]
  },
  {
   "cell_type": "markdown",
   "metadata": {},
   "source": [
    "### 5.1 Credit Activity Features (`bureau_balance.csv`)"
   ]
  },
  {
   "cell_type": "code",
   "execution_count": 28,
   "metadata": {
    "execution": {
     "iopub.execute_input": "2025-02-03T21:42:11.006642Z",
     "iopub.status.busy": "2025-02-03T21:42:11.006175Z",
     "iopub.status.idle": "2025-02-03T21:49:21.175724Z",
     "shell.execute_reply": "2025-02-03T21:49:21.174695Z",
     "shell.execute_reply.started": "2025-02-03T21:42:11.006596Z"
    }
   },
   "outputs": [
    {
     "data": {
      "text/html": [
       "<div>\n",
       "<style scoped>\n",
       "    .dataframe tbody tr th:only-of-type {\n",
       "        vertical-align: middle;\n",
       "    }\n",
       "\n",
       "    .dataframe tbody tr th {\n",
       "        vertical-align: top;\n",
       "    }\n",
       "\n",
       "    .dataframe thead th {\n",
       "        text-align: right;\n",
       "    }\n",
       "</style>\n",
       "<table border=\"1\" class=\"dataframe\">\n",
       "  <thead>\n",
       "    <tr style=\"text-align: right;\">\n",
       "      <th></th>\n",
       "      <th>SK_ID_BUREAU</th>\n",
       "      <th>bureau_balance_NUM_MONTHS</th>\n",
       "      <th>bureau_balance_NUM_CLOSED_MONTHS</th>\n",
       "      <th>bureau_balance_NUM_ACTIVE_MONTHS</th>\n",
       "      <th>bureau_balance_NUM_OVERDUE_MONTHS</th>\n",
       "    </tr>\n",
       "  </thead>\n",
       "  <tbody>\n",
       "    <tr>\n",
       "      <th>0</th>\n",
       "      <td>5001709</td>\n",
       "      <td>97</td>\n",
       "      <td>86</td>\n",
       "      <td>0</td>\n",
       "      <td>0</td>\n",
       "    </tr>\n",
       "    <tr>\n",
       "      <th>1</th>\n",
       "      <td>5001710</td>\n",
       "      <td>83</td>\n",
       "      <td>48</td>\n",
       "      <td>5</td>\n",
       "      <td>0</td>\n",
       "    </tr>\n",
       "    <tr>\n",
       "      <th>2</th>\n",
       "      <td>5001711</td>\n",
       "      <td>4</td>\n",
       "      <td>0</td>\n",
       "      <td>3</td>\n",
       "      <td>0</td>\n",
       "    </tr>\n",
       "    <tr>\n",
       "      <th>3</th>\n",
       "      <td>5001712</td>\n",
       "      <td>19</td>\n",
       "      <td>9</td>\n",
       "      <td>10</td>\n",
       "      <td>0</td>\n",
       "    </tr>\n",
       "    <tr>\n",
       "      <th>4</th>\n",
       "      <td>5001713</td>\n",
       "      <td>22</td>\n",
       "      <td>0</td>\n",
       "      <td>0</td>\n",
       "      <td>0</td>\n",
       "    </tr>\n",
       "  </tbody>\n",
       "</table>\n",
       "</div>"
      ],
      "text/plain": [
       "   SK_ID_BUREAU  bureau_balance_NUM_MONTHS  bureau_balance_NUM_CLOSED_MONTHS  \\\n",
       "0       5001709                         97                                86   \n",
       "1       5001710                         83                                48   \n",
       "2       5001711                          4                                 0   \n",
       "3       5001712                         19                                 9   \n",
       "4       5001713                         22                                 0   \n",
       "\n",
       "   bureau_balance_NUM_ACTIVE_MONTHS  bureau_balance_NUM_OVERDUE_MONTHS  \n",
       "0                                 0                                  0  \n",
       "1                                 5                                  0  \n",
       "2                                 3                                  0  \n",
       "3                                10                                  0  \n",
       "4                                 0                                  0  "
      ]
     },
     "metadata": {},
     "output_type": "display_data"
    }
   ],
   "source": [
    "# Group by SK_ID_BUREAU and calculate credit activity features\n",
    "bureau_balance_credit_activity = df_bureau_balance.groupby(\"SK_ID_BUREAU\").agg(\n",
    "    bureau_balance_NUM_MONTHS=(\"MONTHS_BALANCE\", \"count\"),  # Total active months per loan\n",
    "    bureau_balance_NUM_CLOSED_MONTHS=(\"STATUS\", lambda x: (x == \"C\").sum()),  # Count closed loan months\n",
    "    bureau_balance_NUM_ACTIVE_MONTHS=(\"STATUS\", lambda x: (x == \"0\").sum()),  # Count active (non-overdue) months\n",
    "    bureau_balance_NUM_OVERDUE_MONTHS=(\"STATUS\", lambda x: x.isin([\"1\", \"2\", \"3\", \"4\", \"5\"]).sum()),  # Overdue counts\n",
    ").reset_index()\n",
    "\n",
    "# Preview the new features before merging\n",
    "display(bureau_balance_credit_activity.head())"
   ]
  },
  {
   "cell_type": "markdown",
   "metadata": {},
   "source": [
    "### 5.2 Time-Based Features (`bureau_balance.csv`)"
   ]
  },
  {
   "cell_type": "code",
   "execution_count": 29,
   "metadata": {
    "execution": {
     "iopub.execute_input": "2025-02-03T21:53:32.486325Z",
     "iopub.status.busy": "2025-02-03T21:53:32.485897Z",
     "iopub.status.idle": "2025-02-03T21:54:05.657629Z",
     "shell.execute_reply": "2025-02-03T21:54:05.656684Z",
     "shell.execute_reply.started": "2025-02-03T21:53:32.486298Z"
    }
   },
   "outputs": [
    {
     "data": {
      "text/html": [
       "<div>\n",
       "<style scoped>\n",
       "    .dataframe tbody tr th:only-of-type {\n",
       "        vertical-align: middle;\n",
       "    }\n",
       "\n",
       "    .dataframe tbody tr th {\n",
       "        vertical-align: top;\n",
       "    }\n",
       "\n",
       "    .dataframe thead th {\n",
       "        text-align: right;\n",
       "    }\n",
       "</style>\n",
       "<table border=\"1\" class=\"dataframe\">\n",
       "  <thead>\n",
       "    <tr style=\"text-align: right;\">\n",
       "      <th></th>\n",
       "      <th>SK_ID_BUREAU</th>\n",
       "      <th>bureau_balance_OLDEST_RECORD</th>\n",
       "      <th>bureau_balance_MOST_RECENT_RECORD</th>\n",
       "      <th>bureau_balance_CREDIT_HISTORY_LENGTH</th>\n",
       "    </tr>\n",
       "  </thead>\n",
       "  <tbody>\n",
       "    <tr>\n",
       "      <th>0</th>\n",
       "      <td>5001709</td>\n",
       "      <td>-96</td>\n",
       "      <td>0</td>\n",
       "      <td>96</td>\n",
       "    </tr>\n",
       "    <tr>\n",
       "      <th>1</th>\n",
       "      <td>5001710</td>\n",
       "      <td>-82</td>\n",
       "      <td>0</td>\n",
       "      <td>82</td>\n",
       "    </tr>\n",
       "    <tr>\n",
       "      <th>2</th>\n",
       "      <td>5001711</td>\n",
       "      <td>-3</td>\n",
       "      <td>0</td>\n",
       "      <td>3</td>\n",
       "    </tr>\n",
       "    <tr>\n",
       "      <th>3</th>\n",
       "      <td>5001712</td>\n",
       "      <td>-18</td>\n",
       "      <td>0</td>\n",
       "      <td>18</td>\n",
       "    </tr>\n",
       "    <tr>\n",
       "      <th>4</th>\n",
       "      <td>5001713</td>\n",
       "      <td>-21</td>\n",
       "      <td>0</td>\n",
       "      <td>21</td>\n",
       "    </tr>\n",
       "  </tbody>\n",
       "</table>\n",
       "</div>"
      ],
      "text/plain": [
       "   SK_ID_BUREAU  bureau_balance_OLDEST_RECORD  \\\n",
       "0       5001709                           -96   \n",
       "1       5001710                           -82   \n",
       "2       5001711                            -3   \n",
       "3       5001712                           -18   \n",
       "4       5001713                           -21   \n",
       "\n",
       "   bureau_balance_MOST_RECENT_RECORD  bureau_balance_CREDIT_HISTORY_LENGTH  \n",
       "0                                  0                                    96  \n",
       "1                                  0                                    82  \n",
       "2                                  0                                     3  \n",
       "3                                  0                                    18  \n",
       "4                                  0                                    21  "
      ]
     },
     "metadata": {},
     "output_type": "display_data"
    }
   ],
   "source": [
    "# Group by SK_ID_BUREAU and calculate time-related statistics\n",
    "bureau_balance_time_features = df_bureau_balance.groupby(\"SK_ID_BUREAU\").agg(\n",
    "    bureau_balance_OLDEST_RECORD=(\"MONTHS_BALANCE\", \"min\"),  # Earliest recorded month for the loan\n",
    "    bureau_balance_MOST_RECENT_RECORD=(\"MONTHS_BALANCE\", \"max\"),  # Most recent recorded month for the loan\n",
    "    bureau_balance_CREDIT_HISTORY_LENGTH=(\"MONTHS_BALANCE\", lambda x: x.max() - x.min()),  # Length of recorded history\n",
    ").reset_index()\n",
    "\n",
    "# Preview the new features before merging\n",
    "display(bureau_balance_time_features.head())"
   ]
  },
  {
   "cell_type": "markdown",
   "metadata": {},
   "source": [
    "### 5.3 Credit Overdue Features (`bureau_balance.csv`)"
   ]
  },
  {
   "cell_type": "code",
   "execution_count": 31,
   "metadata": {
    "execution": {
     "iopub.execute_input": "2025-02-03T22:04:05.193024Z",
     "iopub.status.busy": "2025-02-03T22:04:05.192648Z",
     "iopub.status.idle": "2025-02-03T22:12:31.596765Z",
     "shell.execute_reply": "2025-02-03T22:12:31.595703Z",
     "shell.execute_reply.started": "2025-02-03T22:04:05.192997Z"
    }
   },
   "outputs": [
    {
     "data": {
      "text/html": [
       "<div>\n",
       "<style scoped>\n",
       "    .dataframe tbody tr th:only-of-type {\n",
       "        vertical-align: middle;\n",
       "    }\n",
       "\n",
       "    .dataframe tbody tr th {\n",
       "        vertical-align: top;\n",
       "    }\n",
       "\n",
       "    .dataframe thead th {\n",
       "        text-align: right;\n",
       "    }\n",
       "</style>\n",
       "<table border=\"1\" class=\"dataframe\">\n",
       "  <thead>\n",
       "    <tr style=\"text-align: right;\">\n",
       "      <th></th>\n",
       "      <th>SK_ID_BUREAU</th>\n",
       "      <th>bureau_balance_NUM_OVERDUE_MONTHS</th>\n",
       "      <th>bureau_balance_MAX_OVERDUE_STATUS</th>\n",
       "    </tr>\n",
       "  </thead>\n",
       "  <tbody>\n",
       "    <tr>\n",
       "      <th>0</th>\n",
       "      <td>5001709</td>\n",
       "      <td>0</td>\n",
       "      <td>0</td>\n",
       "    </tr>\n",
       "    <tr>\n",
       "      <th>1</th>\n",
       "      <td>5001710</td>\n",
       "      <td>0</td>\n",
       "      <td>0</td>\n",
       "    </tr>\n",
       "    <tr>\n",
       "      <th>2</th>\n",
       "      <td>5001711</td>\n",
       "      <td>0</td>\n",
       "      <td>0</td>\n",
       "    </tr>\n",
       "    <tr>\n",
       "      <th>3</th>\n",
       "      <td>5001712</td>\n",
       "      <td>0</td>\n",
       "      <td>0</td>\n",
       "    </tr>\n",
       "    <tr>\n",
       "      <th>4</th>\n",
       "      <td>5001713</td>\n",
       "      <td>0</td>\n",
       "      <td>0</td>\n",
       "    </tr>\n",
       "  </tbody>\n",
       "</table>\n",
       "</div>"
      ],
      "text/plain": [
       "   SK_ID_BUREAU  bureau_balance_NUM_OVERDUE_MONTHS  \\\n",
       "0       5001709                                  0   \n",
       "1       5001710                                  0   \n",
       "2       5001711                                  0   \n",
       "3       5001712                                  0   \n",
       "4       5001713                                  0   \n",
       "\n",
       "  bureau_balance_MAX_OVERDUE_STATUS  \n",
       "0                                 0  \n",
       "1                                 0  \n",
       "2                                 0  \n",
       "3                                 0  \n",
       "4                                 0  "
      ]
     },
     "metadata": {},
     "output_type": "display_data"
    }
   ],
   "source": [
    "# Define the correct order of STATUS categories\n",
    "status_order = [\"0\", \"1\", \"2\", \"3\", \"4\", \"5\", \"C\", \"X\"]  # Ordered from least to most overdue\n",
    "\n",
    "# Convert STATUS to an ordered categorical variable\n",
    "df_bureau_balance[\"STATUS\"] = pd.Categorical(df_bureau_balance[\"STATUS\"], categories=status_order, ordered=True)\n",
    "\n",
    "# Group by SK_ID_BUREAU and calculate overdue-related statistics\n",
    "bureau_balance_overdue_features = df_bureau_balance.groupby(\"SK_ID_BUREAU\").agg(\n",
    "    bureau_balance_NUM_OVERDUE_MONTHS=(\"STATUS\", lambda x: x.isin([\"1\", \"2\", \"3\", \"4\", \"5\"]).sum()),  # Total overdue months\n",
    "    bureau_balance_MAX_OVERDUE_STATUS=(\"STATUS\", lambda x: x[x.isin([\"1\", \"2\", \"3\", \"4\", \"5\"])].max() if x.isin([\"1\", \"2\", \"3\", \"4\", \"5\"]).any() else \"0\")  # Max overdue level\n",
    ").reset_index()\n",
    "\n",
    "# Preview the new features before merging\n",
    "display(bureau_balance_overdue_features.head())"
   ]
  },
  {
   "cell_type": "markdown",
   "metadata": {},
   "source": [
    "### 5.4 Categorical Features Aggregation (`bureau_balance.csv`)"
   ]
  },
  {
   "cell_type": "code",
   "execution_count": 33,
   "metadata": {
    "execution": {
     "iopub.execute_input": "2025-02-03T22:17:28.202485Z",
     "iopub.status.busy": "2025-02-03T22:17:28.202101Z",
     "iopub.status.idle": "2025-02-03T22:23:17.636778Z",
     "shell.execute_reply": "2025-02-03T22:23:17.635786Z",
     "shell.execute_reply.started": "2025-02-03T22:17:28.202459Z"
    }
   },
   "outputs": [
    {
     "data": {
      "text/html": [
       "<div>\n",
       "<style scoped>\n",
       "    .dataframe tbody tr th:only-of-type {\n",
       "        vertical-align: middle;\n",
       "    }\n",
       "\n",
       "    .dataframe tbody tr th {\n",
       "        vertical-align: top;\n",
       "    }\n",
       "\n",
       "    .dataframe thead th {\n",
       "        text-align: right;\n",
       "    }\n",
       "</style>\n",
       "<table border=\"1\" class=\"dataframe\">\n",
       "  <thead>\n",
       "    <tr style=\"text-align: right;\">\n",
       "      <th></th>\n",
       "      <th>SK_ID_BUREAU</th>\n",
       "      <th>bureau_balance_PERCENT_CLOSED</th>\n",
       "      <th>bureau_balance_PERCENT_ACTIVE</th>\n",
       "      <th>bureau_balance_MOST_COMMON_STATUS</th>\n",
       "    </tr>\n",
       "  </thead>\n",
       "  <tbody>\n",
       "    <tr>\n",
       "      <th>0</th>\n",
       "      <td>5001709</td>\n",
       "      <td>0.886598</td>\n",
       "      <td>0.000000</td>\n",
       "      <td>C</td>\n",
       "    </tr>\n",
       "    <tr>\n",
       "      <th>1</th>\n",
       "      <td>5001710</td>\n",
       "      <td>0.578313</td>\n",
       "      <td>0.060241</td>\n",
       "      <td>C</td>\n",
       "    </tr>\n",
       "    <tr>\n",
       "      <th>2</th>\n",
       "      <td>5001711</td>\n",
       "      <td>0.000000</td>\n",
       "      <td>0.750000</td>\n",
       "      <td>0</td>\n",
       "    </tr>\n",
       "    <tr>\n",
       "      <th>3</th>\n",
       "      <td>5001712</td>\n",
       "      <td>0.473684</td>\n",
       "      <td>0.526316</td>\n",
       "      <td>0</td>\n",
       "    </tr>\n",
       "    <tr>\n",
       "      <th>4</th>\n",
       "      <td>5001713</td>\n",
       "      <td>0.000000</td>\n",
       "      <td>0.000000</td>\n",
       "      <td>X</td>\n",
       "    </tr>\n",
       "  </tbody>\n",
       "</table>\n",
       "</div>"
      ],
      "text/plain": [
       "   SK_ID_BUREAU  bureau_balance_PERCENT_CLOSED  bureau_balance_PERCENT_ACTIVE  \\\n",
       "0       5001709                       0.886598                       0.000000   \n",
       "1       5001710                       0.578313                       0.060241   \n",
       "2       5001711                       0.000000                       0.750000   \n",
       "3       5001712                       0.473684                       0.526316   \n",
       "4       5001713                       0.000000                       0.000000   \n",
       "\n",
       "  bureau_balance_MOST_COMMON_STATUS  \n",
       "0                                 C  \n",
       "1                                 C  \n",
       "2                                 0  \n",
       "3                                 0  \n",
       "4                                 X  "
      ]
     },
     "metadata": {},
     "output_type": "display_data"
    }
   ],
   "source": [
    "# Group by SK_ID_BUREAU and compute categorical aggregations\n",
    "bureau_balance_categorical_features = df_bureau_balance.groupby(\"SK_ID_BUREAU\").agg(\n",
    "    bureau_balance_PERCENT_CLOSED=(\"STATUS\", lambda x: (x == \"C\").sum() / len(x)),  # % of months loan was closed\n",
    "    bureau_balance_PERCENT_ACTIVE=(\"STATUS\", lambda x: (x == \"0\").sum() / len(x)),  # % of months loan was active\n",
    "    bureau_balance_MOST_COMMON_STATUS=(\"STATUS\", lambda x: x.mode()[0] if not x.mode().empty else \"Unknown\")  # Most frequent status\n",
    ").reset_index()\n",
    "\n",
    "# Preview the new features before merging\n",
    "display(bureau_balance_categorical_features.head())"
   ]
  },
  {
   "cell_type": "markdown",
   "metadata": {},
   "source": [
    "## 6. Aggregation (`bureau_balance.csv`)"
   ]
  },
  {
   "cell_type": "markdown",
   "metadata": {},
   "source": [
    "### 6.1 Aggregate All Numeric and Categorical Columns (`bureau_balance.csv`)"
   ]
  },
  {
   "cell_type": "code",
   "execution_count": 39,
   "metadata": {
    "execution": {
     "iopub.execute_input": "2025-02-03T23:08:18.393217Z",
     "iopub.status.busy": "2025-02-03T23:08:18.392804Z",
     "iopub.status.idle": "2025-02-03T23:13:32.966914Z",
     "shell.execute_reply": "2025-02-03T23:13:32.966072Z",
     "shell.execute_reply.started": "2025-02-03T23:08:18.393187Z"
    }
   },
   "outputs": [
    {
     "name": "stdout",
     "output_type": "stream",
     "text": [
      "\n",
      "🔄 Aggregating df_bureau_balance by SK_ID_BUREAU...\n",
      "✅ Aggregation complete. New df_bureau_balance_aggregated shape: (817395, 6)\n"
     ]
    },
    {
     "data": {
      "text/html": [
       "<div>\n",
       "<style scoped>\n",
       "    .dataframe tbody tr th:only-of-type {\n",
       "        vertical-align: middle;\n",
       "    }\n",
       "\n",
       "    .dataframe tbody tr th {\n",
       "        vertical-align: top;\n",
       "    }\n",
       "\n",
       "    .dataframe thead th {\n",
       "        text-align: right;\n",
       "    }\n",
       "</style>\n",
       "<table border=\"1\" class=\"dataframe\">\n",
       "  <thead>\n",
       "    <tr style=\"text-align: right;\">\n",
       "      <th></th>\n",
       "      <th>SK_ID_BUREAU</th>\n",
       "      <th>bureau_balance_agg_MONTHS_BALANCE_mean</th>\n",
       "      <th>bureau_balance_agg_MONTHS_BALANCE_sum</th>\n",
       "      <th>bureau_balance_agg_MONTHS_BALANCE_max</th>\n",
       "      <th>bureau_balance_agg_MONTHS_BALANCE_min</th>\n",
       "      <th>bureau_balance_agg_STATUS_most_frequent</th>\n",
       "    </tr>\n",
       "  </thead>\n",
       "  <tbody>\n",
       "    <tr>\n",
       "      <th>0</th>\n",
       "      <td>5001709</td>\n",
       "      <td>-48.0</td>\n",
       "      <td>-4656</td>\n",
       "      <td>0</td>\n",
       "      <td>-96</td>\n",
       "      <td>C</td>\n",
       "    </tr>\n",
       "    <tr>\n",
       "      <th>1</th>\n",
       "      <td>5001710</td>\n",
       "      <td>-41.0</td>\n",
       "      <td>-3403</td>\n",
       "      <td>0</td>\n",
       "      <td>-82</td>\n",
       "      <td>C</td>\n",
       "    </tr>\n",
       "    <tr>\n",
       "      <th>2</th>\n",
       "      <td>5001711</td>\n",
       "      <td>-1.5</td>\n",
       "      <td>-6</td>\n",
       "      <td>0</td>\n",
       "      <td>-3</td>\n",
       "      <td>0</td>\n",
       "    </tr>\n",
       "    <tr>\n",
       "      <th>3</th>\n",
       "      <td>5001712</td>\n",
       "      <td>-9.0</td>\n",
       "      <td>-171</td>\n",
       "      <td>0</td>\n",
       "      <td>-18</td>\n",
       "      <td>0</td>\n",
       "    </tr>\n",
       "    <tr>\n",
       "      <th>4</th>\n",
       "      <td>5001713</td>\n",
       "      <td>-10.5</td>\n",
       "      <td>-231</td>\n",
       "      <td>0</td>\n",
       "      <td>-21</td>\n",
       "      <td>X</td>\n",
       "    </tr>\n",
       "  </tbody>\n",
       "</table>\n",
       "</div>"
      ],
      "text/plain": [
       "   SK_ID_BUREAU  bureau_balance_agg_MONTHS_BALANCE_mean  \\\n",
       "0       5001709                                   -48.0   \n",
       "1       5001710                                   -41.0   \n",
       "2       5001711                                    -1.5   \n",
       "3       5001712                                    -9.0   \n",
       "4       5001713                                   -10.5   \n",
       "\n",
       "   bureau_balance_agg_MONTHS_BALANCE_sum  \\\n",
       "0                                  -4656   \n",
       "1                                  -3403   \n",
       "2                                     -6   \n",
       "3                                   -171   \n",
       "4                                   -231   \n",
       "\n",
       "   bureau_balance_agg_MONTHS_BALANCE_max  \\\n",
       "0                                      0   \n",
       "1                                      0   \n",
       "2                                      0   \n",
       "3                                      0   \n",
       "4                                      0   \n",
       "\n",
       "   bureau_balance_agg_MONTHS_BALANCE_min  \\\n",
       "0                                    -96   \n",
       "1                                    -82   \n",
       "2                                     -3   \n",
       "3                                    -18   \n",
       "4                                    -21   \n",
       "\n",
       "  bureau_balance_agg_STATUS_most_frequent  \n",
       "0                                       C  \n",
       "1                                       C  \n",
       "2                                       0  \n",
       "3                                       0  \n",
       "4                                       X  "
      ]
     },
     "metadata": {},
     "output_type": "display_data"
    }
   ],
   "source": [
    "# 🔹 Aggregate df_bureau_balance before merging\n",
    "print(\"\\n🔄 Aggregating df_bureau_balance by SK_ID_BUREAU...\")\n",
    "\n",
    "# Select numerical columns (keep SK_ID_BUREAU for grouping)\n",
    "agg_numeric_columns = df_bureau_balance.select_dtypes(include=['number'])\n",
    "\n",
    "# 🔹 Aggregate numerical features (without std for consistency)\n",
    "agg_funcs = ['mean', 'sum', 'max', 'min']\n",
    "agg_numeric = agg_numeric_columns.groupby('SK_ID_BUREAU').agg(agg_funcs)\n",
    "\n",
    "# Rename columns to avoid multi-index issue\n",
    "agg_numeric.columns = ['bureau_balance_agg_' + '_'.join(col) for col in agg_numeric.columns]\n",
    "agg_numeric.reset_index(inplace=True)\n",
    "\n",
    "# 🔹 Optimize categorical feature aggregation\n",
    "agg_categorical_columns = df_bureau_balance.select_dtypes(include=['object', 'category']).drop(columns=['SK_ID_BUREAU'], errors='ignore')\n",
    "\n",
    "if not agg_categorical_columns.empty:\n",
    "    # Instead of mode(), use value_counts().idxmax() for speed\n",
    "    agg_categorical_columns = df_bureau_balance[['SK_ID_BUREAU']].join(agg_categorical_columns)\n",
    "    \n",
    "    agg_categorical = agg_categorical_columns.groupby('SK_ID_BUREAU').agg(lambda x: x.value_counts().idxmax() if not x.empty else \"Unknown\")\n",
    "    agg_categorical.columns = ['bureau_balance_agg_' + col + '_most_frequent' for col in agg_categorical.columns]\n",
    "    agg_categorical.reset_index(inplace=True)\n",
    "\n",
    "    # Merge aggregated numerical and categorical features\n",
    "    df_bureau_balance_aggregated = agg_numeric.merge(agg_categorical, on=\"SK_ID_BUREAU\", how=\"left\")\n",
    "else:\n",
    "    df_bureau_balance_aggregated = agg_numeric\n",
    "\n",
    "# Check new shape\n",
    "print(f\"✅ Aggregation complete. New df_bureau_balance_aggregated shape: {df_bureau_balance_aggregated.shape}\")\n",
    "\n",
    "# Preview the aggregated dataset\n",
    "display(df_bureau_balance_aggregated.head())"
   ]
  },
  {
   "cell_type": "code",
   "execution_count": 41,
   "metadata": {
    "execution": {
     "iopub.execute_input": "2025-02-03T23:26:55.578491Z",
     "iopub.status.busy": "2025-02-03T23:26:55.578072Z",
     "iopub.status.idle": "2025-02-03T23:26:55.809830Z",
     "shell.execute_reply": "2025-02-03T23:26:55.809047Z",
     "shell.execute_reply.started": "2025-02-03T23:26:55.578462Z"
    }
   },
   "outputs": [
    {
     "name": "stdout",
     "output_type": "stream",
     "text": [
      "Unique Loans in df_bureau_balance: 817395\n",
      "Rows in df_bureau_balance_aggregated: 817395\n",
      "   SK_ID_BUREAU  bureau_balance_agg_MONTHS_BALANCE_mean  \\\n",
      "0       5001709                                   -48.0   \n",
      "1       5001710                                   -41.0   \n",
      "2       5001711                                    -1.5   \n",
      "3       5001712                                    -9.0   \n",
      "4       5001713                                   -10.5   \n",
      "\n",
      "   bureau_balance_agg_MONTHS_BALANCE_sum  \\\n",
      "0                                  -4656   \n",
      "1                                  -3403   \n",
      "2                                     -6   \n",
      "3                                   -171   \n",
      "4                                   -231   \n",
      "\n",
      "   bureau_balance_agg_MONTHS_BALANCE_max  \\\n",
      "0                                      0   \n",
      "1                                      0   \n",
      "2                                      0   \n",
      "3                                      0   \n",
      "4                                      0   \n",
      "\n",
      "   bureau_balance_agg_MONTHS_BALANCE_min  \\\n",
      "0                                    -96   \n",
      "1                                    -82   \n",
      "2                                     -3   \n",
      "3                                    -18   \n",
      "4                                    -21   \n",
      "\n",
      "  bureau_balance_agg_STATUS_most_frequent  \n",
      "0                                       C  \n",
      "1                                       C  \n",
      "2                                       0  \n",
      "3                                       0  \n",
      "4                                       X  \n"
     ]
    }
   ],
   "source": [
    "# 🔍 Checking row count before and after aggregation in bureau_balance notebook\n",
    "print(\"Unique Loans in df_bureau_balance:\", df_bureau_balance[\"SK_ID_BUREAU\"].nunique())  # Before aggregation\n",
    "print(\"Rows in df_bureau_balance_aggregated:\", df_bureau_balance_aggregated.shape[0])  # After aggregation\n",
    "\n",
    "# Preview the structure of the aggregated dataset\n",
    "print(df_bureau_balance_aggregated.head())"
   ]
  },
  {
   "cell_type": "markdown",
   "metadata": {},
   "source": [
    "## 7. Merging (`bureau_balance.csv`)"
   ]
  },
  {
   "cell_type": "code",
   "execution_count": 42,
   "metadata": {
    "execution": {
     "iopub.execute_input": "2025-02-03T23:31:35.705116Z",
     "iopub.status.busy": "2025-02-03T23:31:35.704729Z",
     "iopub.status.idle": "2025-02-03T23:31:36.668534Z",
     "shell.execute_reply": "2025-02-03T23:31:36.667469Z",
     "shell.execute_reply.started": "2025-02-03T23:31:35.705089Z"
    }
   },
   "outputs": [
    {
     "name": "stdout",
     "output_type": "stream",
     "text": [
      "✅ Merged bureau_balance_credit_activity: (817395, 6) -> (817395, 10)\n",
      "🛠️ Missing Values in bureau_balance_credit_activity After Merge:\n",
      "Series([], dtype: int64)\n",
      "--------------------------------------------------\n",
      "✅ Merged bureau_balance_time_features: (817395, 10) -> (817395, 13)\n",
      "🛠️ Missing Values in bureau_balance_time_features After Merge:\n",
      "Series([], dtype: int64)\n",
      "--------------------------------------------------\n",
      "✅ Merged bureau_balance_overdue_features: (817395, 13) -> (817395, 15)\n",
      "🛠️ Missing Values in bureau_balance_overdue_features After Merge:\n",
      "Series([], dtype: int64)\n",
      "--------------------------------------------------\n",
      "✅ Merged bureau_balance_categorical_features: (817395, 15) -> (817395, 18)\n",
      "🛠️ Missing Values in bureau_balance_categorical_features After Merge:\n",
      "Series([], dtype: int64)\n",
      "--------------------------------------------------\n",
      "✅ All bureau_balance feature tables merged successfully!\n"
     ]
    }
   ],
   "source": [
    "# Function to safely merge dataframes and print debugging info\n",
    "def safe_merge(df_main, df_new, merge_on=\"SK_ID_BUREAU\", name=\"\"):\n",
    "    \"\"\" Merges two dataframes and prints sanity checks \"\"\"\n",
    "    prev_shape = df_main.shape\n",
    "    df_main = df_main.merge(df_new, on=merge_on, how=\"left\")\n",
    "\n",
    "    print(f\"✅ Merged {name}: {prev_shape} -> {df_main.shape}\")\n",
    "    print(f\"🛠️ Missing Values in {name} After Merge:\\n{df_main.isnull().sum()[df_main.isnull().sum() > 0]}\")\n",
    "    print(\"-\" * 50)\n",
    "\n",
    "    return df_main\n",
    "\n",
    "# Apply Safe Merges for Bureau Balance\n",
    "df_bureau_balance_aggregated = safe_merge(df_bureau_balance_aggregated, bureau_balance_credit_activity, name=\"bureau_balance_credit_activity\")\n",
    "df_bureau_balance_aggregated = safe_merge(df_bureau_balance_aggregated, bureau_balance_time_features, name=\"bureau_balance_time_features\")\n",
    "df_bureau_balance_aggregated = safe_merge(df_bureau_balance_aggregated, bureau_balance_overdue_features, name=\"bureau_balance_overdue_features\")\n",
    "df_bureau_balance_aggregated = safe_merge(df_bureau_balance_aggregated, bureau_balance_categorical_features, name=\"bureau_balance_categorical_features\")\n",
    "\n",
    "print(\"✅ All bureau_balance feature tables merged successfully!\")"
   ]
  },
  {
   "cell_type": "markdown",
   "metadata": {},
   "source": [
    "### 7.1 Feature Validation (`bureau_balance.csv`)"
   ]
  },
  {
   "cell_type": "code",
   "execution_count": 43,
   "metadata": {
    "execution": {
     "iopub.execute_input": "2025-02-03T23:36:58.162966Z",
     "iopub.status.busy": "2025-02-03T23:36:58.162554Z",
     "iopub.status.idle": "2025-02-03T23:36:58.232317Z",
     "shell.execute_reply": "2025-02-03T23:36:58.231283Z",
     "shell.execute_reply.started": "2025-02-03T23:36:58.162933Z"
    }
   },
   "outputs": [
    {
     "name": "stdout",
     "output_type": "stream",
     "text": [
      "\n",
      "🔍 Standard Missing Values in Aggregated Bureau Balance Features After Merging:\n",
      "✅ No standard NaN values detected.\n",
      "\n",
      "🔍 Hidden NaNs (Empty Strings or 'nan' as Text) in Aggregated Bureau Balance Features After Merging:\n",
      "✅ No hidden NaNs detected.\n"
     ]
    }
   ],
   "source": [
    "# Step 1: Check for standard NaN values after merging\n",
    "missing_values_bureau_balance = df_bureau_balance_aggregated.isna().sum()\n",
    "missing_values_bureau_balance = missing_values_bureau_balance[missing_values_bureau_balance > 0]\n",
    "print(\"\\n🔍 Standard Missing Values in Aggregated Bureau Balance Features After Merging:\")\n",
    "print(missing_values_bureau_balance if not missing_values_bureau_balance.empty else \"✅ No standard NaN values detected.\")\n",
    "\n",
    "# Step 2: Check for hidden NaNs (empty strings or \"nan\" stored as a string) after merging\n",
    "hidden_nans_bureau_balance = (df_bureau_balance_aggregated == \"\").sum() + (df_bureau_balance_aggregated == \"nan\").sum()\n",
    "hidden_nans_bureau_balance = hidden_nans_bureau_balance[hidden_nans_bureau_balance > 0]\n",
    "print(\"\\n🔍 Hidden NaNs (Empty Strings or 'nan' as Text) in Aggregated Bureau Balance Features After Merging:\")\n",
    "print(hidden_nans_bureau_balance if not hidden_nans_bureau_balance.empty else \"✅ No hidden NaNs detected.\")"
   ]
  },
  {
   "cell_type": "code",
   "execution_count": 44,
   "metadata": {
    "execution": {
     "iopub.execute_input": "2025-02-03T23:38:53.025518Z",
     "iopub.status.busy": "2025-02-03T23:38:53.025159Z",
     "iopub.status.idle": "2025-02-03T23:38:53.135497Z",
     "shell.execute_reply": "2025-02-03T23:38:53.134647Z",
     "shell.execute_reply.started": "2025-02-03T23:38:53.025493Z"
    }
   },
   "outputs": [
    {
     "name": "stdout",
     "output_type": "stream",
     "text": [
      "\n",
      "🔍 Infinite Values in Aggregated Bureau Balance Features After Merging:\n",
      "✅ No Inf values detected.\n"
     ]
    }
   ],
   "source": [
    "# Step 3: Check for Inf values after merging\n",
    "inf_values_bureau_balance = df_bureau_balance_aggregated.replace([np.inf, -np.inf], np.nan).isna().sum()\n",
    "inf_values_bureau_balance = inf_values_bureau_balance[inf_values_bureau_balance > 0]\n",
    "\n",
    "print(\"\\n🔍 Infinite Values in Aggregated Bureau Balance Features After Merging:\")\n",
    "if inf_values_bureau_balance.empty:\n",
    "    print(\"✅ No Inf values detected.\")\n",
    "else:\n",
    "    print(inf_values_bureau_balance)"
   ]
  },
  {
   "cell_type": "code",
   "execution_count": 45,
   "metadata": {
    "execution": {
     "iopub.execute_input": "2025-02-03T23:40:37.969597Z",
     "iopub.status.busy": "2025-02-03T23:40:37.969204Z",
     "iopub.status.idle": "2025-02-03T23:40:42.891539Z",
     "shell.execute_reply": "2025-02-03T23:40:42.890475Z",
     "shell.execute_reply.started": "2025-02-03T23:40:37.969566Z"
    }
   },
   "outputs": [
    {
     "name": "stdout",
     "output_type": "stream",
     "text": [
      "✅ Bureau balance aggregated dataset saved successfully!\n"
     ]
    }
   ],
   "source": [
    "# Save the final aggregated bureau balance dataset in CSV and Pickle formats\n",
    "df_bureau_balance_aggregated.to_csv(\"bureau_balance_aggregated.csv\", index=False)\n",
    "df_bureau_balance_aggregated.to_pickle(\"bureau_balance_aggregated.pkl\")\n",
    "\n",
    "print(\"✅ Bureau balance aggregated dataset saved successfully!\")"
   ]
  }
 ],
 "metadata": {
  "kaggle": {
   "accelerator": "none",
   "dataSources": [
    {
     "databundleVersionId": 860599,
     "sourceId": 9120,
     "sourceType": "competition"
    }
   ],
   "dockerImageVersionId": 30839,
   "isGpuEnabled": false,
   "isInternetEnabled": true,
   "language": "python",
   "sourceType": "notebook"
  },
  "kernelspec": {
   "display_name": "Python 3 (ipykernel)",
   "language": "python",
   "name": "python3"
  },
  "language_info": {
   "codemirror_mode": {
    "name": "ipython",
    "version": 3
   },
   "file_extension": ".py",
   "mimetype": "text/x-python",
   "name": "python",
   "nbconvert_exporter": "python",
   "pygments_lexer": "ipython3",
   "version": "3.9.12"
  }
 },
 "nbformat": 4,
 "nbformat_minor": 4
}
