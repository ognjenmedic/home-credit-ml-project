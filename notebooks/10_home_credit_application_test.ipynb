{
 "cells": [
  {
   "cell_type": "markdown",
   "id": "945b0676",
   "metadata": {
    "papermill": {
     "duration": 0.011837,
     "end_time": "2025-03-08T16:57:24.960384",
     "exception": false,
     "start_time": "2025-03-08T16:57:24.948547",
     "status": "completed"
    },
    "tags": []
   },
   "source": [
    "# Home Credit Default Risk - Machine Learning Project  \n",
    "\n",
    "## Project Overview  \n",
    "This project aims to predict **loan default risk** using historical credit data provided by the **Home Credit dataset**.  \n",
    "By analyzing multiple financial datasets from past loan applications, we extract insights to improve risk assessment and minimize losses for lenders.  \n",
    "While this model is trained specifically on Home Credit’s dataset, the process—data collection, preprocessing, feature engineering, and modeling—can be adapted to other financial institutions.  \n",
    "\n",
    "## Live Application Deployment  \n",
    "This project is also deployed as an **interactive Angular + Flask application**, allowing users to observe real-time model inference.  \n",
    "🔗 **Try it here:** [Live Loan Default Predictor](https://ai.fullstackista.com/ai-loan-default-predictor/)  \n",
    "\n",
    "### Key Steps in the Project  \n",
    "1. **Understanding the Problem** – Define the objective: predict loan default risk using Home Credit data.  \n",
    "2. **Data Processing & Feature Engineering** – Process multiple datasets, clean missing values, extract features, and aggregate information.  \n",
    "3. **Exploratory Data Analysis (EDA)** – Identify trends, correlations, and risk factors in loan applications.  \n",
    "4. **Merging Datasets** – Integrate primary (`application_train.csv`) and secondary datasets (e.g., `bureau.csv`, `credit_card_balance.csv`) for a unified view.  \n",
    "5. **Model Training & Hyperparameter Tuning** – Train and optimize models (e.g., LightGBM) for predictive performance.  \n",
    "6. **Model Evaluation** – Validate performance using metrics such as AUC-ROC.  \n",
    "7. **Final Prediction** – Apply the trained model to `application_test.csv` and generate predictions.  "
   ]
  },
  {
   "cell_type": "markdown",
   "id": "3d4d8b8a",
   "metadata": {
    "papermill": {
     "duration": 0.012115,
     "end_time": "2025-03-08T16:57:24.983716",
     "exception": false,
     "start_time": "2025-03-08T16:57:24.971601",
     "status": "completed"
    },
    "tags": []
   },
   "source": [
    "## About This Notebook  \n",
    "This notebook processes the `application_test.csv` dataset, which contains loan application data for predictions.  \n",
    "Unlike `application_train.csv`, this dataset does not include the target variable (`TARGET`).  \n",
    "The processed features will be used for generating predictions with the trained model."
   ]
  },
  {
   "cell_type": "markdown",
   "id": "3bf1cd44",
   "metadata": {
    "papermill": {
     "duration": 0.010901,
     "end_time": "2025-03-08T16:57:25.005653",
     "exception": false,
     "start_time": "2025-03-08T16:57:24.994752",
     "status": "completed"
    },
    "tags": []
   },
   "source": [
    "## Project Notebooks  \n",
    "\n",
    "### Main Dataset and Model Training  \n",
    "- [1. Application Train (Main Dataset)](./01_application_train.ipynb)\n",
    "- [2. Model Training and Final Pipeline](./02_model_training_pipeline.ipynb)  \n",
    "\n",
    "### Secondary Datasets Processing  \n",
    "- [3. Bureau Data](./03_bureau_data.ipynb)  \n",
    "- [4. Bureau Balance Data](./04_bureau_balance.ipynb)  \n",
    "- [5. Credit Card Balance](./05_credit_card_balance.ipynb)  \n",
    "- [6. Previous Applications](./06_previous_applications.ipynb)  \n",
    "- [7. POS Cash Balance](./07_pos_cash_balance.ipynb)  \n",
    "- [8. Installments Payments](./08_installments_payments.ipynb)  \n",
    "\n",
    "### Final Prediction  \n",
    "- [9. Model Predictions on Test Data](./09_model_predictions.ipynb)  \n",
    "- [10. Application Test Data Processing](./10_application_test_processing.ipynb) _(Current Notebook)_"
   ]
  },
  {
   "cell_type": "markdown",
   "id": "950b00a5",
   "metadata": {
    "papermill": {
     "duration": 0.010398,
     "end_time": "2025-03-08T16:57:25.026774",
     "exception": false,
     "start_time": "2025-03-08T16:57:25.016376",
     "status": "completed"
    },
    "tags": []
   },
   "source": [
    "# Processing `application_test.csv` (Main Loan Application Data for Predictions)"
   ]
  },
  {
   "cell_type": "markdown",
   "id": "a6cb740a",
   "metadata": {
    "papermill": {
     "duration": 0.011063,
     "end_time": "2025-03-08T16:57:25.048663",
     "exception": false,
     "start_time": "2025-03-08T16:57:25.037600",
     "status": "completed"
    },
    "tags": []
   },
   "source": [
    "## 1. Load Data (`application_test.csv`)\n",
    "We start by loading the dataset and inspecting its structure to understand its key features and statistics."
   ]
  },
  {
   "cell_type": "code",
   "execution_count": 1,
   "id": "39e22a20",
   "metadata": {
    "execution": {
     "iopub.execute_input": "2025-03-08T16:57:25.071954Z",
     "iopub.status.busy": "2025-03-08T16:57:25.071585Z",
     "iopub.status.idle": "2025-03-08T16:57:28.136150Z",
     "shell.execute_reply": "2025-03-08T16:57:28.135262Z"
    },
    "papermill": {
     "duration": 3.078425,
     "end_time": "2025-03-08T16:57:28.138078",
     "exception": false,
     "start_time": "2025-03-08T16:57:25.059653",
     "status": "completed"
    },
    "tags": []
   },
   "outputs": [],
   "source": [
    "# Import Libraries\n",
    "import pandas as pd\n",
    "import numpy as np\n",
    "import seaborn as sns\n",
    "import matplotlib.pyplot as plt\n",
    "import gdown\n",
    "import os\n",
    "\n",
    "import warnings\n",
    "warnings.simplefilter(action='ignore', category=FutureWarning)\n",
    "warnings.simplefilter(action='ignore', category=RuntimeWarning)"
   ]
  },
  {
   "cell_type": "code",
   "execution_count": 2,
   "id": "a78d4e94",
   "metadata": {
    "execution": {
     "iopub.execute_input": "2025-03-08T16:57:28.161615Z",
     "iopub.status.busy": "2025-03-08T16:57:28.161044Z",
     "iopub.status.idle": "2025-03-08T16:57:29.080349Z",
     "shell.execute_reply": "2025-03-08T16:57:29.079374Z"
    },
    "papermill": {
     "duration": 0.932798,
     "end_time": "2025-03-08T16:57:29.082203",
     "exception": false,
     "start_time": "2025-03-08T16:57:28.149405",
     "status": "completed"
    },
    "tags": []
   },
   "outputs": [],
   "source": [
    "# Load dataset \n",
    "df_application_test = pd.read_csv(\"/kaggle/input/home-credit-default-risk/application_test.csv\")"
   ]
  },
  {
   "cell_type": "markdown",
   "id": "3e0efcbd",
   "metadata": {
    "papermill": {
     "duration": 0.010637,
     "end_time": "2025-03-08T16:57:29.104461",
     "exception": false,
     "start_time": "2025-03-08T16:57:29.093824",
     "status": "completed"
    },
    "tags": []
   },
   "source": [
    "## 2. Initial Data Inspection (`application_test.csv`)\n",
    "Before processing, we inspect the dataset for potential issues such as **infinite values**, **missing values**, and other inconsistencies."
   ]
  },
  {
   "cell_type": "markdown",
   "id": "01eaf4c7",
   "metadata": {
    "papermill": {
     "duration": 0.010494,
     "end_time": "2025-03-08T16:57:29.126200",
     "exception": false,
     "start_time": "2025-03-08T16:57:29.115706",
     "status": "completed"
    },
    "tags": []
   },
   "source": [
    "### 2.1 Checking for Infinite Values  \n",
    "Infinite values (e.g., `inf`, `-inf`) can break numerical calculations and should be identified before proceeding.  \n",
    "The code below scans for any **positive or negative infinite values** in the dataset.  "
   ]
  },
  {
   "cell_type": "code",
   "execution_count": 3,
   "id": "57c6f256",
   "metadata": {
    "execution": {
     "iopub.execute_input": "2025-03-08T16:57:29.149150Z",
     "iopub.status.busy": "2025-03-08T16:57:29.148729Z",
     "iopub.status.idle": "2025-03-08T16:57:29.299178Z",
     "shell.execute_reply": "2025-03-08T16:57:29.297908Z"
    },
    "papermill": {
     "duration": 0.164045,
     "end_time": "2025-03-08T16:57:29.300996",
     "exception": false,
     "start_time": "2025-03-08T16:57:29.136951",
     "status": "completed"
    },
    "tags": []
   },
   "outputs": [
    {
     "name": "stdout",
     "output_type": "stream",
     "text": [
      "Checking for infinite values in dataset...\n",
      "✅ No infinite values detected.\n"
     ]
    }
   ],
   "source": [
    "# Check for infinite values\n",
    "print(\"Checking for infinite values in dataset...\")\n",
    "inf_count = (df_application_test == np.inf).sum().sum()\n",
    "neg_inf_count = (df_application_test == -np.inf).sum().sum()\n",
    "\n",
    "if inf_count > 0 or neg_inf_count > 0:\n",
    "    print(f\"⚠️ Found {inf_count} positive and {neg_inf_count} negative infinite values!\")\n",
    "else:\n",
    "    print(\"✅ No infinite values detected.\")"
   ]
  },
  {
   "cell_type": "markdown",
   "id": "5b076bdc",
   "metadata": {
    "papermill": {
     "duration": 0.011908,
     "end_time": "2025-03-08T16:57:29.327575",
     "exception": false,
     "start_time": "2025-03-08T16:57:29.315667",
     "status": "completed"
    },
    "tags": []
   },
   "source": [
    "### 2.2 Checking for Missing Values (NaNs)  \n",
    "Missing values (**NaNs**) can affect model performance and should be handled properly.  \n",
    "Here, we count the number of missing values in each column and print the results."
   ]
  },
  {
   "cell_type": "code",
   "execution_count": 4,
   "id": "8a423fa1",
   "metadata": {
    "execution": {
     "iopub.execute_input": "2025-03-08T16:57:29.355087Z",
     "iopub.status.busy": "2025-03-08T16:57:29.354744Z",
     "iopub.status.idle": "2025-03-08T16:57:29.443962Z",
     "shell.execute_reply": "2025-03-08T16:57:29.442607Z"
    },
    "papermill": {
     "duration": 0.106206,
     "end_time": "2025-03-08T16:57:29.445934",
     "exception": false,
     "start_time": "2025-03-08T16:57:29.339728",
     "status": "completed"
    },
    "tags": []
   },
   "outputs": [
    {
     "name": "stdout",
     "output_type": "stream",
     "text": [
      "⚠️ Missing values detected in columns:\n",
      "AMT_ANNUITY                      24\n",
      "NAME_TYPE_SUITE                 911\n",
      "OWN_CAR_AGE                   32312\n",
      "OCCUPATION_TYPE               15605\n",
      "EXT_SOURCE_1                  20532\n",
      "                              ...  \n",
      "AMT_REQ_CREDIT_BUREAU_DAY      6049\n",
      "AMT_REQ_CREDIT_BUREAU_WEEK     6049\n",
      "AMT_REQ_CREDIT_BUREAU_MON      6049\n",
      "AMT_REQ_CREDIT_BUREAU_QRT      6049\n",
      "AMT_REQ_CREDIT_BUREAU_YEAR     6049\n",
      "Length: 64, dtype: int64\n"
     ]
    }
   ],
   "source": [
    "# Check for missing values\n",
    "missing_values = df_application_test.isnull().sum()\n",
    "missing_values = missing_values[missing_values > 0]  \n",
    "\n",
    "if not missing_values.empty:\n",
    "    print(\"⚠️ Missing values detected in columns:\")\n",
    "    print(missing_values)\n",
    "else:\n",
    "    print(\"✅ No missing values detected.\")"
   ]
  },
  {
   "cell_type": "markdown",
   "id": "fae3782c",
   "metadata": {
    "papermill": {
     "duration": 0.011251,
     "end_time": "2025-03-08T16:57:29.468679",
     "exception": false,
     "start_time": "2025-03-08T16:57:29.457428",
     "status": "completed"
    },
    "tags": []
   },
   "source": [
    "### 2.3 Print Dataset Columns  \n",
    "To get an overview of the dataset structure, we print the column names.  \n",
    "This helps us understand the available features and identify any inconsistencies."
   ]
  },
  {
   "cell_type": "code",
   "execution_count": 5,
   "id": "31c4ca63",
   "metadata": {
    "execution": {
     "iopub.execute_input": "2025-03-08T16:57:29.494310Z",
     "iopub.status.busy": "2025-03-08T16:57:29.493938Z",
     "iopub.status.idle": "2025-03-08T16:57:29.503480Z",
     "shell.execute_reply": "2025-03-08T16:57:29.501733Z"
    },
    "papermill": {
     "duration": 0.024618,
     "end_time": "2025-03-08T16:57:29.505444",
     "exception": false,
     "start_time": "2025-03-08T16:57:29.480826",
     "status": "completed"
    },
    "tags": []
   },
   "outputs": [
    {
     "name": "stdout",
     "output_type": "stream",
     "text": [
      "✅ Data Types:\n",
      "SK_ID_CURR                        int64\n",
      "NAME_CONTRACT_TYPE               object\n",
      "CODE_GENDER                      object\n",
      "FLAG_OWN_CAR                     object\n",
      "FLAG_OWN_REALTY                  object\n",
      "CNT_CHILDREN                      int64\n",
      "AMT_INCOME_TOTAL                float64\n",
      "AMT_CREDIT                      float64\n",
      "AMT_ANNUITY                     float64\n",
      "AMT_GOODS_PRICE                 float64\n",
      "NAME_TYPE_SUITE                  object\n",
      "NAME_INCOME_TYPE                 object\n",
      "NAME_EDUCATION_TYPE              object\n",
      "NAME_FAMILY_STATUS               object\n",
      "NAME_HOUSING_TYPE                object\n",
      "REGION_POPULATION_RELATIVE      float64\n",
      "DAYS_BIRTH                        int64\n",
      "DAYS_EMPLOYED                     int64\n",
      "DAYS_REGISTRATION               float64\n",
      "DAYS_ID_PUBLISH                   int64\n",
      "OWN_CAR_AGE                     float64\n",
      "FLAG_MOBIL                        int64\n",
      "FLAG_EMP_PHONE                    int64\n",
      "FLAG_WORK_PHONE                   int64\n",
      "FLAG_CONT_MOBILE                  int64\n",
      "FLAG_PHONE                        int64\n",
      "FLAG_EMAIL                        int64\n",
      "OCCUPATION_TYPE                  object\n",
      "CNT_FAM_MEMBERS                 float64\n",
      "REGION_RATING_CLIENT              int64\n",
      "REGION_RATING_CLIENT_W_CITY       int64\n",
      "WEEKDAY_APPR_PROCESS_START       object\n",
      "HOUR_APPR_PROCESS_START           int64\n",
      "REG_REGION_NOT_LIVE_REGION        int64\n",
      "REG_REGION_NOT_WORK_REGION        int64\n",
      "LIVE_REGION_NOT_WORK_REGION       int64\n",
      "REG_CITY_NOT_LIVE_CITY            int64\n",
      "REG_CITY_NOT_WORK_CITY            int64\n",
      "LIVE_CITY_NOT_WORK_CITY           int64\n",
      "ORGANIZATION_TYPE                object\n",
      "EXT_SOURCE_1                    float64\n",
      "EXT_SOURCE_2                    float64\n",
      "EXT_SOURCE_3                    float64\n",
      "APARTMENTS_AVG                  float64\n",
      "BASEMENTAREA_AVG                float64\n",
      "YEARS_BEGINEXPLUATATION_AVG     float64\n",
      "YEARS_BUILD_AVG                 float64\n",
      "COMMONAREA_AVG                  float64\n",
      "ELEVATORS_AVG                   float64\n",
      "ENTRANCES_AVG                   float64\n",
      "FLOORSMAX_AVG                   float64\n",
      "FLOORSMIN_AVG                   float64\n",
      "LANDAREA_AVG                    float64\n",
      "LIVINGAPARTMENTS_AVG            float64\n",
      "LIVINGAREA_AVG                  float64\n",
      "NONLIVINGAPARTMENTS_AVG         float64\n",
      "NONLIVINGAREA_AVG               float64\n",
      "APARTMENTS_MODE                 float64\n",
      "BASEMENTAREA_MODE               float64\n",
      "YEARS_BEGINEXPLUATATION_MODE    float64\n",
      "YEARS_BUILD_MODE                float64\n",
      "COMMONAREA_MODE                 float64\n",
      "ELEVATORS_MODE                  float64\n",
      "ENTRANCES_MODE                  float64\n",
      "FLOORSMAX_MODE                  float64\n",
      "FLOORSMIN_MODE                  float64\n",
      "LANDAREA_MODE                   float64\n",
      "LIVINGAPARTMENTS_MODE           float64\n",
      "LIVINGAREA_MODE                 float64\n",
      "NONLIVINGAPARTMENTS_MODE        float64\n",
      "NONLIVINGAREA_MODE              float64\n",
      "APARTMENTS_MEDI                 float64\n",
      "BASEMENTAREA_MEDI               float64\n",
      "YEARS_BEGINEXPLUATATION_MEDI    float64\n",
      "YEARS_BUILD_MEDI                float64\n",
      "COMMONAREA_MEDI                 float64\n",
      "ELEVATORS_MEDI                  float64\n",
      "ENTRANCES_MEDI                  float64\n",
      "FLOORSMAX_MEDI                  float64\n",
      "FLOORSMIN_MEDI                  float64\n",
      "LANDAREA_MEDI                   float64\n",
      "LIVINGAPARTMENTS_MEDI           float64\n",
      "LIVINGAREA_MEDI                 float64\n",
      "NONLIVINGAPARTMENTS_MEDI        float64\n",
      "NONLIVINGAREA_MEDI              float64\n",
      "FONDKAPREMONT_MODE               object\n",
      "HOUSETYPE_MODE                   object\n",
      "TOTALAREA_MODE                  float64\n",
      "WALLSMATERIAL_MODE               object\n",
      "EMERGENCYSTATE_MODE              object\n",
      "OBS_30_CNT_SOCIAL_CIRCLE        float64\n",
      "DEF_30_CNT_SOCIAL_CIRCLE        float64\n",
      "OBS_60_CNT_SOCIAL_CIRCLE        float64\n",
      "DEF_60_CNT_SOCIAL_CIRCLE        float64\n",
      "DAYS_LAST_PHONE_CHANGE          float64\n",
      "FLAG_DOCUMENT_2                   int64\n",
      "FLAG_DOCUMENT_3                   int64\n",
      "FLAG_DOCUMENT_4                   int64\n",
      "FLAG_DOCUMENT_5                   int64\n",
      "FLAG_DOCUMENT_6                   int64\n",
      "FLAG_DOCUMENT_7                   int64\n",
      "FLAG_DOCUMENT_8                   int64\n",
      "FLAG_DOCUMENT_9                   int64\n",
      "FLAG_DOCUMENT_10                  int64\n",
      "FLAG_DOCUMENT_11                  int64\n",
      "FLAG_DOCUMENT_12                  int64\n",
      "FLAG_DOCUMENT_13                  int64\n",
      "FLAG_DOCUMENT_14                  int64\n",
      "FLAG_DOCUMENT_15                  int64\n",
      "FLAG_DOCUMENT_16                  int64\n",
      "FLAG_DOCUMENT_17                  int64\n",
      "FLAG_DOCUMENT_18                  int64\n",
      "FLAG_DOCUMENT_19                  int64\n",
      "FLAG_DOCUMENT_20                  int64\n",
      "FLAG_DOCUMENT_21                  int64\n",
      "AMT_REQ_CREDIT_BUREAU_HOUR      float64\n",
      "AMT_REQ_CREDIT_BUREAU_DAY       float64\n",
      "AMT_REQ_CREDIT_BUREAU_WEEK      float64\n",
      "AMT_REQ_CREDIT_BUREAU_MON       float64\n",
      "AMT_REQ_CREDIT_BUREAU_QRT       float64\n",
      "AMT_REQ_CREDIT_BUREAU_YEAR      float64\n",
      "dtype: object\n"
     ]
    }
   ],
   "source": [
    "# Display all columns and their data types\n",
    "pd.set_option('display.max_rows', None) \n",
    "print(\"✅ Data Types:\")\n",
    "print(df_application_test.dtypes)\n",
    "pd.reset_option('display.max_rows')  "
   ]
  },
  {
   "cell_type": "markdown",
   "id": "5fa60591",
   "metadata": {
    "papermill": {
     "duration": 0.017443,
     "end_time": "2025-03-08T16:57:29.534712",
     "exception": false,
     "start_time": "2025-03-08T16:57:29.517269",
     "status": "completed"
    },
    "tags": []
   },
   "source": [
    "### 2.4 Detecting Extreme Values (Outliers)  \n",
    "\n",
    "Extreme values (**outliers**) can skew model performance and lead to **unstable predictions**.  \n",
    "We detect outliers using **percentile thresholds**:  \n",
    "\n",
    "- **Above the 99th percentile** → Very large values.  \n",
    "- **Below the 1st percentile** → Very small values.  "
   ]
  },
  {
   "cell_type": "code",
   "execution_count": 6,
   "id": "19e4621e",
   "metadata": {
    "execution": {
     "iopub.execute_input": "2025-03-08T16:57:29.559707Z",
     "iopub.status.busy": "2025-03-08T16:57:29.559308Z",
     "iopub.status.idle": "2025-03-08T16:57:29.816359Z",
     "shell.execute_reply": "2025-03-08T16:57:29.815026Z"
    },
    "papermill": {
     "duration": 0.271524,
     "end_time": "2025-03-08T16:57:29.818201",
     "exception": false,
     "start_time": "2025-03-08T16:57:29.546677",
     "status": "completed"
    },
    "tags": []
   },
   "outputs": [
    {
     "name": "stdout",
     "output_type": "stream",
     "text": [
      "Checking for extreme values in dataset using percentile thresholds...\n",
      "⚠️ Columns with very large values (above 99th percentile):\n",
      "CNT_CHILDREN                       20.0\n",
      "AMT_INCOME_TOTAL              4410000.0\n",
      "AMT_CREDIT                    2245500.0\n",
      "AMT_ANNUITY                    180576.0\n",
      "AMT_GOODS_PRICE               2245500.0\n",
      "                                ...    \n",
      "AMT_REQ_CREDIT_BUREAU_DAY           2.0\n",
      "AMT_REQ_CREDIT_BUREAU_WEEK          2.0\n",
      "AMT_REQ_CREDIT_BUREAU_MON           6.0\n",
      "AMT_REQ_CREDIT_BUREAU_QRT           7.0\n",
      "AMT_REQ_CREDIT_BUREAU_YEAR         17.0\n",
      "Length: 71, dtype: float64\n",
      "⚠️ Columns with very small values (below 1st percentile):\n",
      "AMT_INCOME_TOTAL                26941.500000\n",
      "AMT_CREDIT                      45000.000000\n",
      "AMT_ANNUITY                      2295.000000\n",
      "AMT_GOODS_PRICE                 45000.000000\n",
      "REGION_POPULATION_RELATIVE          0.000253\n",
      "DAYS_BIRTH                     -25195.000000\n",
      "DAYS_EMPLOYED                  -17463.000000\n",
      "DAYS_REGISTRATION              -23722.000000\n",
      "OWN_CAR_AGE                         0.000000\n",
      "FLAG_MOBIL                          0.000000\n",
      "FLAG_CONT_MOBILE                    0.000000\n",
      "REGION_RATING_CLIENT_W_CITY        -1.000000\n",
      "HOUR_APPR_PROCESS_START             0.000000\n",
      "EXT_SOURCE_1                        0.013458\n",
      "EXT_SOURCE_2                        0.000008\n",
      "EXT_SOURCE_3                        0.000527\n",
      "APARTMENTS_AVG                      0.000000\n",
      "YEARS_BEGINEXPLUATATION_AVG         0.000000\n",
      "YEARS_BUILD_AVG                     0.000000\n",
      "ENTRANCES_AVG                       0.000000\n",
      "LIVINGAPARTMENTS_AVG                0.000000\n",
      "LIVINGAREA_AVG                      0.000000\n",
      "APARTMENTS_MODE                     0.000000\n",
      "YEARS_BEGINEXPLUATATION_MODE        0.000000\n",
      "YEARS_BUILD_MODE                    0.000000\n",
      "ENTRANCES_MODE                      0.000000\n",
      "LIVINGAPARTMENTS_MODE               0.000000\n",
      "LIVINGAREA_MODE                     0.000000\n",
      "APARTMENTS_MEDI                     0.000000\n",
      "YEARS_BEGINEXPLUATATION_MEDI        0.000000\n",
      "YEARS_BUILD_MEDI                    0.000000\n",
      "ENTRANCES_MEDI                      0.000000\n",
      "LIVINGAPARTMENTS_MEDI               0.000000\n",
      "LIVINGAREA_MEDI                     0.000000\n",
      "TOTALAREA_MODE                      0.000000\n",
      "DAYS_LAST_PHONE_CHANGE          -4361.000000\n",
      "dtype: float64\n"
     ]
    }
   ],
   "source": [
    "# Check for extreme values using percentile-based thresholds\n",
    "print(\"Checking for extreme values in dataset using percentile thresholds...\")\n",
    "\n",
    "# Exclude ID columns from percentile-based detection\n",
    "exclude_cols = ['SK_ID_CURR', 'DAYS_ID_PUBLISH']  \n",
    "numeric_columns = df_application_test.select_dtypes(include=[\"number\"]).drop(columns=exclude_cols, errors='ignore')\n",
    "\n",
    "# Compute percentile-based thresholds\n",
    "upper_threshold = numeric_columns.quantile(0.99)\n",
    "lower_threshold = numeric_columns.quantile(0.01)\n",
    "\n",
    "# Identify extreme values\n",
    "extreme_columns = numeric_columns.max() > upper_threshold\n",
    "small_columns = numeric_columns.min() < lower_threshold\n",
    "\n",
    "# Print results\n",
    "if extreme_columns.any():\n",
    "    print(f\"⚠️ Columns with very large values (above 99th percentile):\\n{numeric_columns.loc[:, extreme_columns].max()}\")\n",
    "if small_columns.any():\n",
    "    print(f\"⚠️ Columns with very small values (below 1st percentile):\\n{numeric_columns.loc[:, small_columns].min()}\")\n",
    "if not extreme_columns.any() and not small_columns.any():\n",
    "    print(\"✅ No extreme values detected.\")\n"
   ]
  },
  {
   "cell_type": "markdown",
   "id": "1d0ac867",
   "metadata": {
    "papermill": {
     "duration": 0.013627,
     "end_time": "2025-03-08T16:57:29.844818",
     "exception": false,
     "start_time": "2025-03-08T16:57:29.831191",
     "status": "completed"
    },
    "tags": []
   },
   "source": [
    "### 2.5 Checking Dataset Shape  \n",
    "\n",
    "The dataset's shape provides a quick view of its size, showing the number of **rows** (loan records) and **columns** (features).  "
   ]
  },
  {
   "cell_type": "code",
   "execution_count": 7,
   "id": "2ebce708",
   "metadata": {
    "execution": {
     "iopub.execute_input": "2025-03-08T16:57:29.875693Z",
     "iopub.status.busy": "2025-03-08T16:57:29.875317Z",
     "iopub.status.idle": "2025-03-08T16:57:29.880706Z",
     "shell.execute_reply": "2025-03-08T16:57:29.879403Z"
    },
    "papermill": {
     "duration": 0.022408,
     "end_time": "2025-03-08T16:57:29.882809",
     "exception": false,
     "start_time": "2025-03-08T16:57:29.860401",
     "status": "completed"
    },
    "tags": []
   },
   "outputs": [
    {
     "name": "stdout",
     "output_type": "stream",
     "text": [
      "DataFrame Shape: (48744, 121)\n"
     ]
    }
   ],
   "source": [
    "# Check the shape of the dataset\n",
    "print(\"DataFrame Shape:\", df_application_test.shape)"
   ]
  },
  {
   "cell_type": "markdown",
   "id": "ba38bef8",
   "metadata": {
    "papermill": {
     "duration": 0.011494,
     "end_time": "2025-03-08T16:57:29.909976",
     "exception": false,
     "start_time": "2025-03-08T16:57:29.898482",
     "status": "completed"
    },
    "tags": []
   },
   "source": [
    "### 2.6 Viewing Sample Data (`head()`)  \n",
    "\n",
    "To understand the dataset, we display the **first few rows**.  \n",
    "This helps verify that data is loaded correctly and gives an initial sense of feature distributions.  "
   ]
  },
  {
   "cell_type": "code",
   "execution_count": 8,
   "id": "25bfd95d",
   "metadata": {
    "execution": {
     "iopub.execute_input": "2025-03-08T16:57:29.934360Z",
     "iopub.status.busy": "2025-03-08T16:57:29.933971Z",
     "iopub.status.idle": "2025-03-08T16:57:29.977039Z",
     "shell.execute_reply": "2025-03-08T16:57:29.975736Z"
    },
    "papermill": {
     "duration": 0.057878,
     "end_time": "2025-03-08T16:57:29.979288",
     "exception": false,
     "start_time": "2025-03-08T16:57:29.921410",
     "status": "completed"
    },
    "tags": []
   },
   "outputs": [
    {
     "name": "stdout",
     "output_type": "stream",
     "text": [
      "First few rows of the DataFrame:\n"
     ]
    },
    {
     "data": {
      "text/html": [
       "<div>\n",
       "<style scoped>\n",
       "    .dataframe tbody tr th:only-of-type {\n",
       "        vertical-align: middle;\n",
       "    }\n",
       "\n",
       "    .dataframe tbody tr th {\n",
       "        vertical-align: top;\n",
       "    }\n",
       "\n",
       "    .dataframe thead th {\n",
       "        text-align: right;\n",
       "    }\n",
       "</style>\n",
       "<table border=\"1\" class=\"dataframe\">\n",
       "  <thead>\n",
       "    <tr style=\"text-align: right;\">\n",
       "      <th></th>\n",
       "      <th>SK_ID_CURR</th>\n",
       "      <th>NAME_CONTRACT_TYPE</th>\n",
       "      <th>CODE_GENDER</th>\n",
       "      <th>FLAG_OWN_CAR</th>\n",
       "      <th>FLAG_OWN_REALTY</th>\n",
       "      <th>CNT_CHILDREN</th>\n",
       "      <th>AMT_INCOME_TOTAL</th>\n",
       "      <th>AMT_CREDIT</th>\n",
       "      <th>AMT_ANNUITY</th>\n",
       "      <th>AMT_GOODS_PRICE</th>\n",
       "      <th>...</th>\n",
       "      <th>FLAG_DOCUMENT_18</th>\n",
       "      <th>FLAG_DOCUMENT_19</th>\n",
       "      <th>FLAG_DOCUMENT_20</th>\n",
       "      <th>FLAG_DOCUMENT_21</th>\n",
       "      <th>AMT_REQ_CREDIT_BUREAU_HOUR</th>\n",
       "      <th>AMT_REQ_CREDIT_BUREAU_DAY</th>\n",
       "      <th>AMT_REQ_CREDIT_BUREAU_WEEK</th>\n",
       "      <th>AMT_REQ_CREDIT_BUREAU_MON</th>\n",
       "      <th>AMT_REQ_CREDIT_BUREAU_QRT</th>\n",
       "      <th>AMT_REQ_CREDIT_BUREAU_YEAR</th>\n",
       "    </tr>\n",
       "  </thead>\n",
       "  <tbody>\n",
       "    <tr>\n",
       "      <th>0</th>\n",
       "      <td>100001</td>\n",
       "      <td>Cash loans</td>\n",
       "      <td>F</td>\n",
       "      <td>N</td>\n",
       "      <td>Y</td>\n",
       "      <td>0</td>\n",
       "      <td>135000.0</td>\n",
       "      <td>568800.0</td>\n",
       "      <td>20560.5</td>\n",
       "      <td>450000.0</td>\n",
       "      <td>...</td>\n",
       "      <td>0</td>\n",
       "      <td>0</td>\n",
       "      <td>0</td>\n",
       "      <td>0</td>\n",
       "      <td>0.0</td>\n",
       "      <td>0.0</td>\n",
       "      <td>0.0</td>\n",
       "      <td>0.0</td>\n",
       "      <td>0.0</td>\n",
       "      <td>0.0</td>\n",
       "    </tr>\n",
       "    <tr>\n",
       "      <th>1</th>\n",
       "      <td>100005</td>\n",
       "      <td>Cash loans</td>\n",
       "      <td>M</td>\n",
       "      <td>N</td>\n",
       "      <td>Y</td>\n",
       "      <td>0</td>\n",
       "      <td>99000.0</td>\n",
       "      <td>222768.0</td>\n",
       "      <td>17370.0</td>\n",
       "      <td>180000.0</td>\n",
       "      <td>...</td>\n",
       "      <td>0</td>\n",
       "      <td>0</td>\n",
       "      <td>0</td>\n",
       "      <td>0</td>\n",
       "      <td>0.0</td>\n",
       "      <td>0.0</td>\n",
       "      <td>0.0</td>\n",
       "      <td>0.0</td>\n",
       "      <td>0.0</td>\n",
       "      <td>3.0</td>\n",
       "    </tr>\n",
       "    <tr>\n",
       "      <th>2</th>\n",
       "      <td>100013</td>\n",
       "      <td>Cash loans</td>\n",
       "      <td>M</td>\n",
       "      <td>Y</td>\n",
       "      <td>Y</td>\n",
       "      <td>0</td>\n",
       "      <td>202500.0</td>\n",
       "      <td>663264.0</td>\n",
       "      <td>69777.0</td>\n",
       "      <td>630000.0</td>\n",
       "      <td>...</td>\n",
       "      <td>0</td>\n",
       "      <td>0</td>\n",
       "      <td>0</td>\n",
       "      <td>0</td>\n",
       "      <td>0.0</td>\n",
       "      <td>0.0</td>\n",
       "      <td>0.0</td>\n",
       "      <td>0.0</td>\n",
       "      <td>1.0</td>\n",
       "      <td>4.0</td>\n",
       "    </tr>\n",
       "    <tr>\n",
       "      <th>3</th>\n",
       "      <td>100028</td>\n",
       "      <td>Cash loans</td>\n",
       "      <td>F</td>\n",
       "      <td>N</td>\n",
       "      <td>Y</td>\n",
       "      <td>2</td>\n",
       "      <td>315000.0</td>\n",
       "      <td>1575000.0</td>\n",
       "      <td>49018.5</td>\n",
       "      <td>1575000.0</td>\n",
       "      <td>...</td>\n",
       "      <td>0</td>\n",
       "      <td>0</td>\n",
       "      <td>0</td>\n",
       "      <td>0</td>\n",
       "      <td>0.0</td>\n",
       "      <td>0.0</td>\n",
       "      <td>0.0</td>\n",
       "      <td>0.0</td>\n",
       "      <td>0.0</td>\n",
       "      <td>3.0</td>\n",
       "    </tr>\n",
       "    <tr>\n",
       "      <th>4</th>\n",
       "      <td>100038</td>\n",
       "      <td>Cash loans</td>\n",
       "      <td>M</td>\n",
       "      <td>Y</td>\n",
       "      <td>N</td>\n",
       "      <td>1</td>\n",
       "      <td>180000.0</td>\n",
       "      <td>625500.0</td>\n",
       "      <td>32067.0</td>\n",
       "      <td>625500.0</td>\n",
       "      <td>...</td>\n",
       "      <td>0</td>\n",
       "      <td>0</td>\n",
       "      <td>0</td>\n",
       "      <td>0</td>\n",
       "      <td>NaN</td>\n",
       "      <td>NaN</td>\n",
       "      <td>NaN</td>\n",
       "      <td>NaN</td>\n",
       "      <td>NaN</td>\n",
       "      <td>NaN</td>\n",
       "    </tr>\n",
       "  </tbody>\n",
       "</table>\n",
       "<p>5 rows × 121 columns</p>\n",
       "</div>"
      ],
      "text/plain": [
       "   SK_ID_CURR NAME_CONTRACT_TYPE CODE_GENDER FLAG_OWN_CAR FLAG_OWN_REALTY  \\\n",
       "0      100001         Cash loans           F            N               Y   \n",
       "1      100005         Cash loans           M            N               Y   \n",
       "2      100013         Cash loans           M            Y               Y   \n",
       "3      100028         Cash loans           F            N               Y   \n",
       "4      100038         Cash loans           M            Y               N   \n",
       "\n",
       "   CNT_CHILDREN  AMT_INCOME_TOTAL  AMT_CREDIT  AMT_ANNUITY  AMT_GOODS_PRICE  \\\n",
       "0             0          135000.0    568800.0      20560.5         450000.0   \n",
       "1             0           99000.0    222768.0      17370.0         180000.0   \n",
       "2             0          202500.0    663264.0      69777.0         630000.0   \n",
       "3             2          315000.0   1575000.0      49018.5        1575000.0   \n",
       "4             1          180000.0    625500.0      32067.0         625500.0   \n",
       "\n",
       "   ... FLAG_DOCUMENT_18 FLAG_DOCUMENT_19 FLAG_DOCUMENT_20 FLAG_DOCUMENT_21  \\\n",
       "0  ...                0                0                0                0   \n",
       "1  ...                0                0                0                0   \n",
       "2  ...                0                0                0                0   \n",
       "3  ...                0                0                0                0   \n",
       "4  ...                0                0                0                0   \n",
       "\n",
       "  AMT_REQ_CREDIT_BUREAU_HOUR  AMT_REQ_CREDIT_BUREAU_DAY  \\\n",
       "0                        0.0                        0.0   \n",
       "1                        0.0                        0.0   \n",
       "2                        0.0                        0.0   \n",
       "3                        0.0                        0.0   \n",
       "4                        NaN                        NaN   \n",
       "\n",
       "   AMT_REQ_CREDIT_BUREAU_WEEK  AMT_REQ_CREDIT_BUREAU_MON  \\\n",
       "0                         0.0                        0.0   \n",
       "1                         0.0                        0.0   \n",
       "2                         0.0                        0.0   \n",
       "3                         0.0                        0.0   \n",
       "4                         NaN                        NaN   \n",
       "\n",
       "   AMT_REQ_CREDIT_BUREAU_QRT  AMT_REQ_CREDIT_BUREAU_YEAR  \n",
       "0                        0.0                         0.0  \n",
       "1                        0.0                         3.0  \n",
       "2                        1.0                         4.0  \n",
       "3                        0.0                         3.0  \n",
       "4                        NaN                         NaN  \n",
       "\n",
       "[5 rows x 121 columns]"
      ]
     },
     "metadata": {},
     "output_type": "display_data"
    }
   ],
   "source": [
    "print(\"First few rows of the DataFrame:\")\n",
    "display(df_application_test.head())"
   ]
  },
  {
   "cell_type": "markdown",
   "id": "ac6d885f",
   "metadata": {
    "papermill": {
     "duration": 0.022638,
     "end_time": "2025-03-08T16:57:30.017583",
     "exception": false,
     "start_time": "2025-03-08T16:57:29.994945",
     "status": "completed"
    },
    "tags": []
   },
   "source": [
    "### 2.7 Dataset Summary (`info()`)  \n",
    "\n",
    "The `info()` function provides:  \n",
    "- **Column names and types** (e.g., integer, float, categorical).  \n",
    "- **Non-null counts** (to check for missing data).  \n",
    "- **Memory usage**, which is useful for optimizing performance.  "
   ]
  },
  {
   "cell_type": "code",
   "execution_count": 9,
   "id": "78d181fb",
   "metadata": {
    "execution": {
     "iopub.execute_input": "2025-03-08T16:57:30.052529Z",
     "iopub.status.busy": "2025-03-08T16:57:30.052049Z",
     "iopub.status.idle": "2025-03-08T16:57:30.079466Z",
     "shell.execute_reply": "2025-03-08T16:57:30.078068Z"
    },
    "papermill": {
     "duration": 0.048229,
     "end_time": "2025-03-08T16:57:30.082184",
     "exception": false,
     "start_time": "2025-03-08T16:57:30.033955",
     "status": "completed"
    },
    "tags": []
   },
   "outputs": [
    {
     "name": "stdout",
     "output_type": "stream",
     "text": [
      "DataFrame Info:\n",
      "<class 'pandas.core.frame.DataFrame'>\n",
      "RangeIndex: 48744 entries, 0 to 48743\n",
      "Columns: 121 entries, SK_ID_CURR to AMT_REQ_CREDIT_BUREAU_YEAR\n",
      "dtypes: float64(65), int64(40), object(16)\n",
      "memory usage: 45.0+ MB\n"
     ]
    }
   ],
   "source": [
    "# Get a concise summary of the DataFrame\n",
    "print(\"DataFrame Info:\")\n",
    "df_application_test.info()"
   ]
  },
  {
   "cell_type": "markdown",
   "id": "b4bd171e",
   "metadata": {
    "papermill": {
     "duration": 0.025119,
     "end_time": "2025-03-08T16:57:30.131395",
     "exception": false,
     "start_time": "2025-03-08T16:57:30.106276",
     "status": "completed"
    },
    "tags": []
   },
   "source": [
    "### 2.8 Descriptive Statistics  \n",
    "\n",
    "We generate summary statistics for:  \n",
    "- **Numeric columns** (`describe()`) → Mean, standard deviation, min/max, and quartiles.  \n",
    "- **Categorical columns** (`describe(include='object')`) → Count of unique values, most frequent categories.  \n",
    "This helps in **understanding distributions** and identifying possible anomalies.  "
   ]
  },
  {
   "cell_type": "code",
   "execution_count": 10,
   "id": "980f89af",
   "metadata": {
    "execution": {
     "iopub.execute_input": "2025-03-08T16:57:30.180851Z",
     "iopub.status.busy": "2025-03-08T16:57:30.180432Z",
     "iopub.status.idle": "2025-03-08T16:57:30.710651Z",
     "shell.execute_reply": "2025-03-08T16:57:30.709506Z"
    },
    "papermill": {
     "duration": 0.557005,
     "end_time": "2025-03-08T16:57:30.712788",
     "exception": false,
     "start_time": "2025-03-08T16:57:30.155783",
     "status": "completed"
    },
    "tags": []
   },
   "outputs": [
    {
     "name": "stdout",
     "output_type": "stream",
     "text": [
      "Descriptive Statistics:\n"
     ]
    },
    {
     "data": {
      "text/html": [
       "<div>\n",
       "<style scoped>\n",
       "    .dataframe tbody tr th:only-of-type {\n",
       "        vertical-align: middle;\n",
       "    }\n",
       "\n",
       "    .dataframe tbody tr th {\n",
       "        vertical-align: top;\n",
       "    }\n",
       "\n",
       "    .dataframe thead th {\n",
       "        text-align: right;\n",
       "    }\n",
       "</style>\n",
       "<table border=\"1\" class=\"dataframe\">\n",
       "  <thead>\n",
       "    <tr style=\"text-align: right;\">\n",
       "      <th></th>\n",
       "      <th>SK_ID_CURR</th>\n",
       "      <th>CNT_CHILDREN</th>\n",
       "      <th>AMT_INCOME_TOTAL</th>\n",
       "      <th>AMT_CREDIT</th>\n",
       "      <th>AMT_ANNUITY</th>\n",
       "      <th>AMT_GOODS_PRICE</th>\n",
       "      <th>REGION_POPULATION_RELATIVE</th>\n",
       "      <th>DAYS_BIRTH</th>\n",
       "      <th>DAYS_EMPLOYED</th>\n",
       "      <th>DAYS_REGISTRATION</th>\n",
       "      <th>...</th>\n",
       "      <th>FLAG_DOCUMENT_18</th>\n",
       "      <th>FLAG_DOCUMENT_19</th>\n",
       "      <th>FLAG_DOCUMENT_20</th>\n",
       "      <th>FLAG_DOCUMENT_21</th>\n",
       "      <th>AMT_REQ_CREDIT_BUREAU_HOUR</th>\n",
       "      <th>AMT_REQ_CREDIT_BUREAU_DAY</th>\n",
       "      <th>AMT_REQ_CREDIT_BUREAU_WEEK</th>\n",
       "      <th>AMT_REQ_CREDIT_BUREAU_MON</th>\n",
       "      <th>AMT_REQ_CREDIT_BUREAU_QRT</th>\n",
       "      <th>AMT_REQ_CREDIT_BUREAU_YEAR</th>\n",
       "    </tr>\n",
       "  </thead>\n",
       "  <tbody>\n",
       "    <tr>\n",
       "      <th>count</th>\n",
       "      <td>48744.000000</td>\n",
       "      <td>48744.000000</td>\n",
       "      <td>4.874400e+04</td>\n",
       "      <td>4.874400e+04</td>\n",
       "      <td>48720.000000</td>\n",
       "      <td>4.874400e+04</td>\n",
       "      <td>48744.000000</td>\n",
       "      <td>48744.000000</td>\n",
       "      <td>48744.000000</td>\n",
       "      <td>48744.000000</td>\n",
       "      <td>...</td>\n",
       "      <td>48744.000000</td>\n",
       "      <td>48744.0</td>\n",
       "      <td>48744.0</td>\n",
       "      <td>48744.0</td>\n",
       "      <td>42695.000000</td>\n",
       "      <td>42695.000000</td>\n",
       "      <td>42695.000000</td>\n",
       "      <td>42695.000000</td>\n",
       "      <td>42695.000000</td>\n",
       "      <td>42695.000000</td>\n",
       "    </tr>\n",
       "    <tr>\n",
       "      <th>mean</th>\n",
       "      <td>277796.676350</td>\n",
       "      <td>0.397054</td>\n",
       "      <td>1.784318e+05</td>\n",
       "      <td>5.167404e+05</td>\n",
       "      <td>29426.240209</td>\n",
       "      <td>4.626188e+05</td>\n",
       "      <td>0.021226</td>\n",
       "      <td>-16068.084605</td>\n",
       "      <td>67485.366322</td>\n",
       "      <td>-4967.652716</td>\n",
       "      <td>...</td>\n",
       "      <td>0.001559</td>\n",
       "      <td>0.0</td>\n",
       "      <td>0.0</td>\n",
       "      <td>0.0</td>\n",
       "      <td>0.002108</td>\n",
       "      <td>0.001803</td>\n",
       "      <td>0.002787</td>\n",
       "      <td>0.009299</td>\n",
       "      <td>0.546902</td>\n",
       "      <td>1.983769</td>\n",
       "    </tr>\n",
       "    <tr>\n",
       "      <th>std</th>\n",
       "      <td>103169.547296</td>\n",
       "      <td>0.709047</td>\n",
       "      <td>1.015226e+05</td>\n",
       "      <td>3.653970e+05</td>\n",
       "      <td>16016.368315</td>\n",
       "      <td>3.367102e+05</td>\n",
       "      <td>0.014428</td>\n",
       "      <td>4325.900393</td>\n",
       "      <td>144348.507136</td>\n",
       "      <td>3552.612035</td>\n",
       "      <td>...</td>\n",
       "      <td>0.039456</td>\n",
       "      <td>0.0</td>\n",
       "      <td>0.0</td>\n",
       "      <td>0.0</td>\n",
       "      <td>0.046373</td>\n",
       "      <td>0.046132</td>\n",
       "      <td>0.054037</td>\n",
       "      <td>0.110924</td>\n",
       "      <td>0.693305</td>\n",
       "      <td>1.838873</td>\n",
       "    </tr>\n",
       "    <tr>\n",
       "      <th>min</th>\n",
       "      <td>100001.000000</td>\n",
       "      <td>0.000000</td>\n",
       "      <td>2.694150e+04</td>\n",
       "      <td>4.500000e+04</td>\n",
       "      <td>2295.000000</td>\n",
       "      <td>4.500000e+04</td>\n",
       "      <td>0.000253</td>\n",
       "      <td>-25195.000000</td>\n",
       "      <td>-17463.000000</td>\n",
       "      <td>-23722.000000</td>\n",
       "      <td>...</td>\n",
       "      <td>0.000000</td>\n",
       "      <td>0.0</td>\n",
       "      <td>0.0</td>\n",
       "      <td>0.0</td>\n",
       "      <td>0.000000</td>\n",
       "      <td>0.000000</td>\n",
       "      <td>0.000000</td>\n",
       "      <td>0.000000</td>\n",
       "      <td>0.000000</td>\n",
       "      <td>0.000000</td>\n",
       "    </tr>\n",
       "    <tr>\n",
       "      <th>25%</th>\n",
       "      <td>188557.750000</td>\n",
       "      <td>0.000000</td>\n",
       "      <td>1.125000e+05</td>\n",
       "      <td>2.606400e+05</td>\n",
       "      <td>17973.000000</td>\n",
       "      <td>2.250000e+05</td>\n",
       "      <td>0.010006</td>\n",
       "      <td>-19637.000000</td>\n",
       "      <td>-2910.000000</td>\n",
       "      <td>-7459.250000</td>\n",
       "      <td>...</td>\n",
       "      <td>0.000000</td>\n",
       "      <td>0.0</td>\n",
       "      <td>0.0</td>\n",
       "      <td>0.0</td>\n",
       "      <td>0.000000</td>\n",
       "      <td>0.000000</td>\n",
       "      <td>0.000000</td>\n",
       "      <td>0.000000</td>\n",
       "      <td>0.000000</td>\n",
       "      <td>0.000000</td>\n",
       "    </tr>\n",
       "    <tr>\n",
       "      <th>50%</th>\n",
       "      <td>277549.000000</td>\n",
       "      <td>0.000000</td>\n",
       "      <td>1.575000e+05</td>\n",
       "      <td>4.500000e+05</td>\n",
       "      <td>26199.000000</td>\n",
       "      <td>3.960000e+05</td>\n",
       "      <td>0.018850</td>\n",
       "      <td>-15785.000000</td>\n",
       "      <td>-1293.000000</td>\n",
       "      <td>-4490.000000</td>\n",
       "      <td>...</td>\n",
       "      <td>0.000000</td>\n",
       "      <td>0.0</td>\n",
       "      <td>0.0</td>\n",
       "      <td>0.0</td>\n",
       "      <td>0.000000</td>\n",
       "      <td>0.000000</td>\n",
       "      <td>0.000000</td>\n",
       "      <td>0.000000</td>\n",
       "      <td>0.000000</td>\n",
       "      <td>2.000000</td>\n",
       "    </tr>\n",
       "    <tr>\n",
       "      <th>75%</th>\n",
       "      <td>367555.500000</td>\n",
       "      <td>1.000000</td>\n",
       "      <td>2.250000e+05</td>\n",
       "      <td>6.750000e+05</td>\n",
       "      <td>37390.500000</td>\n",
       "      <td>6.300000e+05</td>\n",
       "      <td>0.028663</td>\n",
       "      <td>-12496.000000</td>\n",
       "      <td>-296.000000</td>\n",
       "      <td>-1901.000000</td>\n",
       "      <td>...</td>\n",
       "      <td>0.000000</td>\n",
       "      <td>0.0</td>\n",
       "      <td>0.0</td>\n",
       "      <td>0.0</td>\n",
       "      <td>0.000000</td>\n",
       "      <td>0.000000</td>\n",
       "      <td>0.000000</td>\n",
       "      <td>0.000000</td>\n",
       "      <td>1.000000</td>\n",
       "      <td>3.000000</td>\n",
       "    </tr>\n",
       "    <tr>\n",
       "      <th>max</th>\n",
       "      <td>456250.000000</td>\n",
       "      <td>20.000000</td>\n",
       "      <td>4.410000e+06</td>\n",
       "      <td>2.245500e+06</td>\n",
       "      <td>180576.000000</td>\n",
       "      <td>2.245500e+06</td>\n",
       "      <td>0.072508</td>\n",
       "      <td>-7338.000000</td>\n",
       "      <td>365243.000000</td>\n",
       "      <td>0.000000</td>\n",
       "      <td>...</td>\n",
       "      <td>1.000000</td>\n",
       "      <td>0.0</td>\n",
       "      <td>0.0</td>\n",
       "      <td>0.0</td>\n",
       "      <td>2.000000</td>\n",
       "      <td>2.000000</td>\n",
       "      <td>2.000000</td>\n",
       "      <td>6.000000</td>\n",
       "      <td>7.000000</td>\n",
       "      <td>17.000000</td>\n",
       "    </tr>\n",
       "  </tbody>\n",
       "</table>\n",
       "<p>8 rows × 105 columns</p>\n",
       "</div>"
      ],
      "text/plain": [
       "          SK_ID_CURR  CNT_CHILDREN  AMT_INCOME_TOTAL    AMT_CREDIT  \\\n",
       "count   48744.000000  48744.000000      4.874400e+04  4.874400e+04   \n",
       "mean   277796.676350      0.397054      1.784318e+05  5.167404e+05   \n",
       "std    103169.547296      0.709047      1.015226e+05  3.653970e+05   \n",
       "min    100001.000000      0.000000      2.694150e+04  4.500000e+04   \n",
       "25%    188557.750000      0.000000      1.125000e+05  2.606400e+05   \n",
       "50%    277549.000000      0.000000      1.575000e+05  4.500000e+05   \n",
       "75%    367555.500000      1.000000      2.250000e+05  6.750000e+05   \n",
       "max    456250.000000     20.000000      4.410000e+06  2.245500e+06   \n",
       "\n",
       "         AMT_ANNUITY  AMT_GOODS_PRICE  REGION_POPULATION_RELATIVE  \\\n",
       "count   48720.000000     4.874400e+04                48744.000000   \n",
       "mean    29426.240209     4.626188e+05                    0.021226   \n",
       "std     16016.368315     3.367102e+05                    0.014428   \n",
       "min      2295.000000     4.500000e+04                    0.000253   \n",
       "25%     17973.000000     2.250000e+05                    0.010006   \n",
       "50%     26199.000000     3.960000e+05                    0.018850   \n",
       "75%     37390.500000     6.300000e+05                    0.028663   \n",
       "max    180576.000000     2.245500e+06                    0.072508   \n",
       "\n",
       "         DAYS_BIRTH  DAYS_EMPLOYED  DAYS_REGISTRATION  ...  FLAG_DOCUMENT_18  \\\n",
       "count  48744.000000   48744.000000       48744.000000  ...      48744.000000   \n",
       "mean  -16068.084605   67485.366322       -4967.652716  ...          0.001559   \n",
       "std     4325.900393  144348.507136        3552.612035  ...          0.039456   \n",
       "min   -25195.000000  -17463.000000      -23722.000000  ...          0.000000   \n",
       "25%   -19637.000000   -2910.000000       -7459.250000  ...          0.000000   \n",
       "50%   -15785.000000   -1293.000000       -4490.000000  ...          0.000000   \n",
       "75%   -12496.000000    -296.000000       -1901.000000  ...          0.000000   \n",
       "max    -7338.000000  365243.000000           0.000000  ...          1.000000   \n",
       "\n",
       "       FLAG_DOCUMENT_19  FLAG_DOCUMENT_20  FLAG_DOCUMENT_21  \\\n",
       "count           48744.0           48744.0           48744.0   \n",
       "mean                0.0               0.0               0.0   \n",
       "std                 0.0               0.0               0.0   \n",
       "min                 0.0               0.0               0.0   \n",
       "25%                 0.0               0.0               0.0   \n",
       "50%                 0.0               0.0               0.0   \n",
       "75%                 0.0               0.0               0.0   \n",
       "max                 0.0               0.0               0.0   \n",
       "\n",
       "       AMT_REQ_CREDIT_BUREAU_HOUR  AMT_REQ_CREDIT_BUREAU_DAY  \\\n",
       "count                42695.000000               42695.000000   \n",
       "mean                     0.002108                   0.001803   \n",
       "std                      0.046373                   0.046132   \n",
       "min                      0.000000                   0.000000   \n",
       "25%                      0.000000                   0.000000   \n",
       "50%                      0.000000                   0.000000   \n",
       "75%                      0.000000                   0.000000   \n",
       "max                      2.000000                   2.000000   \n",
       "\n",
       "       AMT_REQ_CREDIT_BUREAU_WEEK  AMT_REQ_CREDIT_BUREAU_MON  \\\n",
       "count                42695.000000               42695.000000   \n",
       "mean                     0.002787                   0.009299   \n",
       "std                      0.054037                   0.110924   \n",
       "min                      0.000000                   0.000000   \n",
       "25%                      0.000000                   0.000000   \n",
       "50%                      0.000000                   0.000000   \n",
       "75%                      0.000000                   0.000000   \n",
       "max                      2.000000                   6.000000   \n",
       "\n",
       "       AMT_REQ_CREDIT_BUREAU_QRT  AMT_REQ_CREDIT_BUREAU_YEAR  \n",
       "count               42695.000000                42695.000000  \n",
       "mean                    0.546902                    1.983769  \n",
       "std                     0.693305                    1.838873  \n",
       "min                     0.000000                    0.000000  \n",
       "25%                     0.000000                    0.000000  \n",
       "50%                     0.000000                    2.000000  \n",
       "75%                     1.000000                    3.000000  \n",
       "max                     7.000000                   17.000000  \n",
       "\n",
       "[8 rows x 105 columns]"
      ]
     },
     "metadata": {},
     "output_type": "display_data"
    },
    {
     "data": {
      "text/html": [
       "<div>\n",
       "<style scoped>\n",
       "    .dataframe tbody tr th:only-of-type {\n",
       "        vertical-align: middle;\n",
       "    }\n",
       "\n",
       "    .dataframe tbody tr th {\n",
       "        vertical-align: top;\n",
       "    }\n",
       "\n",
       "    .dataframe thead th {\n",
       "        text-align: right;\n",
       "    }\n",
       "</style>\n",
       "<table border=\"1\" class=\"dataframe\">\n",
       "  <thead>\n",
       "    <tr style=\"text-align: right;\">\n",
       "      <th></th>\n",
       "      <th>NAME_CONTRACT_TYPE</th>\n",
       "      <th>CODE_GENDER</th>\n",
       "      <th>FLAG_OWN_CAR</th>\n",
       "      <th>FLAG_OWN_REALTY</th>\n",
       "      <th>NAME_TYPE_SUITE</th>\n",
       "      <th>NAME_INCOME_TYPE</th>\n",
       "      <th>NAME_EDUCATION_TYPE</th>\n",
       "      <th>NAME_FAMILY_STATUS</th>\n",
       "      <th>NAME_HOUSING_TYPE</th>\n",
       "      <th>OCCUPATION_TYPE</th>\n",
       "      <th>WEEKDAY_APPR_PROCESS_START</th>\n",
       "      <th>ORGANIZATION_TYPE</th>\n",
       "      <th>FONDKAPREMONT_MODE</th>\n",
       "      <th>HOUSETYPE_MODE</th>\n",
       "      <th>WALLSMATERIAL_MODE</th>\n",
       "      <th>EMERGENCYSTATE_MODE</th>\n",
       "    </tr>\n",
       "  </thead>\n",
       "  <tbody>\n",
       "    <tr>\n",
       "      <th>count</th>\n",
       "      <td>48744</td>\n",
       "      <td>48744</td>\n",
       "      <td>48744</td>\n",
       "      <td>48744</td>\n",
       "      <td>47833</td>\n",
       "      <td>48744</td>\n",
       "      <td>48744</td>\n",
       "      <td>48744</td>\n",
       "      <td>48744</td>\n",
       "      <td>33139</td>\n",
       "      <td>48744</td>\n",
       "      <td>48744</td>\n",
       "      <td>15947</td>\n",
       "      <td>25125</td>\n",
       "      <td>24851</td>\n",
       "      <td>26535</td>\n",
       "    </tr>\n",
       "    <tr>\n",
       "      <th>unique</th>\n",
       "      <td>2</td>\n",
       "      <td>2</td>\n",
       "      <td>2</td>\n",
       "      <td>2</td>\n",
       "      <td>7</td>\n",
       "      <td>7</td>\n",
       "      <td>5</td>\n",
       "      <td>5</td>\n",
       "      <td>6</td>\n",
       "      <td>18</td>\n",
       "      <td>7</td>\n",
       "      <td>58</td>\n",
       "      <td>4</td>\n",
       "      <td>3</td>\n",
       "      <td>7</td>\n",
       "      <td>2</td>\n",
       "    </tr>\n",
       "    <tr>\n",
       "      <th>top</th>\n",
       "      <td>Cash loans</td>\n",
       "      <td>F</td>\n",
       "      <td>N</td>\n",
       "      <td>Y</td>\n",
       "      <td>Unaccompanied</td>\n",
       "      <td>Working</td>\n",
       "      <td>Secondary / secondary special</td>\n",
       "      <td>Married</td>\n",
       "      <td>House / apartment</td>\n",
       "      <td>Laborers</td>\n",
       "      <td>TUESDAY</td>\n",
       "      <td>Business Entity Type 3</td>\n",
       "      <td>reg oper account</td>\n",
       "      <td>block of flats</td>\n",
       "      <td>Panel</td>\n",
       "      <td>No</td>\n",
       "    </tr>\n",
       "    <tr>\n",
       "      <th>freq</th>\n",
       "      <td>48305</td>\n",
       "      <td>32678</td>\n",
       "      <td>32311</td>\n",
       "      <td>33658</td>\n",
       "      <td>39727</td>\n",
       "      <td>24533</td>\n",
       "      <td>33988</td>\n",
       "      <td>32283</td>\n",
       "      <td>43645</td>\n",
       "      <td>8655</td>\n",
       "      <td>9751</td>\n",
       "      <td>10840</td>\n",
       "      <td>12124</td>\n",
       "      <td>24659</td>\n",
       "      <td>11269</td>\n",
       "      <td>26179</td>\n",
       "    </tr>\n",
       "  </tbody>\n",
       "</table>\n",
       "</div>"
      ],
      "text/plain": [
       "       NAME_CONTRACT_TYPE CODE_GENDER FLAG_OWN_CAR FLAG_OWN_REALTY  \\\n",
       "count               48744       48744        48744           48744   \n",
       "unique                  2           2            2               2   \n",
       "top            Cash loans           F            N               Y   \n",
       "freq                48305       32678        32311           33658   \n",
       "\n",
       "       NAME_TYPE_SUITE NAME_INCOME_TYPE            NAME_EDUCATION_TYPE  \\\n",
       "count            47833            48744                          48744   \n",
       "unique               7                7                              5   \n",
       "top      Unaccompanied          Working  Secondary / secondary special   \n",
       "freq             39727            24533                          33988   \n",
       "\n",
       "       NAME_FAMILY_STATUS  NAME_HOUSING_TYPE OCCUPATION_TYPE  \\\n",
       "count               48744              48744           33139   \n",
       "unique                  5                  6              18   \n",
       "top               Married  House / apartment        Laborers   \n",
       "freq                32283              43645            8655   \n",
       "\n",
       "       WEEKDAY_APPR_PROCESS_START       ORGANIZATION_TYPE FONDKAPREMONT_MODE  \\\n",
       "count                       48744                   48744              15947   \n",
       "unique                          7                      58                  4   \n",
       "top                       TUESDAY  Business Entity Type 3   reg oper account   \n",
       "freq                         9751                   10840              12124   \n",
       "\n",
       "        HOUSETYPE_MODE WALLSMATERIAL_MODE EMERGENCYSTATE_MODE  \n",
       "count            25125              24851               26535  \n",
       "unique               3                  7                   2  \n",
       "top     block of flats              Panel                  No  \n",
       "freq             24659              11269               26179  "
      ]
     },
     "metadata": {},
     "output_type": "display_data"
    }
   ],
   "source": [
    "# Get summary statistics of numeric columns\n",
    "print(\"Descriptive Statistics:\")\n",
    "display(df_application_test.describe())\n",
    "display(df_application_test.describe(include=\"object\"))"
   ]
  },
  {
   "cell_type": "markdown",
   "id": "7c5564b5",
   "metadata": {
    "papermill": {
     "duration": 0.012449,
     "end_time": "2025-03-08T16:57:30.738113",
     "exception": false,
     "start_time": "2025-03-08T16:57:30.725664",
     "status": "completed"
    },
    "tags": []
   },
   "source": [
    "## 3. Initial Data Cleaning (`application_test.csv`)\n",
    "After identifying potential issues, we clean the dataset by handling **infinite values, categorical features, and potential misclassified columns**."
   ]
  },
  {
   "cell_type": "markdown",
   "id": "b76124ea",
   "metadata": {
    "papermill": {
     "duration": 0.013127,
     "end_time": "2025-03-08T16:57:30.763872",
     "exception": false,
     "start_time": "2025-03-08T16:57:30.750745",
     "status": "completed"
    },
    "tags": []
   },
   "source": [
    "### 3.1 Replacing Infinite Values  \n",
    "Since infinite values (`inf`, `-inf`) can interfere with model training, we replace them with `NaN` to handle them properly later.  "
   ]
  },
  {
   "cell_type": "code",
   "execution_count": 11,
   "id": "9b605db9",
   "metadata": {
    "execution": {
     "iopub.execute_input": "2025-03-08T16:57:30.809083Z",
     "iopub.status.busy": "2025-03-08T16:57:30.808705Z",
     "iopub.status.idle": "2025-03-08T16:57:30.926111Z",
     "shell.execute_reply": "2025-03-08T16:57:30.924931Z"
    },
    "papermill": {
     "duration": 0.143279,
     "end_time": "2025-03-08T16:57:30.927929",
     "exception": false,
     "start_time": "2025-03-08T16:57:30.784650",
     "status": "completed"
    },
    "tags": []
   },
   "outputs": [
    {
     "name": "stdout",
     "output_type": "stream",
     "text": [
      "✅ Infinite values replaced with NaN.\n"
     ]
    }
   ],
   "source": [
    "# Replace infinite values with NaN before handling missing values\n",
    "df_application_test.replace([np.inf, -np.inf], np.nan, inplace=True)\n",
    "print(\"✅ Infinite values replaced with NaN.\")"
   ]
  },
  {
   "cell_type": "markdown",
   "id": "9d922b96",
   "metadata": {
    "papermill": {
     "duration": 0.014172,
     "end_time": "2025-03-08T16:57:30.954956",
     "exception": false,
     "start_time": "2025-03-08T16:57:30.940784",
     "status": "completed"
    },
    "tags": []
   },
   "source": [
    "### 3.2 Converting Categorical Features  \n",
    "Some columns are stored as `object` or numeric types but should be categorical.  \n",
    "We identify and convert relevant columns to the **category dtype** for efficiency and proper encoding.  "
   ]
  },
  {
   "cell_type": "code",
   "execution_count": 12,
   "id": "e2bc191f",
   "metadata": {
    "execution": {
     "iopub.execute_input": "2025-03-08T16:57:30.981464Z",
     "iopub.status.busy": "2025-03-08T16:57:30.981123Z",
     "iopub.status.idle": "2025-03-08T16:57:31.301423Z",
     "shell.execute_reply": "2025-03-08T16:57:31.300204Z"
    },
    "papermill": {
     "duration": 0.33541,
     "end_time": "2025-03-08T16:57:31.303128",
     "exception": false,
     "start_time": "2025-03-08T16:57:30.967718",
     "status": "completed"
    },
    "tags": []
   },
   "outputs": [
    {
     "name": "stdout",
     "output_type": "stream",
     "text": [
      "✅ Converted categorical columns: ['NAME_CONTRACT_TYPE', 'CODE_GENDER', 'FLAG_OWN_CAR', 'FLAG_OWN_REALTY', 'NAME_TYPE_SUITE', 'NAME_INCOME_TYPE', 'NAME_EDUCATION_TYPE', 'NAME_FAMILY_STATUS', 'NAME_HOUSING_TYPE', 'OCCUPATION_TYPE', 'WEEKDAY_APPR_PROCESS_START', 'ORGANIZATION_TYPE', 'FONDKAPREMONT_MODE', 'HOUSETYPE_MODE', 'WALLSMATERIAL_MODE', 'EMERGENCYSTATE_MODE', 'CNT_CHILDREN', 'FLAG_MOBIL', 'FLAG_EMP_PHONE', 'FLAG_WORK_PHONE', 'FLAG_CONT_MOBILE', 'FLAG_PHONE', 'FLAG_EMAIL', 'CNT_FAM_MEMBERS', 'REGION_RATING_CLIENT', 'REGION_RATING_CLIENT_W_CITY', 'REG_REGION_NOT_LIVE_REGION', 'REG_REGION_NOT_WORK_REGION', 'LIVE_REGION_NOT_WORK_REGION', 'REG_CITY_NOT_LIVE_CITY', 'REG_CITY_NOT_WORK_CITY', 'LIVE_CITY_NOT_WORK_CITY', 'DEF_30_CNT_SOCIAL_CIRCLE', 'DEF_60_CNT_SOCIAL_CIRCLE', 'FLAG_DOCUMENT_2', 'FLAG_DOCUMENT_3', 'FLAG_DOCUMENT_4', 'FLAG_DOCUMENT_5', 'FLAG_DOCUMENT_6', 'FLAG_DOCUMENT_7', 'FLAG_DOCUMENT_8', 'FLAG_DOCUMENT_9', 'FLAG_DOCUMENT_10', 'FLAG_DOCUMENT_11', 'FLAG_DOCUMENT_12', 'FLAG_DOCUMENT_13', 'FLAG_DOCUMENT_14', 'FLAG_DOCUMENT_15', 'FLAG_DOCUMENT_16', 'FLAG_DOCUMENT_17', 'FLAG_DOCUMENT_18', 'FLAG_DOCUMENT_19', 'FLAG_DOCUMENT_20', 'FLAG_DOCUMENT_21', 'AMT_REQ_CREDIT_BUREAU_HOUR', 'AMT_REQ_CREDIT_BUREAU_DAY', 'AMT_REQ_CREDIT_BUREAU_WEEK', 'AMT_REQ_CREDIT_BUREAU_MON', 'AMT_REQ_CREDIT_BUREAU_QRT', 'AMT_REQ_CREDIT_BUREAU_YEAR']\n",
      "\n",
      "Checking final dtype distribution:\n",
      "float64     56\n",
      "category    21\n",
      "category    11\n",
      "int64        5\n",
      "category     3\n",
      "category     2\n",
      "category     1\n",
      "category     1\n",
      "category     1\n",
      "category     1\n",
      "category     1\n",
      "category     1\n",
      "category     1\n",
      "category     1\n",
      "category     1\n",
      "category     1\n",
      "category     1\n",
      "category     1\n",
      "category     1\n",
      "category     1\n",
      "category     1\n",
      "category     1\n",
      "category     1\n",
      "category     1\n",
      "category     1\n",
      "category     1\n",
      "category     1\n",
      "category     1\n",
      "category     1\n",
      "Name: count, dtype: int64\n"
     ]
    }
   ],
   "source": [
    "# Step 1: Identify categorical columns\n",
    "categorical_candidates = df_application_test.select_dtypes(include=['object']).columns.tolist()\n",
    "\n",
    "# Step 2: Identify numeric columns with low unique values (possible categorical)\n",
    "low_unique_counts = df_application_test.nunique()\n",
    "numeric_categoricals = low_unique_counts[\n",
    "    (low_unique_counts < 20) & (df_application_test.dtypes != 'object')\n",
    "].index.tolist()\n",
    "\n",
    "# Step 3: Combine all categorical columns\n",
    "final_categorical_columns = categorical_candidates + numeric_categoricals\n",
    "\n",
    "# Step 4: Convert detected columns to 'category' dtype\n",
    "if final_categorical_columns:\n",
    "    df_application_test[final_categorical_columns] = df_application_test[final_categorical_columns].astype(\"category\")\n",
    "    print(f\"✅ Converted categorical columns: {final_categorical_columns}\")\n",
    "else:\n",
    "    print(\"✅ No categorical columns detected in this dataset. No dtype conversion needed.\")\n",
    "\n",
    "# Step 5: Manual Verification\n",
    "print(\"\\nChecking final dtype distribution:\")\n",
    "print(df_application_test.dtypes.value_counts())"
   ]
  },
  {
   "cell_type": "markdown",
   "id": "16297828",
   "metadata": {
    "papermill": {
     "duration": 0.012521,
     "end_time": "2025-03-08T16:57:31.328631",
     "exception": false,
     "start_time": "2025-03-08T16:57:31.316110",
     "status": "completed"
    },
    "tags": []
   },
   "source": [
    "### 3.3 Final Dtype Adjustments  \n",
    "After the initial programmatic conversion, we manually adjust specific columns to ensure correct data types.  "
   ]
  },
  {
   "cell_type": "code",
   "execution_count": 13,
   "id": "37d4d18b",
   "metadata": {
    "execution": {
     "iopub.execute_input": "2025-03-08T16:57:31.355383Z",
     "iopub.status.busy": "2025-03-08T16:57:31.355020Z",
     "iopub.status.idle": "2025-03-08T16:57:31.376541Z",
     "shell.execute_reply": "2025-03-08T16:57:31.375403Z"
    },
    "papermill": {
     "duration": 0.036827,
     "end_time": "2025-03-08T16:57:31.378182",
     "exception": false,
     "start_time": "2025-03-08T16:57:31.341355",
     "status": "completed"
    },
    "tags": []
   },
   "outputs": [
    {
     "name": "stdout",
     "output_type": "stream",
     "text": [
      "✅ Final dtype adjustments applied (without disrupting NaN handling)!\n"
     ]
    }
   ],
   "source": [
    "# Adjust column data types after initial programmatic conversion (allowing NaNs in integers)\n",
    "convert_to_int = [\n",
    "    \"CNT_CHILDREN\", \"CNT_FAM_MEMBERS\", \"REGION_RATING_CLIENT\", \"REGION_RATING_CLIENT_W_CITY\"\n",
    "]\n",
    "\n",
    "convert_to_float = [\n",
    "    \"AMT_REQ_CREDIT_BUREAU_HOUR\", \"AMT_REQ_CREDIT_BUREAU_DAY\",\n",
    "    \"AMT_REQ_CREDIT_BUREAU_WEEK\", \"AMT_REQ_CREDIT_BUREAU_QRT\"\n",
    "]\n",
    "\n",
    "# Use nullable integer type to avoid NaN conversion issues\n",
    "df_application_test[convert_to_int] = df_application_test[convert_to_int].astype(pd.Int64Dtype())\n",
    "df_application_test[convert_to_float] = df_application_test[convert_to_float].astype(\"float64\")\n",
    "\n",
    "print(\"✅ Final dtype adjustments applied (without disrupting NaN handling)!\")"
   ]
  },
  {
   "cell_type": "markdown",
   "id": "f49c6ba1",
   "metadata": {
    "papermill": {
     "duration": 0.012652,
     "end_time": "2025-03-08T16:57:31.404000",
     "exception": false,
     "start_time": "2025-03-08T16:57:31.391348",
     "status": "completed"
    },
    "tags": []
   },
   "source": [
    "### 3.4 Checking Decimal Values in Float Columns  \n",
    "\n",
    "Some columns are stored as floats but should contain only **integer values** (e.g., counts of transactions or installments).  \n",
    "To verify correctness, we check how many rows in each float column contain non-integer (decimal) values.  \n",
    "This helps detect potential **data type mismatches** or **unexpected floating-point precision issues**.  "
   ]
  },
  {
   "cell_type": "code",
   "execution_count": 14,
   "id": "026410ec",
   "metadata": {
    "execution": {
     "iopub.execute_input": "2025-03-08T16:57:31.431464Z",
     "iopub.status.busy": "2025-03-08T16:57:31.431097Z",
     "iopub.status.idle": "2025-03-08T16:57:32.329449Z",
     "shell.execute_reply": "2025-03-08T16:57:32.328236Z"
    },
    "papermill": {
     "duration": 0.914366,
     "end_time": "2025-03-08T16:57:32.331205",
     "exception": false,
     "start_time": "2025-03-08T16:57:31.416839",
     "status": "completed"
    },
    "tags": []
   },
   "outputs": [
    {
     "name": "stdout",
     "output_type": "stream",
     "text": [
      "\n",
      "Checking if float columns contain decimal values:\n",
      "AMT_INCOME_TOTAL                   87\n",
      "AMT_CREDIT                       5380\n",
      "AMT_ANNUITY                     24054\n",
      "AMT_GOODS_PRICE                   148\n",
      "REGION_POPULATION_RELATIVE      48744\n",
      "DAYS_REGISTRATION                   0\n",
      "OWN_CAR_AGE                     32312\n",
      "EXT_SOURCE_1                    48744\n",
      "EXT_SOURCE_2                    48744\n",
      "EXT_SOURCE_3                    48744\n",
      "APARTMENTS_AVG                  48588\n",
      "BASEMENTAREA_AVG                46482\n",
      "YEARS_BEGINEXPLUATATION_AVG     48676\n",
      "YEARS_BUILD_AVG                 48718\n",
      "COMMONAREA_AVG                  47351\n",
      "ELEVATORS_AVG                   35253\n",
      "ENTRANCES_AVG                   48677\n",
      "FLOORSMAX_AVG                   48293\n",
      "FLOORSMIN_AVG                   48328\n",
      "LANDAREA_AVG                    46068\n",
      "LIVINGAPARTMENTS_AVG            48676\n",
      "LIVINGAREA_AVG                  48669\n",
      "NONLIVINGAPARTMENTS_AVG         39915\n",
      "NONLIVINGAREA_AVG               39249\n",
      "APARTMENTS_MODE                 48561\n",
      "BASEMENTAREA_MODE               46167\n",
      "YEARS_BEGINEXPLUATATION_MODE    48657\n",
      "YEARS_BUILD_MODE                48718\n",
      "COMMONAREA_MODE                 47121\n",
      "ELEVATORS_MODE                  34550\n",
      "ENTRANCES_MODE                  48661\n",
      "FLOORSMAX_MODE                  48198\n",
      "FLOORSMIN_MODE                  48289\n",
      "LANDAREA_MODE                   45755\n",
      "LIVINGAPARTMENTS_MODE           48653\n",
      "LIVINGAREA_MODE                 48639\n",
      "NONLIVINGAPARTMENTS_MODE        39094\n",
      "NONLIVINGAREA_MODE              37796\n",
      "APARTMENTS_MEDI                 48586\n",
      "BASEMENTAREA_MEDI               46444\n",
      "YEARS_BEGINEXPLUATATION_MEDI    48672\n",
      "YEARS_BUILD_MEDI                48716\n",
      "COMMONAREA_MEDI                 47300\n",
      "ELEVATORS_MEDI                  34982\n",
      "ENTRANCES_MEDI                  48677\n",
      "FLOORSMAX_MEDI                  48283\n",
      "FLOORSMIN_MEDI                  48323\n",
      "LANDAREA_MEDI                   46018\n",
      "LIVINGAPARTMENTS_MEDI           48674\n",
      "LIVINGAREA_MEDI                 48664\n",
      "NONLIVINGAPARTMENTS_MEDI        39614\n",
      "NONLIVINGAREA_MEDI              38850\n",
      "TOTALAREA_MODE                  48640\n",
      "OBS_30_CNT_SOCIAL_CIRCLE           29\n",
      "OBS_60_CNT_SOCIAL_CIRCLE           29\n",
      "DAYS_LAST_PHONE_CHANGE              0\n",
      "AMT_REQ_CREDIT_BUREAU_HOUR       6049\n",
      "AMT_REQ_CREDIT_BUREAU_DAY        6049\n",
      "AMT_REQ_CREDIT_BUREAU_WEEK       6049\n",
      "AMT_REQ_CREDIT_BUREAU_QRT        6049\n",
      "dtype: int64\n"
     ]
    }
   ],
   "source": [
    "# Checking if float columns contain decimal values\n",
    "print(\"\\nChecking if float columns contain decimal values:\")\n",
    "\n",
    "# Identify all float columns\n",
    "float_cols = df_application_test.select_dtypes(include=['float']).columns\n",
    "\n",
    "# Count the number of rows in each float column that contain decimal values\n",
    "decimal_counts = df_application_test[float_cols].map(lambda x: x % 1 != 0).sum()\n",
    "\n",
    "# Print results\n",
    "print(decimal_counts)"
   ]
  },
  {
   "cell_type": "markdown",
   "id": "2eb7916c",
   "metadata": {
    "papermill": {
     "duration": 0.012643,
     "end_time": "2025-03-08T16:57:32.357763",
     "exception": false,
     "start_time": "2025-03-08T16:57:32.345120",
     "status": "completed"
    },
    "tags": []
   },
   "source": [
    "### 3.5 Identifying Integer-Like Float Columns  \n",
    "Some columns are stored as floats but only contain whole numbers.  \n",
    "To optimize memory usage and ensure data consistency, we:  \n",
    "- Identify float columns where all values are actually integers.  \n",
    "- Convert these columns to `int64` type while preserving `NaN` values."
   ]
  },
  {
   "cell_type": "code",
   "execution_count": 15,
   "id": "4122ddb6",
   "metadata": {
    "execution": {
     "iopub.execute_input": "2025-03-08T16:57:32.385079Z",
     "iopub.status.busy": "2025-03-08T16:57:32.384686Z",
     "iopub.status.idle": "2025-03-08T16:57:32.926151Z",
     "shell.execute_reply": "2025-03-08T16:57:32.924767Z"
    },
    "papermill": {
     "duration": 0.556928,
     "end_time": "2025-03-08T16:57:32.927789",
     "exception": false,
     "start_time": "2025-03-08T16:57:32.370861",
     "status": "completed"
    },
    "tags": []
   },
   "outputs": [
    {
     "name": "stdout",
     "output_type": "stream",
     "text": [
      "Columns that are actually integers but stored as floats: ['DAYS_REGISTRATION', 'OWN_CAR_AGE', 'OBS_30_CNT_SOCIAL_CIRCLE', 'OBS_60_CNT_SOCIAL_CIRCLE', 'DAYS_LAST_PHONE_CHANGE', 'AMT_REQ_CREDIT_BUREAU_HOUR', 'AMT_REQ_CREDIT_BUREAU_DAY', 'AMT_REQ_CREDIT_BUREAU_WEEK', 'AMT_REQ_CREDIT_BUREAU_QRT']\n"
     ]
    }
   ],
   "source": [
    "# Identify float columns that contain only integer values\n",
    "int_like_columns = [\n",
    "    col for col in float_cols \n",
    "    if df_application_test[col].dropna().apply(lambda x: x % 1 == 0).all()\n",
    "]\n",
    "\n",
    "print(\"Columns that are actually integers but stored as floats:\", int_like_columns)"
   ]
  },
  {
   "cell_type": "markdown",
   "id": "1929aea5",
   "metadata": {
    "papermill": {
     "duration": 0.014924,
     "end_time": "2025-03-08T16:57:33.008337",
     "exception": false,
     "start_time": "2025-03-08T16:57:32.993413",
     "status": "completed"
    },
    "tags": []
   },
   "source": [
    "### 3.6 Converting Integer-Like Float Columns to `int64`  \n",
    "Now that we have identified float columns that contain only whole numbers,  \n",
    "we convert them to `int64` to optimize storage and improve performance.  \n",
    "- This conversion ensures proper data representation without affecting missing values."
   ]
  },
  {
   "cell_type": "code",
   "execution_count": 16,
   "id": "ba4e976c",
   "metadata": {
    "execution": {
     "iopub.execute_input": "2025-03-08T16:57:33.036284Z",
     "iopub.status.busy": "2025-03-08T16:57:33.035885Z",
     "iopub.status.idle": "2025-03-08T16:57:33.112355Z",
     "shell.execute_reply": "2025-03-08T16:57:33.111185Z"
    },
    "papermill": {
     "duration": 0.092536,
     "end_time": "2025-03-08T16:57:33.113977",
     "exception": false,
     "start_time": "2025-03-08T16:57:33.021441",
     "status": "completed"
    },
    "tags": []
   },
   "outputs": [
    {
     "name": "stdout",
     "output_type": "stream",
     "text": [
      "✅ Converted integer-like float columns to int64 (without affecting NaNs).\n"
     ]
    }
   ],
   "source": [
    "# Convert float columns that contain only whole numbers to int64\n",
    "convert_floats_to_int = [\n",
    "    \"OWN_CAR_AGE\", \"OBS_30_CNT_SOCIAL_CIRCLE\", \"OBS_60_CNT_SOCIAL_CIRCLE\",\n",
    "    \"DAYS_LAST_PHONE_CHANGE\", \"AMT_REQ_CREDIT_BUREAU_HOUR\", \"AMT_REQ_CREDIT_BUREAU_DAY\",\n",
    "    \"AMT_REQ_CREDIT_BUREAU_WEEK\", \"AMT_REQ_CREDIT_BUREAU_QRT\"\n",
    "]\n",
    "\n",
    "df_application_test[convert_floats_to_int] = df_application_test[convert_floats_to_int].astype(pd.Int64Dtype())\n",
    "\n",
    "print(\"✅ Converted integer-like float columns to int64 (without affecting NaNs).\")"
   ]
  },
  {
   "cell_type": "markdown",
   "id": "a29374ec",
   "metadata": {
    "papermill": {
     "duration": 0.012703,
     "end_time": "2025-03-08T16:57:33.139982",
     "exception": false,
     "start_time": "2025-03-08T16:57:33.127279",
     "status": "completed"
    },
    "tags": []
   },
   "source": [
    "### 3.7 Displaying Updated Data Types  \n",
    "\n",
    "After data cleaning, we check if all columns have the correct data types.  \n",
    "This ensures that categorical, numeric, and ID columns are properly assigned before further processing.  "
   ]
  },
  {
   "cell_type": "code",
   "execution_count": 17,
   "id": "3376443d",
   "metadata": {
    "execution": {
     "iopub.execute_input": "2025-03-08T16:57:33.169480Z",
     "iopub.status.busy": "2025-03-08T16:57:33.169098Z",
     "iopub.status.idle": "2025-03-08T16:57:33.177984Z",
     "shell.execute_reply": "2025-03-08T16:57:33.176623Z"
    },
    "papermill": {
     "duration": 0.026372,
     "end_time": "2025-03-08T16:57:33.179703",
     "exception": false,
     "start_time": "2025-03-08T16:57:33.153331",
     "status": "completed"
    },
    "tags": []
   },
   "outputs": [
    {
     "name": "stdout",
     "output_type": "stream",
     "text": [
      "✅ Updated Data Types:\n",
      "SK_ID_CURR                         int64\n",
      "NAME_CONTRACT_TYPE              category\n",
      "CODE_GENDER                     category\n",
      "FLAG_OWN_CAR                    category\n",
      "FLAG_OWN_REALTY                 category\n",
      "CNT_CHILDREN                       Int64\n",
      "AMT_INCOME_TOTAL                 float64\n",
      "AMT_CREDIT                       float64\n",
      "AMT_ANNUITY                      float64\n",
      "AMT_GOODS_PRICE                  float64\n",
      "NAME_TYPE_SUITE                 category\n",
      "NAME_INCOME_TYPE                category\n",
      "NAME_EDUCATION_TYPE             category\n",
      "NAME_FAMILY_STATUS              category\n",
      "NAME_HOUSING_TYPE               category\n",
      "REGION_POPULATION_RELATIVE       float64\n",
      "DAYS_BIRTH                         int64\n",
      "DAYS_EMPLOYED                      int64\n",
      "DAYS_REGISTRATION                float64\n",
      "DAYS_ID_PUBLISH                    int64\n",
      "OWN_CAR_AGE                        Int64\n",
      "FLAG_MOBIL                      category\n",
      "FLAG_EMP_PHONE                  category\n",
      "FLAG_WORK_PHONE                 category\n",
      "FLAG_CONT_MOBILE                category\n",
      "FLAG_PHONE                      category\n",
      "FLAG_EMAIL                      category\n",
      "OCCUPATION_TYPE                 category\n",
      "CNT_FAM_MEMBERS                    Int64\n",
      "REGION_RATING_CLIENT               Int64\n",
      "REGION_RATING_CLIENT_W_CITY        Int64\n",
      "WEEKDAY_APPR_PROCESS_START      category\n",
      "HOUR_APPR_PROCESS_START            int64\n",
      "REG_REGION_NOT_LIVE_REGION      category\n",
      "REG_REGION_NOT_WORK_REGION      category\n",
      "LIVE_REGION_NOT_WORK_REGION     category\n",
      "REG_CITY_NOT_LIVE_CITY          category\n",
      "REG_CITY_NOT_WORK_CITY          category\n",
      "LIVE_CITY_NOT_WORK_CITY         category\n",
      "ORGANIZATION_TYPE               category\n",
      "EXT_SOURCE_1                     float64\n",
      "EXT_SOURCE_2                     float64\n",
      "EXT_SOURCE_3                     float64\n",
      "APARTMENTS_AVG                   float64\n",
      "BASEMENTAREA_AVG                 float64\n",
      "YEARS_BEGINEXPLUATATION_AVG      float64\n",
      "YEARS_BUILD_AVG                  float64\n",
      "COMMONAREA_AVG                   float64\n",
      "ELEVATORS_AVG                    float64\n",
      "ENTRANCES_AVG                    float64\n",
      "FLOORSMAX_AVG                    float64\n",
      "FLOORSMIN_AVG                    float64\n",
      "LANDAREA_AVG                     float64\n",
      "LIVINGAPARTMENTS_AVG             float64\n",
      "LIVINGAREA_AVG                   float64\n",
      "NONLIVINGAPARTMENTS_AVG          float64\n",
      "NONLIVINGAREA_AVG                float64\n",
      "APARTMENTS_MODE                  float64\n",
      "BASEMENTAREA_MODE                float64\n",
      "YEARS_BEGINEXPLUATATION_MODE     float64\n",
      "YEARS_BUILD_MODE                 float64\n",
      "COMMONAREA_MODE                  float64\n",
      "ELEVATORS_MODE                   float64\n",
      "ENTRANCES_MODE                   float64\n",
      "FLOORSMAX_MODE                   float64\n",
      "FLOORSMIN_MODE                   float64\n",
      "LANDAREA_MODE                    float64\n",
      "LIVINGAPARTMENTS_MODE            float64\n",
      "LIVINGAREA_MODE                  float64\n",
      "NONLIVINGAPARTMENTS_MODE         float64\n",
      "NONLIVINGAREA_MODE               float64\n",
      "APARTMENTS_MEDI                  float64\n",
      "BASEMENTAREA_MEDI                float64\n",
      "YEARS_BEGINEXPLUATATION_MEDI     float64\n",
      "YEARS_BUILD_MEDI                 float64\n",
      "COMMONAREA_MEDI                  float64\n",
      "ELEVATORS_MEDI                   float64\n",
      "ENTRANCES_MEDI                   float64\n",
      "FLOORSMAX_MEDI                   float64\n",
      "FLOORSMIN_MEDI                   float64\n",
      "LANDAREA_MEDI                    float64\n",
      "LIVINGAPARTMENTS_MEDI            float64\n",
      "LIVINGAREA_MEDI                  float64\n",
      "NONLIVINGAPARTMENTS_MEDI         float64\n",
      "NONLIVINGAREA_MEDI               float64\n",
      "FONDKAPREMONT_MODE              category\n",
      "HOUSETYPE_MODE                  category\n",
      "TOTALAREA_MODE                   float64\n",
      "WALLSMATERIAL_MODE              category\n",
      "EMERGENCYSTATE_MODE             category\n",
      "OBS_30_CNT_SOCIAL_CIRCLE           Int64\n",
      "DEF_30_CNT_SOCIAL_CIRCLE        category\n",
      "OBS_60_CNT_SOCIAL_CIRCLE           Int64\n",
      "DEF_60_CNT_SOCIAL_CIRCLE        category\n",
      "DAYS_LAST_PHONE_CHANGE             Int64\n",
      "FLAG_DOCUMENT_2                 category\n",
      "FLAG_DOCUMENT_3                 category\n",
      "FLAG_DOCUMENT_4                 category\n",
      "FLAG_DOCUMENT_5                 category\n",
      "FLAG_DOCUMENT_6                 category\n",
      "FLAG_DOCUMENT_7                 category\n",
      "FLAG_DOCUMENT_8                 category\n",
      "FLAG_DOCUMENT_9                 category\n",
      "FLAG_DOCUMENT_10                category\n",
      "FLAG_DOCUMENT_11                category\n",
      "FLAG_DOCUMENT_12                category\n",
      "FLAG_DOCUMENT_13                category\n",
      "FLAG_DOCUMENT_14                category\n",
      "FLAG_DOCUMENT_15                category\n",
      "FLAG_DOCUMENT_16                category\n",
      "FLAG_DOCUMENT_17                category\n",
      "FLAG_DOCUMENT_18                category\n",
      "FLAG_DOCUMENT_19                category\n",
      "FLAG_DOCUMENT_20                category\n",
      "FLAG_DOCUMENT_21                category\n",
      "AMT_REQ_CREDIT_BUREAU_HOUR         Int64\n",
      "AMT_REQ_CREDIT_BUREAU_DAY          Int64\n",
      "AMT_REQ_CREDIT_BUREAU_WEEK         Int64\n",
      "AMT_REQ_CREDIT_BUREAU_MON       category\n",
      "AMT_REQ_CREDIT_BUREAU_QRT          Int64\n",
      "AMT_REQ_CREDIT_BUREAU_YEAR      category\n",
      "dtype: object\n"
     ]
    }
   ],
   "source": [
    "# Display all columns and their data types\n",
    "pd.set_option('display.max_rows', None) \n",
    "print(\"✅ Updated Data Types:\")\n",
    "print(df_application_test.dtypes)\n",
    "pd.reset_option('display.max_rows')  "
   ]
  },
  {
   "cell_type": "markdown",
   "id": "54a1186a",
   "metadata": {
    "papermill": {
     "duration": 0.013353,
     "end_time": "2025-03-08T16:57:33.206826",
     "exception": false,
     "start_time": "2025-03-08T16:57:33.193473",
     "status": "completed"
    },
    "tags": []
   },
   "source": [
    "### 3.8 Fixing Data Type Inconsistencies\n",
    "After converting integer-like floats to `int64`, we review all data types to ensure correctness.  \n",
    "Some numerical columns were mistakenly identified as categorical. We now convert them back to `float64` for consistency."
   ]
  },
  {
   "cell_type": "code",
   "execution_count": 18,
   "id": "31336022",
   "metadata": {
    "execution": {
     "iopub.execute_input": "2025-03-08T16:57:33.234784Z",
     "iopub.status.busy": "2025-03-08T16:57:33.234395Z",
     "iopub.status.idle": "2025-03-08T16:57:33.259540Z",
     "shell.execute_reply": "2025-03-08T16:57:33.258350Z"
    },
    "papermill": {
     "duration": 0.040905,
     "end_time": "2025-03-08T16:57:33.261061",
     "exception": false,
     "start_time": "2025-03-08T16:57:33.220156",
     "status": "completed"
    },
    "tags": []
   },
   "outputs": [
    {
     "name": "stdout",
     "output_type": "stream",
     "text": [
      "✅ Corrected numerical columns misidentified as categorical.\n"
     ]
    }
   ],
   "source": [
    "# Identify columns that should be numerical but were categorized incorrectly\n",
    "convert_to_numeric = [\"AMT_REQ_CREDIT_BUREAU_MON\", \"AMT_REQ_CREDIT_BUREAU_YEAR\"]\n",
    "\n",
    "# Convert these columns back to float64 for numerical consistency\n",
    "df_application_test[convert_to_numeric] = df_application_test[convert_to_numeric].astype(\"Int64\")\n",
    "\n",
    "print(\"✅ Corrected numerical columns misidentified as categorical.\")"
   ]
  },
  {
   "cell_type": "markdown",
   "id": "8f9aa15c",
   "metadata": {
    "papermill": {
     "duration": 0.013023,
     "end_time": "2025-03-08T16:57:33.287673",
     "exception": false,
     "start_time": "2025-03-08T16:57:33.274650",
     "status": "completed"
    },
    "tags": []
   },
   "source": [
    "### 3.8 Handling Missing Values  \n",
    "Missing values can impact model performance, so we analyze and handle them based on their percentage.  "
   ]
  },
  {
   "cell_type": "markdown",
   "id": "ecde76b8",
   "metadata": {
    "papermill": {
     "duration": 0.013183,
     "end_time": "2025-03-08T16:57:33.314137",
     "exception": false,
     "start_time": "2025-03-08T16:57:33.300954",
     "status": "completed"
    },
    "tags": []
   },
   "source": [
    "#### 3.8.1 Checking for Missing Values  \n",
    "We first identify missing values in each column to understand their distribution.  "
   ]
  },
  {
   "cell_type": "code",
   "execution_count": 19,
   "id": "cd463f6b",
   "metadata": {
    "execution": {
     "iopub.execute_input": "2025-03-08T16:57:33.343593Z",
     "iopub.status.busy": "2025-03-08T16:57:33.343227Z",
     "iopub.status.idle": "2025-03-08T16:57:33.375868Z",
     "shell.execute_reply": "2025-03-08T16:57:33.374644Z"
    },
    "papermill": {
     "duration": 0.049833,
     "end_time": "2025-03-08T16:57:33.378002",
     "exception": false,
     "start_time": "2025-03-08T16:57:33.328169",
     "status": "completed"
    },
    "tags": []
   },
   "outputs": [
    {
     "name": "stdout",
     "output_type": "stream",
     "text": [
      "Missing values in each column:\n",
      "SK_ID_CURR                          0\n",
      "NAME_CONTRACT_TYPE                  0\n",
      "CODE_GENDER                         0\n",
      "FLAG_OWN_CAR                        0\n",
      "FLAG_OWN_REALTY                     0\n",
      "CNT_CHILDREN                        0\n",
      "AMT_INCOME_TOTAL                    0\n",
      "AMT_CREDIT                          0\n",
      "AMT_ANNUITY                        24\n",
      "AMT_GOODS_PRICE                     0\n",
      "NAME_TYPE_SUITE                   911\n",
      "NAME_INCOME_TYPE                    0\n",
      "NAME_EDUCATION_TYPE                 0\n",
      "NAME_FAMILY_STATUS                  0\n",
      "NAME_HOUSING_TYPE                   0\n",
      "REGION_POPULATION_RELATIVE          0\n",
      "DAYS_BIRTH                          0\n",
      "DAYS_EMPLOYED                       0\n",
      "DAYS_REGISTRATION                   0\n",
      "DAYS_ID_PUBLISH                     0\n",
      "OWN_CAR_AGE                     32312\n",
      "FLAG_MOBIL                          0\n",
      "FLAG_EMP_PHONE                      0\n",
      "FLAG_WORK_PHONE                     0\n",
      "FLAG_CONT_MOBILE                    0\n",
      "FLAG_PHONE                          0\n",
      "FLAG_EMAIL                          0\n",
      "OCCUPATION_TYPE                 15605\n",
      "CNT_FAM_MEMBERS                     0\n",
      "REGION_RATING_CLIENT                0\n",
      "REGION_RATING_CLIENT_W_CITY         0\n",
      "WEEKDAY_APPR_PROCESS_START          0\n",
      "HOUR_APPR_PROCESS_START             0\n",
      "REG_REGION_NOT_LIVE_REGION          0\n",
      "REG_REGION_NOT_WORK_REGION          0\n",
      "LIVE_REGION_NOT_WORK_REGION         0\n",
      "REG_CITY_NOT_LIVE_CITY              0\n",
      "REG_CITY_NOT_WORK_CITY              0\n",
      "LIVE_CITY_NOT_WORK_CITY             0\n",
      "ORGANIZATION_TYPE                   0\n",
      "EXT_SOURCE_1                    20532\n",
      "EXT_SOURCE_2                        8\n",
      "EXT_SOURCE_3                     8668\n",
      "APARTMENTS_AVG                  23887\n",
      "BASEMENTAREA_AVG                27641\n",
      "YEARS_BEGINEXPLUATATION_AVG     22856\n",
      "YEARS_BUILD_AVG                 31818\n",
      "COMMONAREA_AVG                  33495\n",
      "ELEVATORS_AVG                   25189\n",
      "ENTRANCES_AVG                   23579\n",
      "FLOORSMAX_AVG                   23321\n",
      "FLOORSMIN_AVG                   32466\n",
      "LANDAREA_AVG                    28254\n",
      "LIVINGAPARTMENTS_AVG            32780\n",
      "LIVINGAREA_AVG                  23552\n",
      "NONLIVINGAPARTMENTS_AVG         33347\n",
      "NONLIVINGAREA_AVG               26084\n",
      "APARTMENTS_MODE                 23887\n",
      "BASEMENTAREA_MODE               27641\n",
      "YEARS_BEGINEXPLUATATION_MODE    22856\n",
      "YEARS_BUILD_MODE                31818\n",
      "COMMONAREA_MODE                 33495\n",
      "ELEVATORS_MODE                  25189\n",
      "ENTRANCES_MODE                  23579\n",
      "FLOORSMAX_MODE                  23321\n",
      "FLOORSMIN_MODE                  32466\n",
      "LANDAREA_MODE                   28254\n",
      "LIVINGAPARTMENTS_MODE           32780\n",
      "LIVINGAREA_MODE                 23552\n",
      "NONLIVINGAPARTMENTS_MODE        33347\n",
      "NONLIVINGAREA_MODE              26084\n",
      "APARTMENTS_MEDI                 23887\n",
      "BASEMENTAREA_MEDI               27641\n",
      "YEARS_BEGINEXPLUATATION_MEDI    22856\n",
      "YEARS_BUILD_MEDI                31818\n",
      "COMMONAREA_MEDI                 33495\n",
      "ELEVATORS_MEDI                  25189\n",
      "ENTRANCES_MEDI                  23579\n",
      "FLOORSMAX_MEDI                  23321\n",
      "FLOORSMIN_MEDI                  32466\n",
      "LANDAREA_MEDI                   28254\n",
      "LIVINGAPARTMENTS_MEDI           32780\n",
      "LIVINGAREA_MEDI                 23552\n",
      "NONLIVINGAPARTMENTS_MEDI        33347\n",
      "NONLIVINGAREA_MEDI              26084\n",
      "FONDKAPREMONT_MODE              32797\n",
      "HOUSETYPE_MODE                  23619\n",
      "TOTALAREA_MODE                  22624\n",
      "WALLSMATERIAL_MODE              23893\n",
      "EMERGENCYSTATE_MODE             22209\n",
      "OBS_30_CNT_SOCIAL_CIRCLE           29\n",
      "DEF_30_CNT_SOCIAL_CIRCLE           29\n",
      "OBS_60_CNT_SOCIAL_CIRCLE           29\n",
      "DEF_60_CNT_SOCIAL_CIRCLE           29\n",
      "DAYS_LAST_PHONE_CHANGE              0\n",
      "FLAG_DOCUMENT_2                     0\n",
      "FLAG_DOCUMENT_3                     0\n",
      "FLAG_DOCUMENT_4                     0\n",
      "FLAG_DOCUMENT_5                     0\n",
      "FLAG_DOCUMENT_6                     0\n",
      "FLAG_DOCUMENT_7                     0\n",
      "FLAG_DOCUMENT_8                     0\n",
      "FLAG_DOCUMENT_9                     0\n",
      "FLAG_DOCUMENT_10                    0\n",
      "FLAG_DOCUMENT_11                    0\n",
      "FLAG_DOCUMENT_12                    0\n",
      "FLAG_DOCUMENT_13                    0\n",
      "FLAG_DOCUMENT_14                    0\n",
      "FLAG_DOCUMENT_15                    0\n",
      "FLAG_DOCUMENT_16                    0\n",
      "FLAG_DOCUMENT_17                    0\n",
      "FLAG_DOCUMENT_18                    0\n",
      "FLAG_DOCUMENT_19                    0\n",
      "FLAG_DOCUMENT_20                    0\n",
      "FLAG_DOCUMENT_21                    0\n",
      "AMT_REQ_CREDIT_BUREAU_HOUR       6049\n",
      "AMT_REQ_CREDIT_BUREAU_DAY        6049\n",
      "AMT_REQ_CREDIT_BUREAU_WEEK       6049\n",
      "AMT_REQ_CREDIT_BUREAU_MON        6049\n",
      "AMT_REQ_CREDIT_BUREAU_QRT        6049\n",
      "AMT_REQ_CREDIT_BUREAU_YEAR       6049\n",
      "dtype: int64\n"
     ]
    }
   ],
   "source": [
    "# Check for missing values\n",
    "pd.set_option('display.max_rows', None) \n",
    "print(\"Missing values in each column:\")\n",
    "print(df_application_test.isnull().sum())\n",
    "pd.reset_option('display.max_rows')  "
   ]
  },
  {
   "cell_type": "markdown",
   "id": "565093b2",
   "metadata": {
    "papermill": {
     "duration": 0.013617,
     "end_time": "2025-03-08T16:57:33.405603",
     "exception": false,
     "start_time": "2025-03-08T16:57:33.391986",
     "status": "completed"
    },
    "tags": []
   },
   "source": [
    "#### 3.8.2 Calculating Missing Value Percentages  \n",
    "To categorize missing values, we define thresholds:  \n",
    "- **Low**: Less than 1% missing (likely safe to fill with median/mean).  \n",
    "- **Moderate**: 1%–20% missing (requires careful handling).  \n",
    "- **High**: More than 50% missing (usually dropped unless critical).  "
   ]
  },
  {
   "cell_type": "code",
   "execution_count": 20,
   "id": "f72e22eb",
   "metadata": {
    "execution": {
     "iopub.execute_input": "2025-03-08T16:57:33.434255Z",
     "iopub.status.busy": "2025-03-08T16:57:33.433919Z",
     "iopub.status.idle": "2025-03-08T16:57:33.469141Z",
     "shell.execute_reply": "2025-03-08T16:57:33.468232Z"
    },
    "papermill": {
     "duration": 0.051765,
     "end_time": "2025-03-08T16:57:33.470857",
     "exception": false,
     "start_time": "2025-03-08T16:57:33.419092",
     "status": "completed"
    },
    "tags": []
   },
   "outputs": [
    {
     "name": "stdout",
     "output_type": "stream",
     "text": [
      "🔍 Missing Value Percentages:\n"
     ]
    },
    {
     "data": {
      "text/plain": [
       "COMMONAREA_MODE             68.72%\n",
       "COMMONAREA_MEDI             68.72%\n",
       "COMMONAREA_AVG              68.72%\n",
       "NONLIVINGAPARTMENTS_MEDI    68.41%\n",
       "NONLIVINGAPARTMENTS_AVG     68.41%\n",
       "                             ...  \n",
       "OBS_60_CNT_SOCIAL_CIRCLE     0.06%\n",
       "DEF_30_CNT_SOCIAL_CIRCLE     0.06%\n",
       "OBS_30_CNT_SOCIAL_CIRCLE     0.06%\n",
       "AMT_ANNUITY                  0.05%\n",
       "EXT_SOURCE_2                 0.02%\n",
       "Length: 64, dtype: object"
      ]
     },
     "metadata": {},
     "output_type": "display_data"
    }
   ],
   "source": [
    "# Define missing value thresholds\n",
    "low_threshold = 1    # Less than 1% missing\n",
    "moderate_threshold = 20  # Between 1% and 20% missing\n",
    "high_threshold = 50   # More than 50% missing \n",
    "\n",
    "# Calculate missing value percentage for df_application_test\n",
    "missing_percent = (df_application_test.isnull().sum() / len(df_application_test)) * 100  \n",
    "\n",
    "# Display missing percentages sorted from highest to lowest\n",
    "print(\"🔍 Missing Value Percentages:\")\n",
    "display(missing_percent[missing_percent > 0].sort_values(ascending=False).apply(lambda x: f\"{x:.2f}%\"))"
   ]
  },
  {
   "cell_type": "markdown",
   "id": "d4d497b7",
   "metadata": {
    "papermill": {
     "duration": 0.013367,
     "end_time": "2025-03-08T16:57:33.498089",
     "exception": false,
     "start_time": "2025-03-08T16:57:33.484722",
     "status": "completed"
    },
    "tags": []
   },
   "source": [
    "#### 3.8.3 Dropping Columns with Excessive Missing Data  \n",
    "Columns with **more than 50% missing values** are removed to prevent data leakage and reduce noise.  "
   ]
  },
  {
   "cell_type": "code",
   "execution_count": 21,
   "id": "84ae8dd9",
   "metadata": {
    "execution": {
     "iopub.execute_input": "2025-03-08T16:57:33.526869Z",
     "iopub.status.busy": "2025-03-08T16:57:33.526485Z",
     "iopub.status.idle": "2025-03-08T16:57:33.539606Z",
     "shell.execute_reply": "2025-03-08T16:57:33.538420Z"
    },
    "papermill": {
     "duration": 0.029713,
     "end_time": "2025-03-08T16:57:33.541362",
     "exception": false,
     "start_time": "2025-03-08T16:57:33.511649",
     "status": "completed"
    },
    "tags": []
   },
   "outputs": [
    {
     "name": "stdout",
     "output_type": "stream",
     "text": [
      "✅ Dropped 29 columns with more than 50% missing values.\n",
      "Dropped columns: ['OWN_CAR_AGE', 'BASEMENTAREA_AVG', 'YEARS_BUILD_AVG', 'COMMONAREA_AVG', 'ELEVATORS_AVG', 'FLOORSMIN_AVG', 'LANDAREA_AVG', 'LIVINGAPARTMENTS_AVG', 'NONLIVINGAPARTMENTS_AVG', 'NONLIVINGAREA_AVG', 'BASEMENTAREA_MODE', 'YEARS_BUILD_MODE', 'COMMONAREA_MODE', 'ELEVATORS_MODE', 'FLOORSMIN_MODE', 'LANDAREA_MODE', 'LIVINGAPARTMENTS_MODE', 'NONLIVINGAPARTMENTS_MODE', 'NONLIVINGAREA_MODE', 'BASEMENTAREA_MEDI', 'YEARS_BUILD_MEDI', 'COMMONAREA_MEDI', 'ELEVATORS_MEDI', 'FLOORSMIN_MEDI', 'LANDAREA_MEDI', 'LIVINGAPARTMENTS_MEDI', 'NONLIVINGAPARTMENTS_MEDI', 'NONLIVINGAREA_MEDI', 'FONDKAPREMONT_MODE']\n"
     ]
    }
   ],
   "source": [
    "# Identify columns to drop (more than 50% missing)\n",
    "columns_to_drop = missing_percent[missing_percent > high_threshold].index\n",
    "\n",
    "# Drop columns\n",
    "df_application_test.drop(columns=columns_to_drop, inplace=True)\n",
    "\n",
    "# Print removed columns\n",
    "print(f\"✅ Dropped {len(columns_to_drop)} columns with more than 50% missing values.\")\n",
    "print(\"Dropped columns:\", list(columns_to_drop))"
   ]
  },
  {
   "cell_type": "markdown",
   "id": "322682f5",
   "metadata": {
    "papermill": {
     "duration": 0.013776,
     "end_time": "2025-03-08T16:57:33.569153",
     "exception": false,
     "start_time": "2025-03-08T16:57:33.555377",
     "status": "completed"
    },
    "tags": []
   },
   "source": [
    "### 3.9 Filling Missing Values  \n",
    "\n",
    "To ensure data completeness, we fill missing values in both **numeric** and **categorical** columns using appropriate strategies.  \n",
    "- **Numeric values** → Filled with **median** (robust to outliers).  \n",
    "- **Categorical values** → Filled with **mode** (most frequent category).  "
   ]
  },
  {
   "cell_type": "code",
   "execution_count": 22,
   "id": "fe142124",
   "metadata": {
    "execution": {
     "iopub.execute_input": "2025-03-08T16:57:33.598292Z",
     "iopub.status.busy": "2025-03-08T16:57:33.597953Z",
     "iopub.status.idle": "2025-03-08T16:57:33.704628Z",
     "shell.execute_reply": "2025-03-08T16:57:33.703262Z"
    },
    "papermill": {
     "duration": 0.123272,
     "end_time": "2025-03-08T16:57:33.706389",
     "exception": false,
     "start_time": "2025-03-08T16:57:33.583117",
     "status": "completed"
    },
    "tags": []
   },
   "outputs": [
    {
     "name": "stdout",
     "output_type": "stream",
     "text": [
      "✅ Filled numeric missing values with median.\n"
     ]
    }
   ],
   "source": [
    "# Fill numeric columns with median (for application_test)\n",
    "numeric_cols = df_application_test.select_dtypes(include=['int64', 'float64']).columns\n",
    "df_application_test[numeric_cols] = df_application_test[numeric_cols].fillna(df_application_test[numeric_cols].median())\n",
    "\n",
    "print(\"✅ Filled numeric missing values with median.\")"
   ]
  },
  {
   "cell_type": "code",
   "execution_count": 23,
   "id": "9197f60c",
   "metadata": {
    "execution": {
     "iopub.execute_input": "2025-03-08T16:57:33.735672Z",
     "iopub.status.busy": "2025-03-08T16:57:33.735304Z",
     "iopub.status.idle": "2025-03-08T16:57:33.777738Z",
     "shell.execute_reply": "2025-03-08T16:57:33.776525Z"
    },
    "papermill": {
     "duration": 0.058725,
     "end_time": "2025-03-08T16:57:33.779174",
     "exception": false,
     "start_time": "2025-03-08T16:57:33.720449",
     "status": "completed"
    },
    "tags": []
   },
   "outputs": [
    {
     "name": "stdout",
     "output_type": "stream",
     "text": [
      "✅ Filled categorical missing values with mode.\n"
     ]
    }
   ],
   "source": [
    "# Fill categorical columns with mode (for application_test)\n",
    "categorical_cols = df_application_test.select_dtypes(include=['category']).columns\n",
    "\n",
    "for col in categorical_cols:\n",
    "    df_application_test[col] = df_application_test[col].fillna(df_application_test[col].mode()[0])\n",
    "\n",
    "print(\"✅ Filled categorical missing values with mode.\")"
   ]
  },
  {
   "cell_type": "markdown",
   "id": "b190f4f3",
   "metadata": {
    "papermill": {
     "duration": 0.013523,
     "end_time": "2025-03-08T16:57:33.806879",
     "exception": false,
     "start_time": "2025-03-08T16:57:33.793356",
     "status": "completed"
    },
    "tags": []
   },
   "source": [
    "### 3.10 Final Missing Values Check  \n",
    "After filling missing values, we perform a final check to confirm that **no NaNs remain** in the dataset.  "
   ]
  },
  {
   "cell_type": "code",
   "execution_count": 24,
   "id": "7bd28e63",
   "metadata": {
    "execution": {
     "iopub.execute_input": "2025-03-08T16:57:33.836677Z",
     "iopub.status.busy": "2025-03-08T16:57:33.836276Z",
     "iopub.status.idle": "2025-03-08T16:57:33.852881Z",
     "shell.execute_reply": "2025-03-08T16:57:33.851776Z"
    },
    "papermill": {
     "duration": 0.03329,
     "end_time": "2025-03-08T16:57:33.854587",
     "exception": false,
     "start_time": "2025-03-08T16:57:33.821297",
     "status": "completed"
    },
    "tags": []
   },
   "outputs": [
    {
     "name": "stdout",
     "output_type": "stream",
     "text": [
      "Final Missing Values Check:\n",
      "0\n"
     ]
    }
   ],
   "source": [
    "print(\"Final Missing Values Check:\")\n",
    "print(df_application_test.isnull().sum().sum())"
   ]
  },
  {
   "cell_type": "markdown",
   "id": "9db73a24",
   "metadata": {
    "papermill": {
     "duration": 0.013926,
     "end_time": "2025-03-08T16:57:33.882994",
     "exception": false,
     "start_time": "2025-03-08T16:57:33.869068",
     "status": "completed"
    },
    "tags": []
   },
   "source": [
    "### 3.11 Checking for Duplicates  \n",
    "Duplicate rows can cause data leakage and distort model training.  \n",
    "We check for duplicates and ensure that no redundant rows exist.  "
   ]
  },
  {
   "cell_type": "code",
   "execution_count": 25,
   "id": "a3c3bdc0",
   "metadata": {
    "execution": {
     "iopub.execute_input": "2025-03-08T16:57:33.913088Z",
     "iopub.status.busy": "2025-03-08T16:57:33.912736Z",
     "iopub.status.idle": "2025-03-08T16:57:33.993144Z",
     "shell.execute_reply": "2025-03-08T16:57:33.992051Z"
    },
    "papermill": {
     "duration": 0.097321,
     "end_time": "2025-03-08T16:57:33.994663",
     "exception": false,
     "start_time": "2025-03-08T16:57:33.897342",
     "status": "completed"
    },
    "tags": []
   },
   "outputs": [
    {
     "name": "stdout",
     "output_type": "stream",
     "text": [
      "Number of duplicate rows: 0\n"
     ]
    }
   ],
   "source": [
    "# Check for duplicates\n",
    "print(\"Number of duplicate rows:\", df_application_test.duplicated().sum())"
   ]
  },
  {
   "cell_type": "markdown",
   "id": "a2415567",
   "metadata": {
    "papermill": {
     "duration": 0.013841,
     "end_time": "2025-03-08T16:57:34.024513",
     "exception": false,
     "start_time": "2025-03-08T16:57:34.010672",
     "status": "completed"
    },
    "tags": []
   },
   "source": [
    "## 4. Comparison with application_train (`application_test.csv`)\n",
    "To ensure consistency between training and test datasets, we load the processed `application_train.pkl` file and compare it with `application_test.csv`.  \n",
    "This step checks for:\n",
    "- **Missing columns** in the test dataset that exist in train.\n",
    "- **Extra columns** in test that do not exist in train.\n",
    "- **Feature count consistency** (ensuring the same number of features, except `TARGET`).\n",
    "- **Feature order consistency** (ensuring the test dataset has the same column order as train).\n",
    "\n",
    "This alignment is necessary before making predictions using the trained model."
   ]
  },
  {
   "cell_type": "markdown",
   "id": "8aabc3a9",
   "metadata": {
    "papermill": {
     "duration": 0.013652,
     "end_time": "2025-03-08T16:57:34.052368",
     "exception": false,
     "start_time": "2025-03-08T16:57:34.038716",
     "status": "completed"
    },
    "tags": []
   },
   "source": [
    "### 4.1 Load Processed `application_train.pkl` for Comparison  \n",
    "We load the processed `application_train.pkl` file from the dataset input to compare it with `application_test.csv`."
   ]
  },
  {
   "cell_type": "code",
   "execution_count": 26,
   "id": "f63b973d",
   "metadata": {
    "execution": {
     "iopub.execute_input": "2025-03-08T16:57:34.081207Z",
     "iopub.status.busy": "2025-03-08T16:57:34.080831Z",
     "iopub.status.idle": "2025-03-08T16:57:35.077306Z",
     "shell.execute_reply": "2025-03-08T16:57:35.076127Z"
    },
    "papermill": {
     "duration": 1.012621,
     "end_time": "2025-03-08T16:57:35.078891",
     "exception": false,
     "start_time": "2025-03-08T16:57:34.066270",
     "status": "completed"
    },
    "tags": []
   },
   "outputs": [
    {
     "name": "stdout",
     "output_type": "stream",
     "text": [
      "✅ application_train_processed.pkl loaded successfully!\n"
     ]
    }
   ],
   "source": [
    "# Define the path to the processed application_train dataset from the dataset input\n",
    "input_path = \"/kaggle/input/home-credit-processed-data-and-model/application_train_processed.pkl\"\n",
    "\n",
    "# Load the processed application_train dataset\n",
    "df_application_train = pd.read_pickle(input_path)\n",
    "\n",
    "print(\"✅ application_train_processed.pkl loaded successfully!\")"
   ]
  },
  {
   "cell_type": "markdown",
   "id": "b6fdf0fa",
   "metadata": {
    "papermill": {
     "duration": 0.013682,
     "end_time": "2025-03-08T16:57:35.107241",
     "exception": false,
     "start_time": "2025-03-08T16:57:35.093559",
     "status": "completed"
    },
    "tags": []
   },
   "source": [
    "### 4.2 Compare Columns in Train and Test Datasets  \n",
    "To ensure feature consistency, we compare columns between `application_train` and `application_test`.  \n",
    "This step identifies:\n",
    "- **Columns in train but missing in test** (expected: `TARGET`, since it's not available in test).\n",
    "- **Columns in test but missing in train** (these extra columns will be dropped to align datasets)."
   ]
  },
  {
   "cell_type": "code",
   "execution_count": 27,
   "id": "1d92f2cc",
   "metadata": {
    "execution": {
     "iopub.execute_input": "2025-03-08T16:57:35.136606Z",
     "iopub.status.busy": "2025-03-08T16:57:35.136231Z",
     "iopub.status.idle": "2025-03-08T16:57:35.142669Z",
     "shell.execute_reply": "2025-03-08T16:57:35.141797Z"
    },
    "papermill": {
     "duration": 0.022705,
     "end_time": "2025-03-08T16:57:35.143999",
     "exception": false,
     "start_time": "2025-03-08T16:57:35.121294",
     "status": "completed"
    },
    "tags": []
   },
   "outputs": [
    {
     "name": "stdout",
     "output_type": "stream",
     "text": [
      "✅ Columns in Train but Missing in Test: {'TARGET'}\n",
      "✅ Columns in Test but Missing in Train: {'WALLSMATERIAL_MODE', 'LIVINGAREA_MEDI', 'LIVINGAREA_AVG', 'LIVINGAREA_MODE', 'ENTRANCES_MEDI', 'APARTMENTS_MEDI', 'APARTMENTS_MODE', 'EXT_SOURCE_1', 'HOUSETYPE_MODE', 'ENTRANCES_AVG', 'APARTMENTS_AVG', 'ENTRANCES_MODE'}\n"
     ]
    }
   ],
   "source": [
    "# Get sets of column names\n",
    "train_columns = set(df_application_train.columns)\n",
    "test_columns = set(df_application_test.columns)\n",
    "\n",
    "# Columns in train but missing in test\n",
    "missing_in_test = train_columns - test_columns\n",
    "# Columns in test but missing in train\n",
    "extra_in_test = test_columns - train_columns\n",
    "\n",
    "print(\"✅ Columns in Train but Missing in Test:\", missing_in_test)\n",
    "print(\"✅ Columns in Test but Missing in Train:\", extra_in_test)"
   ]
  },
  {
   "cell_type": "markdown",
   "id": "ad84f0df",
   "metadata": {
    "papermill": {
     "duration": 0.013795,
     "end_time": "2025-03-08T16:57:35.172049",
     "exception": false,
     "start_time": "2025-03-08T16:57:35.158254",
     "status": "completed"
    },
    "tags": []
   },
   "source": [
    "### 4.3 Drop Extra Columns from Test Dataset  \n",
    "The previous step identified extra columns in `application_test` that do not exist in `application_train`.  \n",
    "We remove these columns to ensure both datasets have identical feature sets before model inference."
   ]
  },
  {
   "cell_type": "code",
   "execution_count": 28,
   "id": "c09a842e",
   "metadata": {
    "execution": {
     "iopub.execute_input": "2025-03-08T16:57:35.202155Z",
     "iopub.status.busy": "2025-03-08T16:57:35.201795Z",
     "iopub.status.idle": "2025-03-08T16:57:35.221362Z",
     "shell.execute_reply": "2025-03-08T16:57:35.220261Z"
    },
    "papermill": {
     "duration": 0.03656,
     "end_time": "2025-03-08T16:57:35.223048",
     "exception": false,
     "start_time": "2025-03-08T16:57:35.186488",
     "status": "completed"
    },
    "tags": []
   },
   "outputs": [
    {
     "name": "stdout",
     "output_type": "stream",
     "text": [
      "✅ Dropped extra columns from df_application_test to align with df_application_train.\n"
     ]
    }
   ],
   "source": [
    "# Drop extra columns that are not in application_train\n",
    "df_application_test.drop(columns=extra_in_test, inplace=True)\n",
    "\n",
    "print(\"✅ Dropped extra columns from df_application_test to align with df_application_train.\")"
   ]
  },
  {
   "cell_type": "markdown",
   "id": "b7327ba1",
   "metadata": {
    "papermill": {
     "duration": 0.01378,
     "end_time": "2025-03-08T16:57:35.251258",
     "exception": false,
     "start_time": "2025-03-08T16:57:35.237478",
     "status": "completed"
    },
    "tags": []
   },
   "source": [
    "### 4.4 Verify Feature Count Consistency  \n",
    "To ensure consistency between `application_train` and `application_test`, we verify that:  \n",
    "- Both datasets have the same number of features (excluding `TARGET`, which is absent in test).  \n",
    "- No unexpected feature differences exist after column alignment.  "
   ]
  },
  {
   "cell_type": "code",
   "execution_count": 29,
   "id": "45fe1802",
   "metadata": {
    "execution": {
     "iopub.execute_input": "2025-03-08T16:57:35.280674Z",
     "iopub.status.busy": "2025-03-08T16:57:35.280288Z",
     "iopub.status.idle": "2025-03-08T16:57:35.395292Z",
     "shell.execute_reply": "2025-03-08T16:57:35.394132Z"
    },
    "papermill": {
     "duration": 0.132017,
     "end_time": "2025-03-08T16:57:35.397259",
     "exception": false,
     "start_time": "2025-03-08T16:57:35.265242",
     "status": "completed"
    },
    "tags": []
   },
   "outputs": [
    {
     "name": "stdout",
     "output_type": "stream",
     "text": [
      "Train feature count: 80\n",
      "Test feature count: 80\n"
     ]
    }
   ],
   "source": [
    "# Check that feature count matches exactly (excluding TARGET)\n",
    "print(\"Train feature count:\", df_application_train.drop(columns=[\"TARGET\"]).shape[1])\n",
    "print(\"Test feature count:\", df_application_test.shape[1])"
   ]
  },
  {
   "cell_type": "markdown",
   "id": "5015b8f2",
   "metadata": {
    "papermill": {
     "duration": 0.014155,
     "end_time": "2025-03-08T16:57:35.426268",
     "exception": false,
     "start_time": "2025-03-08T16:57:35.412113",
     "status": "completed"
    },
    "tags": []
   },
   "source": [
    "### 4.5 Ensure Feature Order Consistency  \n",
    "For model inference, the order of features in `application_test` must match `application_train`.  \n",
    "We check whether the feature order is identical across both datasets and flag mismatches.  "
   ]
  },
  {
   "cell_type": "code",
   "execution_count": 30,
   "id": "86c06429",
   "metadata": {
    "execution": {
     "iopub.execute_input": "2025-03-08T16:57:35.456461Z",
     "iopub.status.busy": "2025-03-08T16:57:35.456120Z",
     "iopub.status.idle": "2025-03-08T16:57:35.539696Z",
     "shell.execute_reply": "2025-03-08T16:57:35.538396Z"
    },
    "papermill": {
     "duration": 0.100647,
     "end_time": "2025-03-08T16:57:35.541452",
     "exception": false,
     "start_time": "2025-03-08T16:57:35.440805",
     "status": "completed"
    },
    "tags": []
   },
   "outputs": [
    {
     "name": "stdout",
     "output_type": "stream",
     "text": [
      "✅ Feature order matches!\n"
     ]
    }
   ],
   "source": [
    "# Compare Feature Order\n",
    "train_feature_order = list(df_application_train.drop(columns=[\"TARGET\"]).columns)\n",
    "test_feature_order = list(df_application_test.columns)\n",
    "\n",
    "if train_feature_order == test_feature_order:\n",
    "    print(\"✅ Feature order matches!\")\n",
    "else:\n",
    "    print(\"⚠️ Feature order mismatch!\")"
   ]
  },
  {
   "cell_type": "markdown",
   "id": "86fc421d",
   "metadata": {
    "papermill": {
     "duration": 0.014076,
     "end_time": "2025-03-08T16:57:35.570399",
     "exception": false,
     "start_time": "2025-03-08T16:57:35.556323",
     "status": "completed"
    },
    "tags": []
   },
   "source": [
    "### 4.6 Validate Data Type Consistency  \n",
    "To ensure that `application_test` matches `application_train`, we:  \n",
    "- Identify mismatches in column data types.  \n",
    "- Filter out **category vs. category** mismatches (which are not actual issues).  \n",
    "- Report only **real** data type inconsistencies (e.g., int vs. float mismatches).  \n",
    "\n",
    "A fully aligned dataset ensures smooth model inference without conversion errors. "
   ]
  },
  {
   "cell_type": "code",
   "execution_count": 31,
   "id": "5cb5cc3c",
   "metadata": {
    "execution": {
     "iopub.execute_input": "2025-03-08T16:57:35.600485Z",
     "iopub.status.busy": "2025-03-08T16:57:35.600133Z",
     "iopub.status.idle": "2025-03-08T16:57:35.612759Z",
     "shell.execute_reply": "2025-03-08T16:57:35.611557Z"
    },
    "papermill": {
     "duration": 0.029514,
     "end_time": "2025-03-08T16:57:35.614304",
     "exception": false,
     "start_time": "2025-03-08T16:57:35.584790",
     "status": "completed"
    },
    "tags": []
   },
   "outputs": [
    {
     "name": "stdout",
     "output_type": "stream",
     "text": [
      "✅ No real data type mismatches! Train and Test datasets are fully aligned.\n"
     ]
    }
   ],
   "source": [
    "# Compare dtypes of common columns\n",
    "common_columns = train_columns.intersection(test_columns)\n",
    "\n",
    "# Identify mismatches\n",
    "dtype_mismatches = {\n",
    "    col: (df_application_train[col].dtype, df_application_test[col].dtype)\n",
    "    for col in common_columns if df_application_train[col].dtype != df_application_test[col].dtype\n",
    "}\n",
    "\n",
    "# Filter out category vs. category mismatches (which are not real issues)\n",
    "real_dtype_mismatches = {\n",
    "    col: (train_dtype, test_dtype)\n",
    "    for col, (train_dtype, test_dtype) in dtype_mismatches.items()\n",
    "    if not (train_dtype.name == \"category\" and test_dtype.name == \"category\")\n",
    "}\n",
    "\n",
    "# Display results\n",
    "if real_dtype_mismatches:\n",
    "    print(\"⚠️ Real Data Type Mismatches Found:\")\n",
    "    for col, (train_dtype, test_dtype) in real_dtype_mismatches.items():\n",
    "        print(f\"❌ {col}: Train = {train_dtype}, Test = {test_dtype}\")\n",
    "else:\n",
    "    print(\"✅ No real data type mismatches! Train and Test datasets are fully aligned.\")"
   ]
  },
  {
   "cell_type": "markdown",
   "id": "18f66bf6",
   "metadata": {
    "papermill": {
     "duration": 0.014132,
     "end_time": "2025-03-08T16:57:35.643163",
     "exception": false,
     "start_time": "2025-03-08T16:57:35.629031",
     "status": "completed"
    },
    "tags": []
   },
   "source": [
    "### 4.7 Handling Missing Values  \n",
    "Before finalizing `application_test`, we perform **data quality checks** to detect potential issues:  \n",
    "\n",
    "✅ **Check for standard missing values (`NaN`)**  \n",
    "✅ **Detect hidden missing values (empty strings, spaces)**  \n",
    "✅ **Identify infinite values (`inf`) in numeric columns**  "
   ]
  },
  {
   "cell_type": "code",
   "execution_count": 32,
   "id": "78d08368",
   "metadata": {
    "execution": {
     "iopub.execute_input": "2025-03-08T16:57:35.673481Z",
     "iopub.status.busy": "2025-03-08T16:57:35.673138Z",
     "iopub.status.idle": "2025-03-08T16:57:35.727001Z",
     "shell.execute_reply": "2025-03-08T16:57:35.725821Z"
    },
    "papermill": {
     "duration": 0.070876,
     "end_time": "2025-03-08T16:57:35.728636",
     "exception": false,
     "start_time": "2025-03-08T16:57:35.657760",
     "status": "completed"
    },
    "tags": []
   },
   "outputs": [
    {
     "name": "stdout",
     "output_type": "stream",
     "text": [
      "**Data Quality Checks in application_test:**\n",
      "\n",
      "✅ No Missing Values!\n",
      "\n",
      "Hidden NaNs (Empty Strings, Spaces): 0\n",
      "Hidden Infinite Values: 0\n",
      "\n",
      "✅ No Hidden NaNs or Infinite Values Found! Dataset is clean.\n"
     ]
    }
   ],
   "source": [
    "# Check missing values\n",
    "missing_values_test = df_application_test.isnull().sum()\n",
    "missing_values_test = missing_values_test[missing_values_test > 0].sort_values(ascending=False)\n",
    "\n",
    "# Check for hidden NaNs (empty strings, spaces)\n",
    "hidden_nans = (df_application_test == \"\").sum().sum() + (df_application_test == \" \").sum().sum()\n",
    "\n",
    "# Check for infinite values **only in numeric columns**\n",
    "numeric_cols = df_application_test.select_dtypes(include=['number']).columns\n",
    "hidden_infs = np.isinf(df_application_test[numeric_cols]).sum().sum()\n",
    "\n",
    "# Print results\n",
    "print(\"**Data Quality Checks in application_test:**\")\n",
    "\n",
    "if not missing_values_test.empty:\n",
    "    print(\"\\n⚠️ Missing Values Detected:\")\n",
    "    display(missing_values_test.apply(lambda x: f\"{x} ({(x / len(df_application_test)) * 100:.2f}%)\"))\n",
    "else:\n",
    "    print(\"\\n✅ No Missing Values!\")\n",
    "\n",
    "print(f\"\\nHidden NaNs (Empty Strings, Spaces): {hidden_nans}\")\n",
    "print(f\"Hidden Infinite Values: {hidden_infs}\")\n",
    "\n",
    "if hidden_nans == 0 and hidden_infs == 0:\n",
    "    print(\"\\n✅ No Hidden NaNs or Infinite Values Found! Dataset is clean.\")\n",
    "else:\n",
    "    print(\"\\n⚠️ Warning: Hidden NaNs or Infinite Values Found! Consider fixing them before merging.\")\n"
   ]
  },
  {
   "cell_type": "markdown",
   "id": "4e5375f4",
   "metadata": {
    "papermill": {
     "duration": 0.014115,
     "end_time": "2025-03-08T16:57:35.757602",
     "exception": false,
     "start_time": "2025-03-08T16:57:35.743487",
     "status": "completed"
    },
    "tags": []
   },
   "source": [
    "## 5. Finalizing Processed application_test Dataset  \n",
    "The `application_test.csv` dataset is now **fully processed**, cleaned, and aligned with `application_train.csv`.  \n",
    "It is saved as `application_test_processed.csv` and `application_test_processed.pkl` for **model inference**. "
   ]
  },
  {
   "cell_type": "code",
   "execution_count": 33,
   "id": "8ae804fb",
   "metadata": {
    "execution": {
     "iopub.execute_input": "2025-03-08T16:57:35.787274Z",
     "iopub.status.busy": "2025-03-08T16:57:35.786927Z",
     "iopub.status.idle": "2025-03-08T16:57:37.419764Z",
     "shell.execute_reply": "2025-03-08T16:57:37.418736Z"
    },
    "papermill": {
     "duration": 1.649491,
     "end_time": "2025-03-08T16:57:37.421323",
     "exception": false,
     "start_time": "2025-03-08T16:57:35.771832",
     "status": "completed"
    },
    "tags": []
   },
   "outputs": [
    {
     "name": "stdout",
     "output_type": "stream",
     "text": [
      "✅ Application test dataset saved successfully!\n"
     ]
    }
   ],
   "source": [
    "# Save processed application_test dataset\n",
    "df_application_test.to_csv(\"application_test_processed.csv\", index=False)\n",
    "df_application_test.to_pickle(\"application_test_processed.pkl\")\n",
    "\n",
    "print(\"✅ Application test dataset saved successfully!\")"
   ]
  }
 ],
 "metadata": {
  "kaggle": {
   "accelerator": "none",
   "dataSources": [
    {
     "databundleVersionId": 860599,
     "sourceId": 9120,
     "sourceType": "competition"
    },
    {
     "datasetId": 6775251,
     "sourceId": 10901361,
     "sourceType": "datasetVersion"
    }
   ],
   "dockerImageVersionId": 30886,
   "isGpuEnabled": false,
   "isInternetEnabled": true,
   "language": "python",
   "sourceType": "notebook"
  },
  "kernelspec": {
   "display_name": "Python 3 (ipykernel)",
   "language": "python",
   "name": "python3"
  },
  "language_info": {
   "codemirror_mode": {
    "name": "ipython",
    "version": 3
   },
   "file_extension": ".py",
   "mimetype": "text/x-python",
   "name": "python",
   "nbconvert_exporter": "python",
   "pygments_lexer": "ipython3",
   "version": "3.9.12"
  },
  "papermill": {
   "default_parameters": {},
   "duration": 15.986076,
   "end_time": "2025-03-08T16:57:38.156676",
   "environment_variables": {},
   "exception": null,
   "input_path": "__notebook__.ipynb",
   "output_path": "__notebook__.ipynb",
   "parameters": {},
   "start_time": "2025-03-08T16:57:22.170600",
   "version": "2.6.0"
  }
 },
 "nbformat": 4,
 "nbformat_minor": 5
}
