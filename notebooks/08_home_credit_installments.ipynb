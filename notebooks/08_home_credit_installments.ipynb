{
 "cells": [
  {
   "cell_type": "markdown",
   "id": "60b5ce71",
   "metadata": {
    "papermill": {
     "duration": 0.017912,
     "end_time": "2025-03-08T00:20:41.808818",
     "exception": false,
     "start_time": "2025-03-08T00:20:41.790906",
     "status": "completed"
    },
    "tags": []
   },
   "source": [
    "# Home Credit Default Risk - Machine Learning Project  \n",
    "\n",
    "## Project Overview  \n",
    "This project aims to predict **loan default risk** using historical credit data provided by the **Home Credit dataset**.  \n",
    "By analyzing multiple financial datasets from past loan applications, we extract insights to improve risk assessment and minimize losses for lenders.  \n",
    "While this model is trained specifically on Home Credit’s dataset, the process—data collection, preprocessing, feature engineering, and modeling—can be adapted to other financial institutions.  \n",
    "\n",
    "## Live Application Deployment  \n",
    "This project is also deployed as an **interactive Angular + Flask application**, allowing users to observe real-time model inference.  \n",
    "🔗 **Try it here:** [Live Loan Default Predictor](https://ai.fullstackista.com/ai-loan-default-predictor/)  \n",
    "\n",
    "### Key Steps in the Project  \n",
    "1. **Understanding the Problem** – Define the objective: predict loan default risk using Home Credit data.  \n",
    "2. **Data Processing & Feature Engineering** – Process multiple datasets, clean missing values, extract features, and aggregate information.  \n",
    "3. **Exploratory Data Analysis (EDA)** – Identify trends, correlations, and risk factors in loan applications.  \n",
    "4. **Merging Datasets** – Integrate primary (`application_train.csv`) and secondary datasets (e.g., `bureau.csv`, `credit_card_balance.csv`) for a unified view.  \n",
    "5. **Model Training & Hyperparameter Tuning** – Train and optimize models (e.g., LightGBM) for predictive performance.  \n",
    "6. **Model Evaluation** – Validate performance using metrics such as AUC-ROC.  \n",
    "7. **Final Prediction** – Apply the trained model to `application_test.csv` and generate predictions.  "
   ]
  },
  {
   "cell_type": "markdown",
   "id": "a2459ada",
   "metadata": {
    "papermill": {
     "duration": 0.017146,
     "end_time": "2025-03-08T00:20:41.842543",
     "exception": false,
     "start_time": "2025-03-08T00:20:41.825397",
     "status": "completed"
    },
    "tags": []
   },
   "source": [
    "## About This Notebook  \n",
    "This notebook processes the `installments_payments.csv` dataset, which contains applicants' loan repayment behavior.  \n",
    "Processed features will be merged into the main dataset (`application_train.csv`) for model training.  "
   ]
  },
  {
   "cell_type": "markdown",
   "id": "d7a14c4c",
   "metadata": {
    "papermill": {
     "duration": 0.015973,
     "end_time": "2025-03-08T00:20:41.874571",
     "exception": false,
     "start_time": "2025-03-08T00:20:41.858598",
     "status": "completed"
    },
    "tags": []
   },
   "source": [
    "## Project Notebooks  \n",
    "\n",
    "### Main Dataset and Model Training  \n",
    "- [1. Application Train (Main Dataset)](./01_application_train.ipynb)\n",
    "- [2. Model Training and Final Pipeline](./02_model_training_pipeline.ipynb)  \n",
    "\n",
    "### Secondary Datasets Processing  \n",
    "- [3. Bureau Data](./03_bureau_data.ipynb)  \n",
    "- [4. Bureau Balance Data](./04_bureau_balance.ipynb)  \n",
    "- [5. Credit Card Balance](./05_credit_card_balance.ipynb)  \n",
    "- [6. Previous Applications](./06_previous_applications.ipynb)  \n",
    "- [7. POS Cash Balance](./07_pos_cash_balance.ipynb)  \n",
    "- [8. Installments Payments](./08_installments_payments.ipynb) _(Current Notebook)_\n",
    "\n",
    "### Final Prediction  \n",
    "- [9. Model Predictions on Test Data](./09_model_predictions.ipynb)  \n",
    "- [10. Application Test Data Processing](./10_application_test_processing.ipynb)"
   ]
  },
  {
   "cell_type": "markdown",
   "id": "054bd40d",
   "metadata": {
    "papermill": {
     "duration": 0.015497,
     "end_time": "2025-03-08T00:20:41.906012",
     "exception": false,
     "start_time": "2025-03-08T00:20:41.890515",
     "status": "completed"
    },
    "tags": []
   },
   "source": [
    "# Processing `installments_payments.csv` (Loan Repayment Behavior)"
   ]
  },
  {
   "cell_type": "markdown",
   "id": "e0d9dcb5",
   "metadata": {
    "papermill": {
     "duration": 0.016302,
     "end_time": "2025-03-08T00:20:41.938999",
     "exception": false,
     "start_time": "2025-03-08T00:20:41.922697",
     "status": "completed"
    },
    "tags": []
   },
   "source": [
    "## 1. Load Data (`installments_payments.csv`)\n",
    "We start by loading the dataset and inspecting its structure to understand its key features and statistics."
   ]
  },
  {
   "cell_type": "code",
   "execution_count": 1,
   "id": "28c9447e",
   "metadata": {
    "execution": {
     "iopub.execute_input": "2025-03-08T00:20:41.974473Z",
     "iopub.status.busy": "2025-03-08T00:20:41.973903Z",
     "iopub.status.idle": "2025-03-08T00:20:44.696695Z",
     "shell.execute_reply": "2025-03-08T00:20:44.695739Z"
    },
    "papermill": {
     "duration": 2.74369,
     "end_time": "2025-03-08T00:20:44.698628",
     "exception": false,
     "start_time": "2025-03-08T00:20:41.954938",
     "status": "completed"
    },
    "tags": []
   },
   "outputs": [],
   "source": [
    "# Import Libraries\n",
    "import pandas as pd\n",
    "import numpy as np\n",
    "import seaborn as sns\n",
    "import matplotlib.pyplot as plt\n",
    "import os\n",
    "\n",
    "import warnings\n",
    "warnings.simplefilter(action='ignore', category=FutureWarning)\n",
    "warnings.simplefilter(action='ignore', category=RuntimeWarning)"
   ]
  },
  {
   "cell_type": "code",
   "execution_count": 2,
   "id": "d5e730ca",
   "metadata": {
    "execution": {
     "iopub.execute_input": "2025-03-08T00:20:44.732145Z",
     "iopub.status.busy": "2025-03-08T00:20:44.731651Z",
     "iopub.status.idle": "2025-03-08T00:21:01.947437Z",
     "shell.execute_reply": "2025-03-08T00:21:01.946274Z"
    },
    "papermill": {
     "duration": 17.234643,
     "end_time": "2025-03-08T00:21:01.949435",
     "exception": false,
     "start_time": "2025-03-08T00:20:44.714792",
     "status": "completed"
    },
    "tags": []
   },
   "outputs": [],
   "source": [
    "# Load dataset \n",
    "df_installments_payments = pd.read_csv(\"/kaggle/input/home-credit-default-risk/installments_payments.csv\")"
   ]
  },
  {
   "cell_type": "markdown",
   "id": "80e49f80",
   "metadata": {
    "papermill": {
     "duration": 0.015835,
     "end_time": "2025-03-08T00:21:01.981674",
     "exception": false,
     "start_time": "2025-03-08T00:21:01.965839",
     "status": "completed"
    },
    "tags": []
   },
   "source": [
    "## 2. Initial Data Inspection (`installments_payments.csv`)\n",
    "Before processing, we inspect the dataset for potential issues such as **infinite values**, **missing values**, and other inconsistencies."
   ]
  },
  {
   "cell_type": "markdown",
   "id": "64cf4c50",
   "metadata": {
    "papermill": {
     "duration": 0.016024,
     "end_time": "2025-03-08T00:21:02.014103",
     "exception": false,
     "start_time": "2025-03-08T00:21:01.998079",
     "status": "completed"
    },
    "tags": []
   },
   "source": [
    "### 2.1 Checking for Infinite Values  \n",
    "Infinite values (e.g., `inf`, `-inf`) can break numerical calculations and should be identified before proceeding.  \n",
    "The code below scans for any **positive or negative infinite values** in the dataset.  "
   ]
  },
  {
   "cell_type": "code",
   "execution_count": 3,
   "id": "72a2da9f",
   "metadata": {
    "execution": {
     "iopub.execute_input": "2025-03-08T00:21:02.047437Z",
     "iopub.status.busy": "2025-03-08T00:21:02.047005Z",
     "iopub.status.idle": "2025-03-08T00:21:02.454900Z",
     "shell.execute_reply": "2025-03-08T00:21:02.453770Z"
    },
    "papermill": {
     "duration": 0.426468,
     "end_time": "2025-03-08T00:21:02.456626",
     "exception": false,
     "start_time": "2025-03-08T00:21:02.030158",
     "status": "completed"
    },
    "tags": []
   },
   "outputs": [
    {
     "name": "stdout",
     "output_type": "stream",
     "text": [
      "Checking for infinite values in dataset...\n",
      "✅ No infinite values detected.\n"
     ]
    }
   ],
   "source": [
    "# Check for infinite values\n",
    "print(\"Checking for infinite values in dataset...\")\n",
    "inf_count = (df_installments_payments == np.inf).sum().sum()\n",
    "neg_inf_count = (df_installments_payments == -np.inf).sum().sum()\n",
    "\n",
    "if inf_count > 0 or neg_inf_count > 0:\n",
    "    print(f\"⚠️ Found {inf_count} positive and {neg_inf_count} negative infinite values!\")\n",
    "else:\n",
    "    print(\"✅ No infinite values detected.\")"
   ]
  },
  {
   "cell_type": "markdown",
   "id": "b66560bc",
   "metadata": {
    "papermill": {
     "duration": 0.015766,
     "end_time": "2025-03-08T00:21:02.489029",
     "exception": false,
     "start_time": "2025-03-08T00:21:02.473263",
     "status": "completed"
    },
    "tags": []
   },
   "source": [
    "### 2.2 Checking for Missing Values (NaNs)  \n",
    "Missing values (**NaNs**) can affect model performance and should be handled properly.  \n",
    "Here, we count the number of missing values in each column and print the results."
   ]
  },
  {
   "cell_type": "code",
   "execution_count": 4,
   "id": "5260e903",
   "metadata": {
    "execution": {
     "iopub.execute_input": "2025-03-08T00:21:02.522261Z",
     "iopub.status.busy": "2025-03-08T00:21:02.521838Z",
     "iopub.status.idle": "2025-03-08T00:21:02.829229Z",
     "shell.execute_reply": "2025-03-08T00:21:02.828054Z"
    },
    "papermill": {
     "duration": 0.326073,
     "end_time": "2025-03-08T00:21:02.831002",
     "exception": false,
     "start_time": "2025-03-08T00:21:02.504929",
     "status": "completed"
    },
    "tags": []
   },
   "outputs": [
    {
     "name": "stdout",
     "output_type": "stream",
     "text": [
      "⚠️ Missing values detected in columns:\n",
      "DAYS_ENTRY_PAYMENT    2905\n",
      "AMT_PAYMENT           2905\n",
      "dtype: int64\n"
     ]
    }
   ],
   "source": [
    "# Check for missing values\n",
    "missing_values = df_installments_payments.isnull().sum()\n",
    "missing_values = missing_values[missing_values > 0]  \n",
    "\n",
    "if not missing_values.empty:\n",
    "    print(\"⚠️ Missing values detected in columns:\")\n",
    "    print(missing_values)\n",
    "else:\n",
    "    print(\"✅ No missing values detected.\")"
   ]
  },
  {
   "cell_type": "markdown",
   "id": "9cf1a973",
   "metadata": {
    "papermill": {
     "duration": 0.015763,
     "end_time": "2025-03-08T00:21:02.863199",
     "exception": false,
     "start_time": "2025-03-08T00:21:02.847436",
     "status": "completed"
    },
    "tags": []
   },
   "source": [
    "### 2.3 Print Dataset Columns  \n",
    "To get an overview of the dataset structure, we print the column names.  \n",
    "This helps us understand the available features and identify any inconsistencies."
   ]
  },
  {
   "cell_type": "code",
   "execution_count": 5,
   "id": "bb25ce2d",
   "metadata": {
    "execution": {
     "iopub.execute_input": "2025-03-08T00:21:02.896785Z",
     "iopub.status.busy": "2025-03-08T00:21:02.896410Z",
     "iopub.status.idle": "2025-03-08T00:21:02.902010Z",
     "shell.execute_reply": "2025-03-08T00:21:02.900855Z"
    },
    "papermill": {
     "duration": 0.024384,
     "end_time": "2025-03-08T00:21:02.903739",
     "exception": false,
     "start_time": "2025-03-08T00:21:02.879355",
     "status": "completed"
    },
    "tags": []
   },
   "outputs": [
    {
     "name": "stdout",
     "output_type": "stream",
     "text": [
      "Index(['SK_ID_PREV', 'SK_ID_CURR', 'NUM_INSTALMENT_VERSION',\n",
      "       'NUM_INSTALMENT_NUMBER', 'DAYS_INSTALMENT', 'DAYS_ENTRY_PAYMENT',\n",
      "       'AMT_INSTALMENT', 'AMT_PAYMENT'],\n",
      "      dtype='object')\n"
     ]
    }
   ],
   "source": [
    "# Print column names\n",
    "print(df_installments_payments.columns)"
   ]
  },
  {
   "cell_type": "markdown",
   "id": "947c2ca5",
   "metadata": {
    "papermill": {
     "duration": 0.016112,
     "end_time": "2025-03-08T00:21:02.936334",
     "exception": false,
     "start_time": "2025-03-08T00:21:02.920222",
     "status": "completed"
    },
    "tags": []
   },
   "source": [
    "### 2.4 Detecting Extreme Values (Outliers)  \n",
    "\n",
    "Extreme values (**outliers**) can skew model performance and lead to **unstable predictions**.  \n",
    "We detect outliers using **percentile thresholds**:  \n",
    "\n",
    "- **Above the 99th percentile** → Very large values.  \n",
    "- **Below the 1st percentile** → Very small values.  "
   ]
  },
  {
   "cell_type": "code",
   "execution_count": 6,
   "id": "d06a00a2",
   "metadata": {
    "execution": {
     "iopub.execute_input": "2025-03-08T00:21:02.970069Z",
     "iopub.status.busy": "2025-03-08T00:21:02.969718Z",
     "iopub.status.idle": "2025-03-08T00:21:07.694019Z",
     "shell.execute_reply": "2025-03-08T00:21:07.692752Z"
    },
    "papermill": {
     "duration": 4.743347,
     "end_time": "2025-03-08T00:21:07.695761",
     "exception": false,
     "start_time": "2025-03-08T00:21:02.952414",
     "status": "completed"
    },
    "tags": []
   },
   "outputs": [
    {
     "name": "stdout",
     "output_type": "stream",
     "text": [
      "Checking for extreme values in 'installments_payments' dataset using percentile thresholds...\n",
      "⚠️ Columns with very large values (above 99th percentile):\n",
      "NUM_INSTALMENT_VERSION        178.000\n",
      "NUM_INSTALMENT_NUMBER         277.000\n",
      "DAYS_INSTALMENT                -1.000\n",
      "DAYS_ENTRY_PAYMENT             -1.000\n",
      "AMT_INSTALMENT            3771487.845\n",
      "AMT_PAYMENT               3771487.845\n",
      "dtype: float64\n",
      "⚠️ Columns with very small values (below 1st percentile):\n",
      "DAYS_INSTALMENT      -2922.0\n",
      "DAYS_ENTRY_PAYMENT   -4921.0\n",
      "AMT_INSTALMENT           0.0\n",
      "AMT_PAYMENT              0.0\n",
      "dtype: float64\n"
     ]
    }
   ],
   "source": [
    "# Check for extreme values using percentile-based thresholds \n",
    "print(\"Checking for extreme values in 'installments_payments' dataset using percentile thresholds...\")\n",
    "\n",
    "# Exclude ID columns from percentile-based detection\n",
    "extreme_exclude_cols = ['SK_ID_CURR', 'SK_ID_PREV']\n",
    "extreme_numeric_columns = df_installments_payments.select_dtypes(include=[\"number\"]).drop(columns=extreme_exclude_cols, errors='ignore')\n",
    "\n",
    "# Compute percentile-based thresholds\n",
    "extreme_upper_threshold = extreme_numeric_columns.quantile(0.99)\n",
    "extreme_lower_threshold = extreme_numeric_columns.quantile(0.01)\n",
    "\n",
    "# Identify extreme values\n",
    "extreme_large_columns = extreme_numeric_columns.max() > extreme_upper_threshold\n",
    "extreme_small_columns = extreme_numeric_columns.min() < extreme_lower_threshold\n",
    "\n",
    "# Print results\n",
    "if extreme_large_columns.any():\n",
    "    print(f\"⚠️ Columns with very large values (above 99th percentile):\\n{extreme_numeric_columns.loc[:, extreme_large_columns].max()}\")\n",
    "if extreme_small_columns.any():\n",
    "    print(f\"⚠️ Columns with very small values (below 1st percentile):\\n{extreme_numeric_columns.loc[:, extreme_small_columns].min()}\")\n",
    "if not extreme_large_columns.any() and not extreme_small_columns.any():\n",
    "    print(\"✅ No extreme values detected in 'installments_payments' dataset.\")"
   ]
  },
  {
   "cell_type": "markdown",
   "id": "eb039fa7",
   "metadata": {
    "papermill": {
     "duration": 0.017185,
     "end_time": "2025-03-08T00:21:07.730268",
     "exception": false,
     "start_time": "2025-03-08T00:21:07.713083",
     "status": "completed"
    },
    "tags": []
   },
   "source": [
    "### 2.5 Checking Dataset Shape  \n",
    "\n",
    "The dataset's shape provides a quick view of its size, showing the number of **rows** (loan records) and **columns** (features).  "
   ]
  },
  {
   "cell_type": "code",
   "execution_count": 7,
   "id": "b2edf3d6",
   "metadata": {
    "execution": {
     "iopub.execute_input": "2025-03-08T00:21:07.764348Z",
     "iopub.status.busy": "2025-03-08T00:21:07.763955Z",
     "iopub.status.idle": "2025-03-08T00:21:07.768646Z",
     "shell.execute_reply": "2025-03-08T00:21:07.767489Z"
    },
    "papermill": {
     "duration": 0.023624,
     "end_time": "2025-03-08T00:21:07.770315",
     "exception": false,
     "start_time": "2025-03-08T00:21:07.746691",
     "status": "completed"
    },
    "tags": []
   },
   "outputs": [
    {
     "name": "stdout",
     "output_type": "stream",
     "text": [
      "DataFrame Shape: (13605401, 8)\n"
     ]
    }
   ],
   "source": [
    "# Check the shape of the dataset\n",
    "print(\"DataFrame Shape:\", df_installments_payments.shape)"
   ]
  },
  {
   "cell_type": "markdown",
   "id": "3c4a6c84",
   "metadata": {
    "papermill": {
     "duration": 0.015954,
     "end_time": "2025-03-08T00:21:07.803050",
     "exception": false,
     "start_time": "2025-03-08T00:21:07.787096",
     "status": "completed"
    },
    "tags": []
   },
   "source": [
    "### 2.6 Viewing Sample Data (`head()`)  \n",
    "\n",
    "To understand the dataset, we display the **first few rows**.  \n",
    "This helps verify that data is loaded correctly and gives an initial sense of feature distributions.  "
   ]
  },
  {
   "cell_type": "code",
   "execution_count": 8,
   "id": "184ea5bc",
   "metadata": {
    "execution": {
     "iopub.execute_input": "2025-03-08T00:21:07.837434Z",
     "iopub.status.busy": "2025-03-08T00:21:07.837024Z",
     "iopub.status.idle": "2025-03-08T00:21:07.857497Z",
     "shell.execute_reply": "2025-03-08T00:21:07.856438Z"
    },
    "papermill": {
     "duration": 0.039231,
     "end_time": "2025-03-08T00:21:07.859070",
     "exception": false,
     "start_time": "2025-03-08T00:21:07.819839",
     "status": "completed"
    },
    "tags": []
   },
   "outputs": [
    {
     "name": "stdout",
     "output_type": "stream",
     "text": [
      "First few rows of installments_payments DataFrame:\n"
     ]
    },
    {
     "data": {
      "text/html": [
       "<div>\n",
       "<style scoped>\n",
       "    .dataframe tbody tr th:only-of-type {\n",
       "        vertical-align: middle;\n",
       "    }\n",
       "\n",
       "    .dataframe tbody tr th {\n",
       "        vertical-align: top;\n",
       "    }\n",
       "\n",
       "    .dataframe thead th {\n",
       "        text-align: right;\n",
       "    }\n",
       "</style>\n",
       "<table border=\"1\" class=\"dataframe\">\n",
       "  <thead>\n",
       "    <tr style=\"text-align: right;\">\n",
       "      <th></th>\n",
       "      <th>SK_ID_PREV</th>\n",
       "      <th>SK_ID_CURR</th>\n",
       "      <th>NUM_INSTALMENT_VERSION</th>\n",
       "      <th>NUM_INSTALMENT_NUMBER</th>\n",
       "      <th>DAYS_INSTALMENT</th>\n",
       "      <th>DAYS_ENTRY_PAYMENT</th>\n",
       "      <th>AMT_INSTALMENT</th>\n",
       "      <th>AMT_PAYMENT</th>\n",
       "    </tr>\n",
       "  </thead>\n",
       "  <tbody>\n",
       "    <tr>\n",
       "      <th>0</th>\n",
       "      <td>1054186</td>\n",
       "      <td>161674</td>\n",
       "      <td>1.0</td>\n",
       "      <td>6</td>\n",
       "      <td>-1180.0</td>\n",
       "      <td>-1187.0</td>\n",
       "      <td>6948.360</td>\n",
       "      <td>6948.360</td>\n",
       "    </tr>\n",
       "    <tr>\n",
       "      <th>1</th>\n",
       "      <td>1330831</td>\n",
       "      <td>151639</td>\n",
       "      <td>0.0</td>\n",
       "      <td>34</td>\n",
       "      <td>-2156.0</td>\n",
       "      <td>-2156.0</td>\n",
       "      <td>1716.525</td>\n",
       "      <td>1716.525</td>\n",
       "    </tr>\n",
       "    <tr>\n",
       "      <th>2</th>\n",
       "      <td>2085231</td>\n",
       "      <td>193053</td>\n",
       "      <td>2.0</td>\n",
       "      <td>1</td>\n",
       "      <td>-63.0</td>\n",
       "      <td>-63.0</td>\n",
       "      <td>25425.000</td>\n",
       "      <td>25425.000</td>\n",
       "    </tr>\n",
       "    <tr>\n",
       "      <th>3</th>\n",
       "      <td>2452527</td>\n",
       "      <td>199697</td>\n",
       "      <td>1.0</td>\n",
       "      <td>3</td>\n",
       "      <td>-2418.0</td>\n",
       "      <td>-2426.0</td>\n",
       "      <td>24350.130</td>\n",
       "      <td>24350.130</td>\n",
       "    </tr>\n",
       "    <tr>\n",
       "      <th>4</th>\n",
       "      <td>2714724</td>\n",
       "      <td>167756</td>\n",
       "      <td>1.0</td>\n",
       "      <td>2</td>\n",
       "      <td>-1383.0</td>\n",
       "      <td>-1366.0</td>\n",
       "      <td>2165.040</td>\n",
       "      <td>2160.585</td>\n",
       "    </tr>\n",
       "  </tbody>\n",
       "</table>\n",
       "</div>"
      ],
      "text/plain": [
       "   SK_ID_PREV  SK_ID_CURR  NUM_INSTALMENT_VERSION  NUM_INSTALMENT_NUMBER  \\\n",
       "0     1054186      161674                     1.0                      6   \n",
       "1     1330831      151639                     0.0                     34   \n",
       "2     2085231      193053                     2.0                      1   \n",
       "3     2452527      199697                     1.0                      3   \n",
       "4     2714724      167756                     1.0                      2   \n",
       "\n",
       "   DAYS_INSTALMENT  DAYS_ENTRY_PAYMENT  AMT_INSTALMENT  AMT_PAYMENT  \n",
       "0          -1180.0             -1187.0        6948.360     6948.360  \n",
       "1          -2156.0             -2156.0        1716.525     1716.525  \n",
       "2            -63.0               -63.0       25425.000    25425.000  \n",
       "3          -2418.0             -2426.0       24350.130    24350.130  \n",
       "4          -1383.0             -1366.0        2165.040     2160.585  "
      ]
     },
     "metadata": {},
     "output_type": "display_data"
    }
   ],
   "source": [
    "# Display the first few rows\n",
    "print(\"First few rows of installments_payments DataFrame:\")\n",
    "display(df_installments_payments.head())"
   ]
  },
  {
   "cell_type": "markdown",
   "id": "30152c1d",
   "metadata": {
    "papermill": {
     "duration": 0.071074,
     "end_time": "2025-03-08T00:21:07.947135",
     "exception": false,
     "start_time": "2025-03-08T00:21:07.876061",
     "status": "completed"
    },
    "tags": []
   },
   "source": [
    "### 2.7 Dataset Summary (`info()`)  \n",
    "\n",
    "The `info()` function provides:  \n",
    "- **Column names and types** (e.g., integer, float, categorical).  \n",
    "- **Non-null counts** (to check for missing data).  \n",
    "- **Memory usage**, which is useful for optimizing performance.  "
   ]
  },
  {
   "cell_type": "code",
   "execution_count": 9,
   "id": "ef021d23",
   "metadata": {
    "execution": {
     "iopub.execute_input": "2025-03-08T00:21:07.983353Z",
     "iopub.status.busy": "2025-03-08T00:21:07.982928Z",
     "iopub.status.idle": "2025-03-08T00:21:08.001195Z",
     "shell.execute_reply": "2025-03-08T00:21:07.999722Z"
    },
    "papermill": {
     "duration": 0.038394,
     "end_time": "2025-03-08T00:21:08.002893",
     "exception": false,
     "start_time": "2025-03-08T00:21:07.964499",
     "status": "completed"
    },
    "tags": []
   },
   "outputs": [
    {
     "name": "stdout",
     "output_type": "stream",
     "text": [
      "DataFrame Info:\n",
      "<class 'pandas.core.frame.DataFrame'>\n",
      "RangeIndex: 13605401 entries, 0 to 13605400\n",
      "Data columns (total 8 columns):\n",
      " #   Column                  Dtype  \n",
      "---  ------                  -----  \n",
      " 0   SK_ID_PREV              int64  \n",
      " 1   SK_ID_CURR              int64  \n",
      " 2   NUM_INSTALMENT_VERSION  float64\n",
      " 3   NUM_INSTALMENT_NUMBER   int64  \n",
      " 4   DAYS_INSTALMENT         float64\n",
      " 5   DAYS_ENTRY_PAYMENT      float64\n",
      " 6   AMT_INSTALMENT          float64\n",
      " 7   AMT_PAYMENT             float64\n",
      "dtypes: float64(5), int64(3)\n",
      "memory usage: 830.4 MB\n"
     ]
    }
   ],
   "source": [
    "# Get a concise summary of the DataFrame\n",
    "print(\"DataFrame Info:\")\n",
    "df_installments_payments.info()"
   ]
  },
  {
   "cell_type": "markdown",
   "id": "c1a50dbc",
   "metadata": {
    "papermill": {
     "duration": 0.016565,
     "end_time": "2025-03-08T00:21:08.036497",
     "exception": false,
     "start_time": "2025-03-08T00:21:08.019932",
     "status": "completed"
    },
    "tags": []
   },
   "source": [
    "### 2.8 Descriptive Statistics  \n",
    "\n",
    "We generate summary statistics for:  \n",
    "- **Numeric columns** (`describe()`) → Mean, standard deviation, min/max, and quartiles.  \n",
    "- **Categorical columns** (`describe(include='object')`) → Count of unique values, most frequent categories.  \n",
    "This helps in **understanding distributions** and identifying possible anomalies.  "
   ]
  },
  {
   "cell_type": "code",
   "execution_count": 10,
   "id": "057daccb",
   "metadata": {
    "execution": {
     "iopub.execute_input": "2025-03-08T00:21:08.072709Z",
     "iopub.status.busy": "2025-03-08T00:21:08.072355Z",
     "iopub.status.idle": "2025-03-08T00:21:12.775070Z",
     "shell.execute_reply": "2025-03-08T00:21:12.773872Z"
    },
    "papermill": {
     "duration": 4.723832,
     "end_time": "2025-03-08T00:21:12.777340",
     "exception": false,
     "start_time": "2025-03-08T00:21:08.053508",
     "status": "completed"
    },
    "tags": []
   },
   "outputs": [
    {
     "name": "stdout",
     "output_type": "stream",
     "text": [
      "\n",
      "Descriptive Statistics:\n"
     ]
    },
    {
     "data": {
      "text/html": [
       "<div>\n",
       "<style scoped>\n",
       "    .dataframe tbody tr th:only-of-type {\n",
       "        vertical-align: middle;\n",
       "    }\n",
       "\n",
       "    .dataframe tbody tr th {\n",
       "        vertical-align: top;\n",
       "    }\n",
       "\n",
       "    .dataframe thead th {\n",
       "        text-align: right;\n",
       "    }\n",
       "</style>\n",
       "<table border=\"1\" class=\"dataframe\">\n",
       "  <thead>\n",
       "    <tr style=\"text-align: right;\">\n",
       "      <th></th>\n",
       "      <th>SK_ID_PREV</th>\n",
       "      <th>SK_ID_CURR</th>\n",
       "      <th>NUM_INSTALMENT_VERSION</th>\n",
       "      <th>NUM_INSTALMENT_NUMBER</th>\n",
       "      <th>DAYS_INSTALMENT</th>\n",
       "      <th>DAYS_ENTRY_PAYMENT</th>\n",
       "      <th>AMT_INSTALMENT</th>\n",
       "      <th>AMT_PAYMENT</th>\n",
       "    </tr>\n",
       "  </thead>\n",
       "  <tbody>\n",
       "    <tr>\n",
       "      <th>count</th>\n",
       "      <td>1.360540e+07</td>\n",
       "      <td>1.360540e+07</td>\n",
       "      <td>1.360540e+07</td>\n",
       "      <td>1.360540e+07</td>\n",
       "      <td>1.360540e+07</td>\n",
       "      <td>1.360250e+07</td>\n",
       "      <td>1.360540e+07</td>\n",
       "      <td>1.360250e+07</td>\n",
       "    </tr>\n",
       "    <tr>\n",
       "      <th>mean</th>\n",
       "      <td>1.903365e+06</td>\n",
       "      <td>2.784449e+05</td>\n",
       "      <td>8.566373e-01</td>\n",
       "      <td>1.887090e+01</td>\n",
       "      <td>-1.042270e+03</td>\n",
       "      <td>-1.051114e+03</td>\n",
       "      <td>1.705091e+04</td>\n",
       "      <td>1.723822e+04</td>\n",
       "    </tr>\n",
       "    <tr>\n",
       "      <th>std</th>\n",
       "      <td>5.362029e+05</td>\n",
       "      <td>1.027183e+05</td>\n",
       "      <td>1.035216e+00</td>\n",
       "      <td>2.666407e+01</td>\n",
       "      <td>8.009463e+02</td>\n",
       "      <td>8.005859e+02</td>\n",
       "      <td>5.057025e+04</td>\n",
       "      <td>5.473578e+04</td>\n",
       "    </tr>\n",
       "    <tr>\n",
       "      <th>min</th>\n",
       "      <td>1.000001e+06</td>\n",
       "      <td>1.000010e+05</td>\n",
       "      <td>0.000000e+00</td>\n",
       "      <td>1.000000e+00</td>\n",
       "      <td>-2.922000e+03</td>\n",
       "      <td>-4.921000e+03</td>\n",
       "      <td>0.000000e+00</td>\n",
       "      <td>0.000000e+00</td>\n",
       "    </tr>\n",
       "    <tr>\n",
       "      <th>25%</th>\n",
       "      <td>1.434191e+06</td>\n",
       "      <td>1.896390e+05</td>\n",
       "      <td>0.000000e+00</td>\n",
       "      <td>4.000000e+00</td>\n",
       "      <td>-1.654000e+03</td>\n",
       "      <td>-1.662000e+03</td>\n",
       "      <td>4.226085e+03</td>\n",
       "      <td>3.398265e+03</td>\n",
       "    </tr>\n",
       "    <tr>\n",
       "      <th>50%</th>\n",
       "      <td>1.896520e+06</td>\n",
       "      <td>2.786850e+05</td>\n",
       "      <td>1.000000e+00</td>\n",
       "      <td>8.000000e+00</td>\n",
       "      <td>-8.180000e+02</td>\n",
       "      <td>-8.270000e+02</td>\n",
       "      <td>8.884080e+03</td>\n",
       "      <td>8.125515e+03</td>\n",
       "    </tr>\n",
       "    <tr>\n",
       "      <th>75%</th>\n",
       "      <td>2.369094e+06</td>\n",
       "      <td>3.675300e+05</td>\n",
       "      <td>1.000000e+00</td>\n",
       "      <td>1.900000e+01</td>\n",
       "      <td>-3.610000e+02</td>\n",
       "      <td>-3.700000e+02</td>\n",
       "      <td>1.671021e+04</td>\n",
       "      <td>1.610842e+04</td>\n",
       "    </tr>\n",
       "    <tr>\n",
       "      <th>max</th>\n",
       "      <td>2.843499e+06</td>\n",
       "      <td>4.562550e+05</td>\n",
       "      <td>1.780000e+02</td>\n",
       "      <td>2.770000e+02</td>\n",
       "      <td>-1.000000e+00</td>\n",
       "      <td>-1.000000e+00</td>\n",
       "      <td>3.771488e+06</td>\n",
       "      <td>3.771488e+06</td>\n",
       "    </tr>\n",
       "  </tbody>\n",
       "</table>\n",
       "</div>"
      ],
      "text/plain": [
       "         SK_ID_PREV    SK_ID_CURR  NUM_INSTALMENT_VERSION  \\\n",
       "count  1.360540e+07  1.360540e+07            1.360540e+07   \n",
       "mean   1.903365e+06  2.784449e+05            8.566373e-01   \n",
       "std    5.362029e+05  1.027183e+05            1.035216e+00   \n",
       "min    1.000001e+06  1.000010e+05            0.000000e+00   \n",
       "25%    1.434191e+06  1.896390e+05            0.000000e+00   \n",
       "50%    1.896520e+06  2.786850e+05            1.000000e+00   \n",
       "75%    2.369094e+06  3.675300e+05            1.000000e+00   \n",
       "max    2.843499e+06  4.562550e+05            1.780000e+02   \n",
       "\n",
       "       NUM_INSTALMENT_NUMBER  DAYS_INSTALMENT  DAYS_ENTRY_PAYMENT  \\\n",
       "count           1.360540e+07     1.360540e+07        1.360250e+07   \n",
       "mean            1.887090e+01    -1.042270e+03       -1.051114e+03   \n",
       "std             2.666407e+01     8.009463e+02        8.005859e+02   \n",
       "min             1.000000e+00    -2.922000e+03       -4.921000e+03   \n",
       "25%             4.000000e+00    -1.654000e+03       -1.662000e+03   \n",
       "50%             8.000000e+00    -8.180000e+02       -8.270000e+02   \n",
       "75%             1.900000e+01    -3.610000e+02       -3.700000e+02   \n",
       "max             2.770000e+02    -1.000000e+00       -1.000000e+00   \n",
       "\n",
       "       AMT_INSTALMENT   AMT_PAYMENT  \n",
       "count    1.360540e+07  1.360250e+07  \n",
       "mean     1.705091e+04  1.723822e+04  \n",
       "std      5.057025e+04  5.473578e+04  \n",
       "min      0.000000e+00  0.000000e+00  \n",
       "25%      4.226085e+03  3.398265e+03  \n",
       "50%      8.884080e+03  8.125515e+03  \n",
       "75%      1.671021e+04  1.610842e+04  \n",
       "max      3.771488e+06  3.771488e+06  "
      ]
     },
     "metadata": {},
     "output_type": "display_data"
    },
    {
     "name": "stdout",
     "output_type": "stream",
     "text": [
      "\n",
      "✅ No categorical columns in the dataset.\n"
     ]
    }
   ],
   "source": [
    "# Get summary statistics of columns\n",
    "print(\"\\nDescriptive Statistics:\")\n",
    "display(df_installments_payments.describe())\n",
    "\n",
    "# Check for categorical columns before describing\n",
    "categorical_cols = df_installments_payments.select_dtypes(include=[\"object\"]).columns\n",
    "if len(categorical_cols) > 0:\n",
    "    print(\"\\nDescriptive Statistics (Categorical):\")\n",
    "    display(df_installments_payments.describe(include=\"object\"))\n",
    "else:\n",
    "    print(\"\\n✅ No categorical columns in the dataset.\")"
   ]
  },
  {
   "cell_type": "markdown",
   "id": "cfc295bb",
   "metadata": {
    "papermill": {
     "duration": 0.017674,
     "end_time": "2025-03-08T00:21:12.818360",
     "exception": false,
     "start_time": "2025-03-08T00:21:12.800686",
     "status": "completed"
    },
    "tags": []
   },
   "source": [
    "## 3. Initial Data Cleaning (`installments_payments.csv`)\n",
    "After identifying potential issues, we clean the dataset by handling **infinite values, categorical features, and potential misclassified columns**."
   ]
  },
  {
   "cell_type": "markdown",
   "id": "8f5fc5fb",
   "metadata": {
    "papermill": {
     "duration": 0.017236,
     "end_time": "2025-03-08T00:21:12.853113",
     "exception": false,
     "start_time": "2025-03-08T00:21:12.835877",
     "status": "completed"
    },
    "tags": []
   },
   "source": [
    "### 3.1 Replacing Infinite Values  \n",
    "Since infinite values (`inf`, `-inf`) can interfere with model training, we replace them with `NaN` to handle them properly later.  "
   ]
  },
  {
   "cell_type": "code",
   "execution_count": 11,
   "id": "da713d3c",
   "metadata": {
    "execution": {
     "iopub.execute_input": "2025-03-08T00:21:12.890308Z",
     "iopub.status.busy": "2025-03-08T00:21:12.889779Z",
     "iopub.status.idle": "2025-03-08T00:21:13.330797Z",
     "shell.execute_reply": "2025-03-08T00:21:13.329772Z"
    },
    "papermill": {
     "duration": 0.461415,
     "end_time": "2025-03-08T00:21:13.332417",
     "exception": false,
     "start_time": "2025-03-08T00:21:12.871002",
     "status": "completed"
    },
    "tags": []
   },
   "outputs": [
    {
     "name": "stdout",
     "output_type": "stream",
     "text": [
      "✅ Infinite values replaced with NaN.\n"
     ]
    }
   ],
   "source": [
    "# Replace infinite values with NaN before handling missing values\n",
    "df_installments_payments.replace([np.inf, -np.inf], np.nan, inplace=True)\n",
    "print(\"✅ Infinite values replaced with NaN.\")"
   ]
  },
  {
   "cell_type": "markdown",
   "id": "3f833015",
   "metadata": {
    "papermill": {
     "duration": 0.017378,
     "end_time": "2025-03-08T00:21:13.367772",
     "exception": false,
     "start_time": "2025-03-08T00:21:13.350394",
     "status": "completed"
    },
    "tags": []
   },
   "source": [
    "### 3.2 Converting Categorical Features  \n",
    "Some columns are stored as `object` or numeric types but should be categorical.  \n",
    "We identify and convert relevant columns to the **category dtype** for efficiency and proper encoding.  "
   ]
  },
  {
   "cell_type": "code",
   "execution_count": 12,
   "id": "aa466cdf",
   "metadata": {
    "execution": {
     "iopub.execute_input": "2025-03-08T00:21:13.404366Z",
     "iopub.status.busy": "2025-03-08T00:21:13.403945Z",
     "iopub.status.idle": "2025-03-08T00:21:15.829398Z",
     "shell.execute_reply": "2025-03-08T00:21:15.828264Z"
    },
    "papermill": {
     "duration": 2.446323,
     "end_time": "2025-03-08T00:21:15.831411",
     "exception": false,
     "start_time": "2025-03-08T00:21:13.385088",
     "status": "completed"
    },
    "tags": []
   },
   "outputs": [
    {
     "name": "stdout",
     "output_type": "stream",
     "text": [
      "✅ No categorical columns detected in this dataset. No dtype conversion needed.\n"
     ]
    }
   ],
   "source": [
    "# Check for potential categorical columns\n",
    "categorical_candidates = df_installments_payments.select_dtypes(include=['object']).columns.tolist()\n",
    "\n",
    "# Check numeric columns with low unique values (possible categorical)\n",
    "low_unique_counts = df_installments_payments.nunique()\n",
    "numeric_categoricals = low_unique_counts[(low_unique_counts < 20) & (df_installments_payments.dtypes != 'object')].index.tolist()\n",
    "\n",
    "# Combine detected categorical columns\n",
    "final_categorical_columns = categorical_candidates + numeric_categoricals\n",
    "\n",
    "# Convert detected columns to 'category' dtype if any exist\n",
    "if final_categorical_columns:\n",
    "    df_installments_payments[final_categorical_columns] = df_installments_payments[final_categorical_columns].astype(\"category\")\n",
    "    print(f\"✅ Converted categorical columns: {final_categorical_columns}\")\n",
    "else:\n",
    "    print(\"✅ No categorical columns detected in this dataset. No dtype conversion needed.\")"
   ]
  },
  {
   "cell_type": "markdown",
   "id": "2009188a",
   "metadata": {
    "papermill": {
     "duration": 0.017171,
     "end_time": "2025-03-08T00:21:15.867296",
     "exception": false,
     "start_time": "2025-03-08T00:21:15.850125",
     "status": "completed"
    },
    "tags": []
   },
   "source": [
    "### 3.3 Checking Unique Values in Categorical Columns  \n",
    "To ensure correct data types, we print the number of unique values in categorical columns.  \n",
    "This helps verify if any unexpected categories exist.  "
   ]
  },
  {
   "cell_type": "code",
   "execution_count": 13,
   "id": "cc73555c",
   "metadata": {
    "execution": {
     "iopub.execute_input": "2025-03-08T00:21:15.905072Z",
     "iopub.status.busy": "2025-03-08T00:21:15.904707Z",
     "iopub.status.idle": "2025-03-08T00:21:15.910439Z",
     "shell.execute_reply": "2025-03-08T00:21:15.909061Z"
    },
    "papermill": {
     "duration": 0.02673,
     "end_time": "2025-03-08T00:21:15.912353",
     "exception": false,
     "start_time": "2025-03-08T00:21:15.885623",
     "status": "completed"
    },
    "tags": []
   },
   "outputs": [
    {
     "name": "stdout",
     "output_type": "stream",
     "text": [
      "Unique values in categorical columns:\n",
      "✅ No categorical columns in this dataset.\n"
     ]
    }
   ],
   "source": [
    "print(\"Unique values in categorical columns:\")\n",
    "if final_categorical_columns:\n",
    "    for col in final_categorical_columns:\n",
    "        print(f\"{col}: {df_installments_payments[col].nunique()} unique values\")\n",
    "else:\n",
    "    print(\"✅ No categorical columns in this dataset.\")"
   ]
  },
  {
   "cell_type": "markdown",
   "id": "0a854795",
   "metadata": {
    "papermill": {
     "duration": 0.017691,
     "end_time": "2025-03-08T00:21:15.947676",
     "exception": false,
     "start_time": "2025-03-08T00:21:15.929985",
     "status": "completed"
    },
    "tags": []
   },
   "source": [
    "### 3.4 Checking Decimal Values in Float Columns  \n",
    "\n",
    "Some columns are stored as floats but should contain only **integer values** (e.g., counts of transactions or installments).  \n",
    "To verify correctness, we check how many rows in each float column contain non-integer (decimal) values.  \n",
    "This helps detect potential **data type mismatches** or **unexpected floating-point precision issues**.  "
   ]
  },
  {
   "cell_type": "code",
   "execution_count": 14,
   "id": "82500494",
   "metadata": {
    "execution": {
     "iopub.execute_input": "2025-03-08T00:21:15.985035Z",
     "iopub.status.busy": "2025-03-08T00:21:15.984630Z",
     "iopub.status.idle": "2025-03-08T00:21:40.710406Z",
     "shell.execute_reply": "2025-03-08T00:21:40.709153Z"
    },
    "papermill": {
     "duration": 24.746538,
     "end_time": "2025-03-08T00:21:40.712338",
     "exception": false,
     "start_time": "2025-03-08T00:21:15.965800",
     "status": "completed"
    },
    "tags": []
   },
   "outputs": [
    {
     "name": "stdout",
     "output_type": "stream",
     "text": [
      "\n",
      "Checking if float columns contain decimal values:\n",
      "NUM_INSTALMENT_VERSION           0\n",
      "DAYS_INSTALMENT                  0\n",
      "DAYS_ENTRY_PAYMENT            2905\n",
      "AMT_INSTALMENT            11714842\n",
      "AMT_PAYMENT               11601454\n",
      "dtype: int64\n"
     ]
    }
   ],
   "source": [
    "# Checking if float columns contain decimal values\n",
    "print(\"\\nChecking if float columns contain decimal values:\")\n",
    "\n",
    "# Identify all float columns\n",
    "float_cols = df_installments_payments.select_dtypes(include=['float']).columns\n",
    "\n",
    "# Count the number of rows in each float column that contain decimal values\n",
    "decimal_counts = df_installments_payments[float_cols].map(lambda x: x % 1 != 0).sum()\n",
    "\n",
    "# Print results\n",
    "print(decimal_counts)"
   ]
  },
  {
   "cell_type": "markdown",
   "id": "d91878c0",
   "metadata": {
    "papermill": {
     "duration": 0.017429,
     "end_time": "2025-03-08T00:21:40.748563",
     "exception": false,
     "start_time": "2025-03-08T00:21:40.731134",
     "status": "completed"
    },
    "tags": []
   },
   "source": [
    "### 3.5 Extracting Unique Decimal Values  \n",
    "\n",
    "To further investigate potential **data type mismatches**, we extract and display **unique decimal values** in float columns.  \n",
    "This helps confirm whether numerical features expected to be integers contain unintended floating-point values.  "
   ]
  },
  {
   "cell_type": "code",
   "execution_count": 15,
   "id": "df3844fb",
   "metadata": {
    "execution": {
     "iopub.execute_input": "2025-03-08T00:21:40.786991Z",
     "iopub.status.busy": "2025-03-08T00:21:40.786632Z",
     "iopub.status.idle": "2025-03-08T00:22:06.889881Z",
     "shell.execute_reply": "2025-03-08T00:22:06.888700Z"
    },
    "papermill": {
     "duration": 26.12472,
     "end_time": "2025-03-08T00:22:06.891640",
     "exception": false,
     "start_time": "2025-03-08T00:21:40.766920",
     "status": "completed"
    },
    "tags": []
   },
   "outputs": [
    {
     "name": "stdout",
     "output_type": "stream",
     "text": [
      "\n",
      "Checking unique decimal values:\n",
      "NUM_INSTALMENT_VERSION: [0.]\n",
      "DAYS_INSTALMENT: [0.]\n",
      "DAYS_ENTRY_PAYMENT: [0.]\n",
      "AMT_INSTALMENT: [0.36  0.525 0.    ... 0.45  0.66  0.72 ]\n",
      "AMT_PAYMENT: [0.36  0.525 0.    ... 0.45  0.66  0.72 ]\n"
     ]
    }
   ],
   "source": [
    "# Extract unique decimal values\n",
    "print(\"\\nChecking unique decimal values:\")\n",
    "for col in float_cols:\n",
    "    unique_decimals = df_installments_payments[col].dropna().map(lambda x: x % 1).unique()\n",
    "    print(f\"{col}: {unique_decimals}\")"
   ]
  },
  {
   "cell_type": "markdown",
   "id": "ad5b5a34",
   "metadata": {
    "papermill": {
     "duration": 0.017607,
     "end_time": "2025-03-08T00:22:06.927707",
     "exception": false,
     "start_time": "2025-03-08T00:22:06.910100",
     "status": "completed"
    },
    "tags": []
   },
   "source": [
    "### 3.6 Converting Count-Based Columns to Integers  \n",
    "\n",
    "Certain columns represent **count-based features**, but they may be mistakenly stored as floats.  \n",
    "To ensure consistency, we convert these columns to **integer type**, preserving numerical integrity.  "
   ]
  },
  {
   "cell_type": "code",
   "execution_count": 16,
   "id": "ed2b5f56",
   "metadata": {
    "execution": {
     "iopub.execute_input": "2025-03-08T00:22:06.966074Z",
     "iopub.status.busy": "2025-03-08T00:22:06.965707Z",
     "iopub.status.idle": "2025-03-08T00:22:11.211143Z",
     "shell.execute_reply": "2025-03-08T00:22:11.210030Z"
    },
    "papermill": {
     "duration": 4.266431,
     "end_time": "2025-03-08T00:22:11.212964",
     "exception": false,
     "start_time": "2025-03-08T00:22:06.946533",
     "status": "completed"
    },
    "tags": []
   },
   "outputs": [
    {
     "name": "stdout",
     "output_type": "stream",
     "text": [
      "✅ Converted ['NUM_INSTALMENT_VERSION', 'DAYS_INSTALMENT'] to Int64.\n"
     ]
    }
   ],
   "source": [
    "# Convert integer-like columns to 'Int64'\n",
    "int_columns = ['NUM_INSTALMENT_VERSION', 'DAYS_INSTALMENT']\n",
    "df_installments_payments[int_columns] = df_installments_payments[int_columns].astype('Int64')\n",
    "\n",
    "print(f\"✅ Converted {int_columns} to Int64.\")"
   ]
  },
  {
   "cell_type": "markdown",
   "id": "dfae15c2",
   "metadata": {
    "papermill": {
     "duration": 0.018022,
     "end_time": "2025-03-08T00:22:11.250266",
     "exception": false,
     "start_time": "2025-03-08T00:22:11.232244",
     "status": "completed"
    },
    "tags": []
   },
   "source": [
    "### 3.7 Verifying Decimal Values in `DAYS_ENTRY_PAYMENT`\n",
    "We check whether decimal values in `DAYS_ENTRY_PAYMENT` correspond to missing values.  \n",
    "If all detected decimal values match missing values, this suggests they may be artifacts of data representation rather than true numerical differences."
   ]
  },
  {
   "cell_type": "code",
   "execution_count": 17,
   "id": "c9313a87",
   "metadata": {
    "execution": {
     "iopub.execute_input": "2025-03-08T00:22:11.287696Z",
     "iopub.status.busy": "2025-03-08T00:22:11.287361Z",
     "iopub.status.idle": "2025-03-08T00:22:12.125240Z",
     "shell.execute_reply": "2025-03-08T00:22:12.123955Z"
    },
    "papermill": {
     "duration": 0.85846,
     "end_time": "2025-03-08T00:22:12.126905",
     "exception": false,
     "start_time": "2025-03-08T00:22:11.268445",
     "status": "completed"
    },
    "tags": []
   },
   "outputs": [
    {
     "name": "stdout",
     "output_type": "stream",
     "text": [
      "Missing values (NaNs) in DAYS_ENTRY_PAYMENT: 2905\n",
      "Decimal values in DAYS_ENTRY_PAYMENT: 2905\n"
     ]
    }
   ],
   "source": [
    "# Check if the decimal values in DAYS_ENTRY_PAYMENT correspond to missing values\n",
    "missing_values = df_installments_payments[\"DAYS_ENTRY_PAYMENT\"].isna().sum()\n",
    "decimal_values = (df_installments_payments[\"DAYS_ENTRY_PAYMENT\"] % 1 != 0).sum()\n",
    "\n",
    "print(f\"Missing values (NaNs) in DAYS_ENTRY_PAYMENT: {missing_values}\")\n",
    "print(f\"Decimal values in DAYS_ENTRY_PAYMENT: {decimal_values}\")"
   ]
  },
  {
   "cell_type": "markdown",
   "id": "c446d5c0",
   "metadata": {
    "papermill": {
     "duration": 0.018278,
     "end_time": "2025-03-08T00:22:12.163487",
     "exception": false,
     "start_time": "2025-03-08T00:22:12.145209",
     "status": "completed"
    },
    "tags": []
   },
   "source": [
    "### 3.8 Converting `DAYS_ENTRY_PAYMENT` to Integer\n",
    "Since all decimal values in `DAYS_ENTRY_PAYMENT` match missing values, we safely convert this column to integer format.  \n",
    "This ensures consistency in data types while preserving numerical integrity."
   ]
  },
  {
   "cell_type": "code",
   "execution_count": 18,
   "id": "2927ed93",
   "metadata": {
    "execution": {
     "iopub.execute_input": "2025-03-08T00:22:12.200653Z",
     "iopub.status.busy": "2025-03-08T00:22:12.200267Z",
     "iopub.status.idle": "2025-03-08T00:22:14.330465Z",
     "shell.execute_reply": "2025-03-08T00:22:14.329396Z"
    },
    "papermill": {
     "duration": 2.150731,
     "end_time": "2025-03-08T00:22:14.332071",
     "exception": false,
     "start_time": "2025-03-08T00:22:12.181340",
     "status": "completed"
    },
    "tags": []
   },
   "outputs": [
    {
     "name": "stdout",
     "output_type": "stream",
     "text": [
      "✅ Converted DAYS_ENTRY_PAYMENT to Int64.\n"
     ]
    }
   ],
   "source": [
    "# If all decimal values match missing values, convert to Int64\n",
    "if decimal_values == missing_values:\n",
    "    df_installments_payments[\"DAYS_ENTRY_PAYMENT\"] = df_installments_payments[\"DAYS_ENTRY_PAYMENT\"].astype('Int64')\n",
    "    print(\"✅ Converted DAYS_ENTRY_PAYMENT to Int64.\")"
   ]
  },
  {
   "cell_type": "markdown",
   "id": "5515a273",
   "metadata": {
    "papermill": {
     "duration": 0.017768,
     "end_time": "2025-03-08T00:22:14.368083",
     "exception": false,
     "start_time": "2025-03-08T00:22:14.350315",
     "status": "completed"
    },
    "tags": []
   },
   "source": [
    "### 3.9 Displaying Updated Data Types  \n",
    "\n",
    "After data cleaning, we check if all columns have the correct data types.  \n",
    "This ensures that categorical, numeric, and ID columns are properly assigned before further processing.  "
   ]
  },
  {
   "cell_type": "code",
   "execution_count": 19,
   "id": "345da5c0",
   "metadata": {
    "execution": {
     "iopub.execute_input": "2025-03-08T00:22:14.413775Z",
     "iopub.status.busy": "2025-03-08T00:22:14.413434Z",
     "iopub.status.idle": "2025-03-08T00:22:14.420596Z",
     "shell.execute_reply": "2025-03-08T00:22:14.419212Z"
    },
    "papermill": {
     "duration": 0.032743,
     "end_time": "2025-03-08T00:22:14.422719",
     "exception": false,
     "start_time": "2025-03-08T00:22:14.389976",
     "status": "completed"
    },
    "tags": []
   },
   "outputs": [
    {
     "name": "stdout",
     "output_type": "stream",
     "text": [
      "✅ Updated Data Types:\n",
      "SK_ID_PREV                  int64\n",
      "SK_ID_CURR                  int64\n",
      "NUM_INSTALMENT_VERSION      Int64\n",
      "NUM_INSTALMENT_NUMBER       int64\n",
      "DAYS_INSTALMENT             Int64\n",
      "DAYS_ENTRY_PAYMENT          Int64\n",
      "AMT_INSTALMENT            float64\n",
      "AMT_PAYMENT               float64\n",
      "dtype: object\n"
     ]
    }
   ],
   "source": [
    "# Display all columns and their data types\n",
    "pd.set_option('display.max_rows', None) \n",
    "print(\"✅ Updated Data Types:\")\n",
    "print(df_installments_payments.dtypes)\n",
    "pd.reset_option('display.max_rows')"
   ]
  },
  {
   "cell_type": "markdown",
   "id": "e6fe83c2",
   "metadata": {
    "papermill": {
     "duration": 0.02421,
     "end_time": "2025-03-08T00:22:14.475996",
     "exception": false,
     "start_time": "2025-03-08T00:22:14.451786",
     "status": "completed"
    },
    "tags": []
   },
   "source": [
    "### 3.10 Handling Missing Values  \n",
    "Missing values can impact model performance, so we analyze and handle them based on their percentage.  "
   ]
  },
  {
   "cell_type": "markdown",
   "id": "03188e19",
   "metadata": {
    "papermill": {
     "duration": 0.017818,
     "end_time": "2025-03-08T00:22:14.513780",
     "exception": false,
     "start_time": "2025-03-08T00:22:14.495962",
     "status": "completed"
    },
    "tags": []
   },
   "source": [
    "#### 3.10.1 Checking for Missing Values  \n",
    "We first identify missing values in each column to understand their distribution.  "
   ]
  },
  {
   "cell_type": "code",
   "execution_count": 20,
   "id": "93f7a2b6",
   "metadata": {
    "execution": {
     "iopub.execute_input": "2025-03-08T00:22:14.551549Z",
     "iopub.status.busy": "2025-03-08T00:22:14.551145Z",
     "iopub.status.idle": "2025-03-08T00:22:14.771002Z",
     "shell.execute_reply": "2025-03-08T00:22:14.769435Z"
    },
    "papermill": {
     "duration": 0.240613,
     "end_time": "2025-03-08T00:22:14.772810",
     "exception": false,
     "start_time": "2025-03-08T00:22:14.532197",
     "status": "completed"
    },
    "tags": []
   },
   "outputs": [
    {
     "name": "stdout",
     "output_type": "stream",
     "text": [
      "Missing values in each column:\n",
      "SK_ID_PREV                   0\n",
      "SK_ID_CURR                   0\n",
      "NUM_INSTALMENT_VERSION       0\n",
      "NUM_INSTALMENT_NUMBER        0\n",
      "DAYS_INSTALMENT              0\n",
      "DAYS_ENTRY_PAYMENT        2905\n",
      "AMT_INSTALMENT               0\n",
      "AMT_PAYMENT               2905\n",
      "dtype: int64\n"
     ]
    }
   ],
   "source": [
    "# Check for missing values\n",
    "pd.set_option('display.max_rows', None) \n",
    "print(\"Missing values in each column:\")\n",
    "print(df_installments_payments.isnull().sum())\n",
    "pd.reset_option('display.max_rows')"
   ]
  },
  {
   "cell_type": "markdown",
   "id": "35f255d4",
   "metadata": {
    "papermill": {
     "duration": 0.017823,
     "end_time": "2025-03-08T00:22:14.809195",
     "exception": false,
     "start_time": "2025-03-08T00:22:14.791372",
     "status": "completed"
    },
    "tags": []
   },
   "source": [
    "#### 3.10.2 Calculating Missing Value Percentages  \n",
    "To categorize missing values, we define thresholds:  \n",
    "- **Low**: Less than 1% missing (likely safe to fill with median/mean).  \n",
    "- **Moderate**: 1%–20% missing (requires careful handling).  \n",
    "- **High**: More than 50% missing (usually dropped unless critical).  "
   ]
  },
  {
   "cell_type": "code",
   "execution_count": 21,
   "id": "4844fff7",
   "metadata": {
    "execution": {
     "iopub.execute_input": "2025-03-08T00:22:14.847994Z",
     "iopub.status.busy": "2025-03-08T00:22:14.847643Z",
     "iopub.status.idle": "2025-03-08T00:22:15.074493Z",
     "shell.execute_reply": "2025-03-08T00:22:15.073431Z"
    },
    "papermill": {
     "duration": 0.248072,
     "end_time": "2025-03-08T00:22:15.076144",
     "exception": false,
     "start_time": "2025-03-08T00:22:14.828072",
     "status": "completed"
    },
    "tags": []
   },
   "outputs": [
    {
     "name": "stdout",
     "output_type": "stream",
     "text": [
      "Missing Value Percentages:\n"
     ]
    },
    {
     "data": {
      "text/plain": [
       "DAYS_ENTRY_PAYMENT    0.02%\n",
       "AMT_PAYMENT           0.02%\n",
       "dtype: object"
      ]
     },
     "metadata": {},
     "output_type": "display_data"
    }
   ],
   "source": [
    "# Define missing value thresholds (scaled to percentage)\n",
    "low_threshold = 1  # Less than 1% missing\n",
    "moderate_threshold = 20  # Between 1% and 20% missing\n",
    "high_threshold = 50  # More than 50% missing \n",
    "\n",
    "# Calculate missing value percentage\n",
    "missing_percent = (df_installments_payments.isnull().sum() / len(df_installments_payments)) * 100  \n",
    "\n",
    "# Display missing percentages\n",
    "print(\"Missing Value Percentages:\")\n",
    "display(missing_percent[missing_percent > 0].sort_values(ascending=False).apply(lambda x: f\"{x:.2f}%\"))"
   ]
  },
  {
   "cell_type": "markdown",
   "id": "4af97cca",
   "metadata": {
    "papermill": {
     "duration": 0.018485,
     "end_time": "2025-03-08T00:22:15.113814",
     "exception": false,
     "start_time": "2025-03-08T00:22:15.095329",
     "status": "completed"
    },
    "tags": []
   },
   "source": [
    "#### 3.10.3 Dropping Columns with Excessive Missing Data  \n",
    "Columns with **more than 50% missing values** are removed to prevent data leakage and reduce noise.  "
   ]
  },
  {
   "cell_type": "code",
   "execution_count": 22,
   "id": "9dd07721",
   "metadata": {
    "execution": {
     "iopub.execute_input": "2025-03-08T00:22:15.153060Z",
     "iopub.status.busy": "2025-03-08T00:22:15.152574Z",
     "iopub.status.idle": "2025-03-08T00:22:15.495152Z",
     "shell.execute_reply": "2025-03-08T00:22:15.493967Z"
    },
    "papermill": {
     "duration": 0.365017,
     "end_time": "2025-03-08T00:22:15.497232",
     "exception": false,
     "start_time": "2025-03-08T00:22:15.132215",
     "status": "completed"
    },
    "tags": []
   },
   "outputs": [
    {
     "name": "stdout",
     "output_type": "stream",
     "text": [
      "✅ Dropped 0 columns with more than 50% missing values: []\n"
     ]
    }
   ],
   "source": [
    "# Identify columns to drop (more than 50% missing values)\n",
    "columns_to_drop = missing_percent[missing_percent > high_threshold].index\n",
    "\n",
    "# Drop columns\n",
    "df_installments_payments.drop(columns=columns_to_drop, inplace=True)\n",
    "\n",
    "print(f\"✅ Dropped {len(columns_to_drop)} columns with more than 50% missing values: {list(columns_to_drop)}\")"
   ]
  },
  {
   "cell_type": "markdown",
   "id": "d85bd506",
   "metadata": {
    "papermill": {
     "duration": 0.018538,
     "end_time": "2025-03-08T00:22:15.540199",
     "exception": false,
     "start_time": "2025-03-08T00:22:15.521661",
     "status": "completed"
    },
    "tags": []
   },
   "source": [
    "### 3.11 Filling Missing Values  \n",
    "\n",
    "To ensure data completeness, we fill missing values in both **numeric** and **categorical** columns using appropriate strategies.  \n",
    "- **Numeric values** → Filled with **median** (robust to outliers).  \n",
    "- **Categorical values** → Filled with **mode** (most frequent category).  "
   ]
  },
  {
   "cell_type": "code",
   "execution_count": 23,
   "id": "4ede158f",
   "metadata": {
    "execution": {
     "iopub.execute_input": "2025-03-08T00:22:15.578947Z",
     "iopub.status.busy": "2025-03-08T00:22:15.578467Z",
     "iopub.status.idle": "2025-03-08T00:22:19.977246Z",
     "shell.execute_reply": "2025-03-08T00:22:19.976065Z"
    },
    "papermill": {
     "duration": 4.42026,
     "end_time": "2025-03-08T00:22:19.979056",
     "exception": false,
     "start_time": "2025-03-08T00:22:15.558796",
     "status": "completed"
    },
    "tags": []
   },
   "outputs": [
    {
     "name": "stdout",
     "output_type": "stream",
     "text": [
      "✅ Filled numeric missing values with median.\n"
     ]
    }
   ],
   "source": [
    "# Fill numeric columns with median\n",
    "numeric_cols_to_fill = df_installments_payments.select_dtypes(include=['int64', 'float64']).columns\n",
    "df_installments_payments[numeric_cols_to_fill] = df_installments_payments[numeric_cols_to_fill].fillna(df_installments_payments[numeric_cols_to_fill].median())\n",
    "\n",
    "print(\"✅ Filled numeric missing values with median.\")"
   ]
  },
  {
   "cell_type": "markdown",
   "id": "59f20d21",
   "metadata": {
    "papermill": {
     "duration": 0.018279,
     "end_time": "2025-03-08T00:22:20.016480",
     "exception": false,
     "start_time": "2025-03-08T00:22:19.998201",
     "status": "completed"
    },
    "tags": []
   },
   "source": [
    "### 3.12 Final Missing Values Check  \n",
    "After filling missing values, we perform a final check to confirm that **no NaNs remain** in the dataset.  "
   ]
  },
  {
   "cell_type": "code",
   "execution_count": 24,
   "id": "30a3a99c",
   "metadata": {
    "execution": {
     "iopub.execute_input": "2025-03-08T00:22:20.055603Z",
     "iopub.status.busy": "2025-03-08T00:22:20.055216Z",
     "iopub.status.idle": "2025-03-08T00:22:20.250666Z",
     "shell.execute_reply": "2025-03-08T00:22:20.249483Z"
    },
    "papermill": {
     "duration": 0.217214,
     "end_time": "2025-03-08T00:22:20.252309",
     "exception": false,
     "start_time": "2025-03-08T00:22:20.035095",
     "status": "completed"
    },
    "tags": []
   },
   "outputs": [
    {
     "name": "stdout",
     "output_type": "stream",
     "text": [
      "Final Missing Values Check:\n",
      "0\n"
     ]
    }
   ],
   "source": [
    "# Final Missing Values Check\n",
    "print(\"Final Missing Values Check:\")\n",
    "print(df_installments_payments.isnull().sum().sum())"
   ]
  },
  {
   "cell_type": "markdown",
   "id": "839d39f4",
   "metadata": {
    "papermill": {
     "duration": 0.018103,
     "end_time": "2025-03-08T00:22:20.288981",
     "exception": false,
     "start_time": "2025-03-08T00:22:20.270878",
     "status": "completed"
    },
    "tags": []
   },
   "source": [
    "### 3.13 Checking for Duplicates  \n",
    "Duplicate rows can cause data leakage and distort model training.  \n",
    "We check for duplicates and ensure that no redundant rows exist.  "
   ]
  },
  {
   "cell_type": "code",
   "execution_count": 25,
   "id": "4d717e08",
   "metadata": {
    "execution": {
     "iopub.execute_input": "2025-03-08T00:22:20.327257Z",
     "iopub.status.busy": "2025-03-08T00:22:20.326828Z",
     "iopub.status.idle": "2025-03-08T00:22:38.301357Z",
     "shell.execute_reply": "2025-03-08T00:22:38.300269Z"
    },
    "papermill": {
     "duration": 17.995635,
     "end_time": "2025-03-08T00:22:38.303024",
     "exception": false,
     "start_time": "2025-03-08T00:22:20.307389",
     "status": "completed"
    },
    "tags": []
   },
   "outputs": [
    {
     "name": "stdout",
     "output_type": "stream",
     "text": [
      "Number of duplicate rows: 0\n"
     ]
    }
   ],
   "source": [
    "# Check for duplicates\n",
    "print(\"Number of duplicate rows:\", df_installments_payments.duplicated().sum())"
   ]
  },
  {
   "cell_type": "markdown",
   "id": "5c53d002",
   "metadata": {
    "papermill": {
     "duration": 0.018385,
     "end_time": "2025-03-08T00:22:38.340130",
     "exception": false,
     "start_time": "2025-03-08T00:22:38.321745",
     "status": "completed"
    },
    "tags": []
   },
   "source": [
    "### 3.14 Saving the Cleaned Dataset  \n",
    "\n",
    "Before saving, we **verify all column data types** to ensure correctness after processing.  \n",
    "\n",
    "We save the cleaned dataset for the following purpose:  \n",
    "\n",
    "**Feature Ranges for Dummy Data** → This dataset is later used in the **Angular + Flask app** to generate test data for predictions.  "
   ]
  },
  {
   "cell_type": "code",
   "execution_count": 26,
   "id": "12c25fb9",
   "metadata": {
    "execution": {
     "iopub.execute_input": "2025-03-08T00:22:38.378984Z",
     "iopub.status.busy": "2025-03-08T00:22:38.378633Z",
     "iopub.status.idle": "2025-03-08T00:22:38.385628Z",
     "shell.execute_reply": "2025-03-08T00:22:38.384451Z"
    },
    "papermill": {
     "duration": 0.028752,
     "end_time": "2025-03-08T00:22:38.387303",
     "exception": false,
     "start_time": "2025-03-08T00:22:38.358551",
     "status": "completed"
    },
    "tags": []
   },
   "outputs": [
    {
     "name": "stdout",
     "output_type": "stream",
     "text": [
      "✅ Updated Data Types for df_installments_payments:\n",
      "SK_ID_PREV                  int64\n",
      "SK_ID_CURR                  int64\n",
      "NUM_INSTALMENT_VERSION      Int64\n",
      "NUM_INSTALMENT_NUMBER       int64\n",
      "DAYS_INSTALMENT             Int64\n",
      "DAYS_ENTRY_PAYMENT          Int64\n",
      "AMT_INSTALMENT            float64\n",
      "AMT_PAYMENT               float64\n",
      "dtype: object\n"
     ]
    }
   ],
   "source": [
    "# Display all columns and their data types\n",
    "pd.set_option('display.max_rows', None) \n",
    "print(\"✅ Updated Data Types for df_installments_payments:\")\n",
    "print(df_installments_payments.dtypes)\n",
    "pd.reset_option('display.max_rows')"
   ]
  },
  {
   "cell_type": "code",
   "execution_count": 27,
   "id": "6c6444d1",
   "metadata": {
    "execution": {
     "iopub.execute_input": "2025-03-08T00:22:38.426279Z",
     "iopub.status.busy": "2025-03-08T00:22:38.425882Z",
     "iopub.status.idle": "2025-03-08T00:23:31.971288Z",
     "shell.execute_reply": "2025-03-08T00:23:31.969991Z"
    },
    "papermill": {
     "duration": 53.585178,
     "end_time": "2025-03-08T00:23:31.991471",
     "exception": false,
     "start_time": "2025-03-08T00:22:38.406293",
     "status": "completed"
    },
    "tags": []
   },
   "outputs": [
    {
     "name": "stdout",
     "output_type": "stream",
     "text": [
      "✅ Cleaned Installments Payments dataset saved successfully!\n"
     ]
    }
   ],
   "source": [
    "df_installments_payments.to_csv(\"cleaned_installments_payments.csv\")\n",
    "df_installments_payments.to_pickle(\"cleaned_installments_payments.pkl\")\n",
    "\n",
    "print(\"✅ Cleaned Installments Payments dataset saved successfully!\")"
   ]
  },
  {
   "cell_type": "markdown",
   "id": "e1372501",
   "metadata": {
    "papermill": {
     "duration": 0.018412,
     "end_time": "2025-03-08T00:23:32.028965",
     "exception": false,
     "start_time": "2025-03-08T00:23:32.010553",
     "status": "completed"
    },
    "tags": []
   },
   "source": [
    "## 4. Exploratory Data Analysis (`installments_payments.csv`)\n",
    "\n",
    "EDA helps us **understand data distributions, correlations, and patterns** that might impact feature engineering.  "
   ]
  },
  {
   "cell_type": "markdown",
   "id": "149bb31b",
   "metadata": {
    "papermill": {
     "duration": 0.019133,
     "end_time": "2025-03-08T00:23:32.066944",
     "exception": false,
     "start_time": "2025-03-08T00:23:32.047811",
     "status": "completed"
    },
    "tags": []
   },
   "source": [
    "### 4.1 Summary Statistics  \n",
    "\n",
    "We first generate summary statistics for both **numeric** and **categorical features** to check distributions, outliers, and data consistency.  "
   ]
  },
  {
   "cell_type": "code",
   "execution_count": 28,
   "id": "db2602e5",
   "metadata": {
    "execution": {
     "iopub.execute_input": "2025-03-08T00:23:32.106156Z",
     "iopub.status.busy": "2025-03-08T00:23:32.105754Z",
     "iopub.status.idle": "2025-03-08T00:23:37.114789Z",
     "shell.execute_reply": "2025-03-08T00:23:37.113632Z"
    },
    "papermill": {
     "duration": 5.03063,
     "end_time": "2025-03-08T00:23:37.116585",
     "exception": false,
     "start_time": "2025-03-08T00:23:32.085955",
     "status": "completed"
    },
    "tags": []
   },
   "outputs": [
    {
     "name": "stdout",
     "output_type": "stream",
     "text": [
      "Summary Statistics (Numeric Features):\n"
     ]
    },
    {
     "data": {
      "text/html": [
       "<div>\n",
       "<style scoped>\n",
       "    .dataframe tbody tr th:only-of-type {\n",
       "        vertical-align: middle;\n",
       "    }\n",
       "\n",
       "    .dataframe tbody tr th {\n",
       "        vertical-align: top;\n",
       "    }\n",
       "\n",
       "    .dataframe thead th {\n",
       "        text-align: right;\n",
       "    }\n",
       "</style>\n",
       "<table border=\"1\" class=\"dataframe\">\n",
       "  <thead>\n",
       "    <tr style=\"text-align: right;\">\n",
       "      <th></th>\n",
       "      <th>count</th>\n",
       "      <th>mean</th>\n",
       "      <th>std</th>\n",
       "      <th>min</th>\n",
       "      <th>25%</th>\n",
       "      <th>50%</th>\n",
       "      <th>75%</th>\n",
       "      <th>max</th>\n",
       "    </tr>\n",
       "  </thead>\n",
       "  <tbody>\n",
       "    <tr>\n",
       "      <th>SK_ID_PREV</th>\n",
       "      <td>13605401.0</td>\n",
       "      <td>1903364.969549</td>\n",
       "      <td>536202.905546</td>\n",
       "      <td>1000001.0</td>\n",
       "      <td>1434191.0</td>\n",
       "      <td>1896520.0</td>\n",
       "      <td>2369094.0</td>\n",
       "      <td>2843499.0</td>\n",
       "    </tr>\n",
       "    <tr>\n",
       "      <th>SK_ID_CURR</th>\n",
       "      <td>13605401.0</td>\n",
       "      <td>278444.881738</td>\n",
       "      <td>102718.310411</td>\n",
       "      <td>100001.0</td>\n",
       "      <td>189639.0</td>\n",
       "      <td>278685.0</td>\n",
       "      <td>367530.0</td>\n",
       "      <td>456255.0</td>\n",
       "    </tr>\n",
       "    <tr>\n",
       "      <th>NUM_INSTALMENT_VERSION</th>\n",
       "      <td>13605401.0</td>\n",
       "      <td>0.856637</td>\n",
       "      <td>1.035216</td>\n",
       "      <td>0.0</td>\n",
       "      <td>0.0</td>\n",
       "      <td>1.0</td>\n",
       "      <td>1.0</td>\n",
       "      <td>178.0</td>\n",
       "    </tr>\n",
       "    <tr>\n",
       "      <th>NUM_INSTALMENT_NUMBER</th>\n",
       "      <td>13605401.0</td>\n",
       "      <td>18.870896</td>\n",
       "      <td>26.664067</td>\n",
       "      <td>1.0</td>\n",
       "      <td>4.0</td>\n",
       "      <td>8.0</td>\n",
       "      <td>19.0</td>\n",
       "      <td>277.0</td>\n",
       "    </tr>\n",
       "    <tr>\n",
       "      <th>DAYS_INSTALMENT</th>\n",
       "      <td>13605401.0</td>\n",
       "      <td>-1042.269992</td>\n",
       "      <td>800.946284</td>\n",
       "      <td>-2922.0</td>\n",
       "      <td>-1654.0</td>\n",
       "      <td>-818.0</td>\n",
       "      <td>-361.0</td>\n",
       "      <td>-1.0</td>\n",
       "    </tr>\n",
       "    <tr>\n",
       "      <th>DAYS_ENTRY_PAYMENT</th>\n",
       "      <td>13605401.0</td>\n",
       "      <td>-1051.065832</td>\n",
       "      <td>800.507106</td>\n",
       "      <td>-4921.0</td>\n",
       "      <td>-1662.0</td>\n",
       "      <td>-827.0</td>\n",
       "      <td>-370.0</td>\n",
       "      <td>-1.0</td>\n",
       "    </tr>\n",
       "    <tr>\n",
       "      <th>AMT_INSTALMENT</th>\n",
       "      <td>13605401.0</td>\n",
       "      <td>17050.906989</td>\n",
       "      <td>50570.254429</td>\n",
       "      <td>0.0</td>\n",
       "      <td>4226.085</td>\n",
       "      <td>8884.08</td>\n",
       "      <td>16710.21</td>\n",
       "      <td>3771487.845</td>\n",
       "    </tr>\n",
       "    <tr>\n",
       "      <th>AMT_PAYMENT</th>\n",
       "      <td>13605401.0</td>\n",
       "      <td>17236.277521</td>\n",
       "      <td>54730.102077</td>\n",
       "      <td>0.0</td>\n",
       "      <td>3399.3</td>\n",
       "      <td>8125.515</td>\n",
       "      <td>16105.905</td>\n",
       "      <td>3771487.845</td>\n",
       "    </tr>\n",
       "  </tbody>\n",
       "</table>\n",
       "</div>"
      ],
      "text/plain": [
       "                             count            mean            std        min  \\\n",
       "SK_ID_PREV              13605401.0  1903364.969549  536202.905546  1000001.0   \n",
       "SK_ID_CURR              13605401.0   278444.881738  102718.310411   100001.0   \n",
       "NUM_INSTALMENT_VERSION  13605401.0        0.856637       1.035216        0.0   \n",
       "NUM_INSTALMENT_NUMBER   13605401.0       18.870896      26.664067        1.0   \n",
       "DAYS_INSTALMENT         13605401.0    -1042.269992     800.946284    -2922.0   \n",
       "DAYS_ENTRY_PAYMENT      13605401.0    -1051.065832     800.507106    -4921.0   \n",
       "AMT_INSTALMENT          13605401.0    17050.906989   50570.254429        0.0   \n",
       "AMT_PAYMENT             13605401.0    17236.277521   54730.102077        0.0   \n",
       "\n",
       "                              25%        50%        75%          max  \n",
       "SK_ID_PREV              1434191.0  1896520.0  2369094.0    2843499.0  \n",
       "SK_ID_CURR               189639.0   278685.0   367530.0     456255.0  \n",
       "NUM_INSTALMENT_VERSION        0.0        1.0        1.0        178.0  \n",
       "NUM_INSTALMENT_NUMBER         4.0        8.0       19.0        277.0  \n",
       "DAYS_INSTALMENT           -1654.0     -818.0     -361.0         -1.0  \n",
       "DAYS_ENTRY_PAYMENT        -1662.0     -827.0     -370.0         -1.0  \n",
       "AMT_INSTALMENT           4226.085    8884.08   16710.21  3771487.845  \n",
       "AMT_PAYMENT                3399.3   8125.515  16105.905  3771487.845  "
      ]
     },
     "metadata": {},
     "output_type": "display_data"
    }
   ],
   "source": [
    "### Summary Statistics\n",
    "pd.set_option('display.max_columns', None)\n",
    "\n",
    "# Numeric summary\n",
    "print(\"Summary Statistics (Numeric Features):\")\n",
    "display(df_installments_payments.describe().T)\n",
    "\n",
    "pd.reset_option('display.max_columns')"
   ]
  },
  {
   "cell_type": "markdown",
   "id": "f1927f82",
   "metadata": {
    "papermill": {
     "duration": 0.018462,
     "end_time": "2025-03-08T00:23:37.154868",
     "exception": false,
     "start_time": "2025-03-08T00:23:37.136406",
     "status": "completed"
    },
    "tags": []
   },
   "source": [
    "### 4.2 Correlation Analysis  \n",
    "\n",
    "We calculate feature correlations to detect **strongly related variables**.  \n",
    "This helps identify **redundant features** and potential **new interactions** for modeling.  "
   ]
  },
  {
   "cell_type": "code",
   "execution_count": 29,
   "id": "aa233233",
   "metadata": {
    "execution": {
     "iopub.execute_input": "2025-03-08T00:23:37.193946Z",
     "iopub.status.busy": "2025-03-08T00:23:37.193568Z",
     "iopub.status.idle": "2025-03-08T00:23:41.388263Z",
     "shell.execute_reply": "2025-03-08T00:23:41.387035Z"
    },
    "papermill": {
     "duration": 4.216518,
     "end_time": "2025-03-08T00:23:41.390194",
     "exception": false,
     "start_time": "2025-03-08T00:23:37.173676",
     "status": "completed"
    },
    "tags": []
   },
   "outputs": [
    {
     "name": "stdout",
     "output_type": "stream",
     "text": [
      "Top 10 Most Correlated Features in `df_installments_payments`:\n",
      "DAYS_ENTRY_PAYMENT      DAYS_INSTALMENT           0.999395\n",
      "DAYS_INSTALMENT         DAYS_ENTRY_PAYMENT        0.999395\n",
      "AMT_PAYMENT             AMT_INSTALMENT            0.937059\n",
      "AMT_INSTALMENT          AMT_PAYMENT               0.937059\n",
      "NUM_INSTALMENT_VERSION  AMT_PAYMENT               0.176530\n",
      "AMT_PAYMENT             NUM_INSTALMENT_VERSION    0.176530\n",
      "AMT_INSTALMENT          NUM_INSTALMENT_VERSION    0.168109\n",
      "NUM_INSTALMENT_VERSION  AMT_INSTALMENT            0.168109\n",
      "DAYS_INSTALMENT         NUM_INSTALMENT_VERSION    0.130244\n",
      "NUM_INSTALMENT_VERSION  DAYS_INSTALMENT           0.130244\n",
      "dtype: float64\n"
     ]
    }
   ],
   "source": [
    "# Select only numeric columns from df_installments_payments\n",
    "numeric_data = df_installments_payments.select_dtypes(include=[np.number])\n",
    "\n",
    "# Calculate the correlation matrix\n",
    "corr_matrix = numeric_data.corr()\n",
    "\n",
    "# Display top 10 most correlated feature pairs (excluding self-correlations)\n",
    "print(\"Top 10 Most Correlated Features in `df_installments_payments`:\")\n",
    "corr_pairs = corr_matrix.unstack().sort_values(ascending=False)\n",
    "corr_pairs = corr_pairs[corr_pairs < 1]  # Remove self-correlations\n",
    "print(corr_pairs.head(10))"
   ]
  },
  {
   "cell_type": "markdown",
   "id": "520fd763",
   "metadata": {
    "papermill": {
     "duration": 0.019042,
     "end_time": "2025-03-08T00:23:41.428689",
     "exception": false,
     "start_time": "2025-03-08T00:23:41.409647",
     "status": "completed"
    },
    "tags": []
   },
   "source": [
    "### Key Takeaways:\n",
    "- **Near-perfect correlation (~1.0)** exists between `DAYS_ENTRY_PAYMENT` and `DAYS_INSTALLMENT`, indicating potential redundancy.\n",
    "- **High correlations (~0.93-0.99)** between `AMT_PAYMENT`, `AMT_INSTALMENT`, and other numeric features suggest they may represent similar information.\n",
    "- These correlations indicate that **some features could be combined or removed** to avoid multicollinearity, which may impact model stability and performance."
   ]
  },
  {
   "cell_type": "markdown",
   "id": "42e04925",
   "metadata": {
    "papermill": {
     "duration": 0.019055,
     "end_time": "2025-03-08T00:23:41.466804",
     "exception": false,
     "start_time": "2025-03-08T00:23:41.447749",
     "status": "completed"
    },
    "tags": []
   },
   "source": [
    "### 4.3 Correlation Heatmap  \n",
    "\n",
    "We visualize the correlation matrix using a **heatmap** to detect strongly related features.  \n",
    "This helps identify **redundant features** and possible **new interactions** for modeling.  "
   ]
  },
  {
   "cell_type": "code",
   "execution_count": 30,
   "id": "c1d37294",
   "metadata": {
    "execution": {
     "iopub.execute_input": "2025-03-08T00:23:41.507978Z",
     "iopub.status.busy": "2025-03-08T00:23:41.507595Z",
     "iopub.status.idle": "2025-03-08T00:23:41.952071Z",
     "shell.execute_reply": "2025-03-08T00:23:41.950925Z"
    },
    "papermill": {
     "duration": 0.466953,
     "end_time": "2025-03-08T00:23:41.953883",
     "exception": false,
     "start_time": "2025-03-08T00:23:41.486930",
     "status": "completed"
    },
    "tags": []
   },
   "outputs": [
    {
     "data": {
      "image/png": "[encoded data removed]",
      "text/plain": [
       "<Figure size 1200x800 with 2 Axes>"
      ]
     },
     "metadata": {},
     "output_type": "display_data"
    }
   ],
   "source": [
    "# Visualize the correlation matrix using a heatmap\n",
    "mask = np.triu(np.ones_like(corr_matrix, dtype=bool)) \n",
    "\n",
    "# Set figure size\n",
    "plt.figure(figsize=(12, 8))\n",
    "\n",
    "# Create heatmap\n",
    "sns.heatmap(\n",
    "    corr_matrix, \n",
    "    mask=mask, \n",
    "    annot=False, \n",
    "    cmap=\"coolwarm\", \n",
    "    linewidths=0.5, \n",
    "    vmin=-1, vmax=1\n",
    ")\n",
    "\n",
    "# Title\n",
    "plt.title(\"Correlation Heatmap (df_installments_payments)\")\n",
    "plt.show()"
   ]
  },
  {
   "cell_type": "markdown",
   "id": "8c8db409",
   "metadata": {
    "papermill": {
     "duration": 0.020896,
     "end_time": "2025-03-08T00:23:41.995641",
     "exception": false,
     "start_time": "2025-03-08T00:23:41.974745",
     "status": "completed"
    },
    "tags": []
   },
   "source": [
    "### Key Takeaways:\n",
    "- **Strong positive correlations (~1.0)** exist between `DAYS_INSTALLMENT` and `DAYS_ENTRY_PAYMENT`, as well as `AMT_INSTALMENT` and `AMT_PAYMENT`, indicating that these features capture similar information.\n",
    "- **Moderate correlations** between `NUM_INSTALLMENT_VERSION` and `NUM_INSTALLMENT_NUMBER` suggest some level of relationship, but they are not fully redundant.\n",
    "- **Potential feature reduction**: To avoid multicollinearity, `DAYS_ENTRY_PAYMENT` or `DAYS_INSTALLMENT` could be dropped or combined, and similarly, `AMT_PAYMENT` or `AMT_INSTALMENT` might be simplified if needed."
   ]
  },
  {
   "cell_type": "markdown",
   "id": "12c26bfe",
   "metadata": {
    "papermill": {
     "duration": 0.020004,
     "end_time": "2025-03-08T00:23:42.036303",
     "exception": false,
     "start_time": "2025-03-08T00:23:42.016299",
     "status": "completed"
    },
    "tags": []
   },
   "source": [
    "### 4.4 Visualizing Outliers  \n",
    "\n",
    "We plot boxplots of key numerical features to detect **potential extreme values**.  \n",
    "Since LightGBM handles outliers efficiently, **no transformations** are applied.  "
   ]
  },
  {
   "cell_type": "code",
   "execution_count": 31,
   "id": "cbef64e5",
   "metadata": {
    "execution": {
     "iopub.execute_input": "2025-03-08T00:23:42.079602Z",
     "iopub.status.busy": "2025-03-08T00:23:42.079246Z",
     "iopub.status.idle": "2025-03-08T00:25:28.509810Z",
     "shell.execute_reply": "2025-03-08T00:25:28.508725Z"
    },
    "papermill": {
     "duration": 106.476105,
     "end_time": "2025-03-08T00:25:28.533600",
     "exception": false,
     "start_time": "2025-03-08T00:23:42.057495",
     "status": "completed"
    },
    "tags": []
   },
   "outputs": [
    {
     "data": {
      "image/png": "[encoded data removed]",
      "text/plain": [
       "<Figure size 1200x600 with 1 Axes>"
      ]
     },
     "metadata": {},
     "output_type": "display_data"
    }
   ],
   "source": [
    "# Selected key numeric features for outlier detection\n",
    "outlier_columns = [\n",
    "    \"AMT_INSTALMENT\", \"AMT_PAYMENT\", \"DAYS_INSTALMENT\", \"DAYS_ENTRY_PAYMENT\"\n",
    "]\n",
    "\n",
    "# Create boxplot\n",
    "plt.figure(figsize=(12, 6))\n",
    "df_installments_payments[outlier_columns].boxplot()\n",
    "\n",
    "# Title\n",
    "plt.title(\"Boxplot of Key Numerical Features in `df_installments_payments`\")\n",
    "plt.xticks(rotation=45)  \n",
    "plt.show()"
   ]
  },
  {
   "cell_type": "markdown",
   "id": "d5dd98cc",
   "metadata": {
    "papermill": {
     "duration": 0.022505,
     "end_time": "2025-03-08T00:25:28.578321",
     "exception": false,
     "start_time": "2025-03-08T00:25:28.555816",
     "status": "completed"
    },
    "tags": []
   },
   "source": [
    "### Key Takeaways:\n",
    "- **Extreme values are present** in `AMT_INSTALMENT` and `AMT_PAYMENT`, with a significant number of high-value outliers.\n",
    "- **DAYS_INSTALLMENT and DAYS_ENTRY_PAYMENT** exhibit a more stable distribution, with fewer extreme values.\n",
    "- **Handling strategy:** While LightGBM can handle outliers effectively, potential extreme values in `AMT_INSTALMENT` and `AMT_PAYMENT` should be monitored to avoid skewed model learning."
   ]
  },
  {
   "cell_type": "markdown",
   "id": "5a324785",
   "metadata": {
    "papermill": {
     "duration": 0.021108,
     "end_time": "2025-03-08T00:25:28.621479",
     "exception": false,
     "start_time": "2025-03-08T00:25:28.600371",
     "status": "completed"
    },
    "tags": []
   },
   "source": [
    "### 4.5 Pair Plot Analysis (`installments_payments.csv`)\n",
    "Pair plots are not included for this dataset as they are better suited for static features rather than time-series-like transaction data. Instead, we focus on histograms and scatter plots for clearer insights into repayment patterns."
   ]
  },
  {
   "cell_type": "markdown",
   "id": "ee7c065b",
   "metadata": {
    "papermill": {
     "duration": 0.021215,
     "end_time": "2025-03-08T00:25:28.664150",
     "exception": false,
     "start_time": "2025-03-08T00:25:28.642935",
     "status": "completed"
    },
    "tags": []
   },
   "source": [
    "### 4.6 Group-wise Analysis (`installments_payments.csv`)\n",
    "This dataset does not contain categorical features, so boxplots grouped by categorical variables are not applicable. Instead, we focus on numerical distributions and repayment patterns."
   ]
  },
  {
   "cell_type": "markdown",
   "id": "954526b6",
   "metadata": {
    "papermill": {
     "duration": 0.022316,
     "end_time": "2025-03-08T00:25:28.708212",
     "exception": false,
     "start_time": "2025-03-08T00:25:28.685896",
     "status": "completed"
    },
    "tags": []
   },
   "source": [
    "### 4.7 Time-wise Analysis\n",
    "We analyze how key features evolve over time to detect **trends, seasonality, or anomalies**.  \n",
    "This helps in identifying patterns that might improve feature engineering. "
   ]
  },
  {
   "cell_type": "code",
   "execution_count": 32,
   "id": "9d444a95",
   "metadata": {
    "execution": {
     "iopub.execute_input": "2025-03-08T00:25:28.753722Z",
     "iopub.status.busy": "2025-03-08T00:25:28.753331Z",
     "iopub.status.idle": "2025-03-08T00:25:29.348123Z",
     "shell.execute_reply": "2025-03-08T00:25:29.346887Z"
    },
    "papermill": {
     "duration": 0.619061,
     "end_time": "2025-03-08T00:25:29.349817",
     "exception": false,
     "start_time": "2025-03-08T00:25:28.730756",
     "status": "completed"
    },
    "tags": []
   },
   "outputs": [
    {
     "data": {
      "image/png": "[encoded data removed]",
      "text/plain": [
       "<Figure size 1200x600 with 1 Axes>"
      ]
     },
     "metadata": {},
     "output_type": "display_data"
    }
   ],
   "source": [
    "# Average payment amount over time\n",
    "df_time = df_installments_payments.groupby(\"DAYS_INSTALMENT\")[\"AMT_PAYMENT\"].mean().reset_index()\n",
    "\n",
    "plt.figure(figsize=(12, 6))\n",
    "sns.lineplot(x=\"DAYS_INSTALMENT\", y=\"AMT_PAYMENT\", data=df_time)\n",
    "plt.axhline(df_time[\"AMT_PAYMENT\"].mean(), linestyle=\"--\", color=\"red\", label=\"Mean Payment\")\n",
    "plt.title(\"Average Payment Amount Over Time\")\n",
    "plt.xlabel(\"Days\")\n",
    "plt.ylabel(\"Average Payment Amount\")\n",
    "plt.legend()\n",
    "plt.show()"
   ]
  },
  {
   "cell_type": "markdown",
   "id": "23097ce8",
   "metadata": {
    "papermill": {
     "duration": 0.02481,
     "end_time": "2025-03-08T00:25:29.399726",
     "exception": false,
     "start_time": "2025-03-08T00:25:29.374916",
     "status": "completed"
    },
    "tags": []
   },
   "source": [
    "### Key Takeaways:\n",
    "- **Upward trend observed:** The **average payment amount** has increased over time, especially in the last 1000 days.\n",
    "- **Recent decline detected:** A drop in the average payment amount is visible closer to the present, suggesting potential shifts in repayment behavior.\n",
    "- **Potential insights for modeling:** The payment trend could indicate **changes in loan policies, economic factors, or borrower behavior**, making **time-based features valuable for prediction**."
   ]
  },
  {
   "cell_type": "code",
   "execution_count": 33,
   "id": "a7c4978d",
   "metadata": {
    "execution": {
     "iopub.execute_input": "2025-03-08T00:25:29.448783Z",
     "iopub.status.busy": "2025-03-08T00:25:29.448407Z",
     "iopub.status.idle": "2025-03-08T00:25:30.278333Z",
     "shell.execute_reply": "2025-03-08T00:25:30.277283Z"
    },
    "papermill": {
     "duration": 0.85627,
     "end_time": "2025-03-08T00:25:30.279914",
     "exception": false,
     "start_time": "2025-03-08T00:25:29.423644",
     "status": "completed"
    },
    "tags": []
   },
   "outputs": [
    {
     "data": {
      "image/png": "[encoded data removed]",
      "text/plain": [
       "<Figure size 1200x600 with 1 Axes>"
      ]
     },
     "metadata": {},
     "output_type": "display_data"
    }
   ],
   "source": [
    "# Payment delays over time\n",
    "df_time_delay = df_installments_payments.groupby(\"DAYS_INSTALMENT\")[\"DAYS_ENTRY_PAYMENT\"].mean().reset_index()\n",
    "df_time_delay[\"PAYMENT_DELAY\"] = df_time_delay[\"DAYS_ENTRY_PAYMENT\"] - df_time_delay[\"DAYS_INSTALMENT\"]\n",
    "\n",
    "plt.figure(figsize=(12, 6))\n",
    "sns.lineplot(x=\"DAYS_INSTALMENT\", y=\"PAYMENT_DELAY\", data=df_time_delay)\n",
    "plt.axhline(0, linestyle=\"--\", color=\"red\", label=\"On-Time Payment\")\n",
    "plt.title(\"Payment Delay Trends Over Time\")\n",
    "plt.xlabel(\"Days\")\n",
    "plt.ylabel(\"Average Payment Delay (Days)\")\n",
    "plt.legend()\n",
    "plt.show()"
   ]
  },
  {
   "cell_type": "markdown",
   "id": "e5426a9c",
   "metadata": {
    "papermill": {
     "duration": 0.025992,
     "end_time": "2025-03-08T00:25:30.331751",
     "exception": false,
     "start_time": "2025-03-08T00:25:30.305759",
     "status": "completed"
    },
    "tags": []
   },
   "source": [
    "### Key Takeaways:\n",
    "- **Consistently negative delays:** Most payments are made **before the due date**, with the average delay stabilizing around **10-15 days early**.\n",
    "- **Gradual decline in delay time:** Borrowers have been making payments **increasingly earlier over time**, suggesting **improved repayment behavior or stricter loan policies**.\n",
    "- **Recent anomaly near present time:** A sharp drop at the end indicates **a potential data issue or a sudden shift in repayment patterns**, which may require further investigation."
   ]
  },
  {
   "cell_type": "code",
   "execution_count": 34,
   "id": "d3e311c6",
   "metadata": {
    "execution": {
     "iopub.execute_input": "2025-03-08T00:25:30.384796Z",
     "iopub.status.busy": "2025-03-08T00:25:30.384446Z",
     "iopub.status.idle": "2025-03-08T00:25:30.835786Z",
     "shell.execute_reply": "2025-03-08T00:25:30.834649Z"
    },
    "papermill": {
     "duration": 0.479918,
     "end_time": "2025-03-08T00:25:30.837693",
     "exception": false,
     "start_time": "2025-03-08T00:25:30.357775",
     "status": "completed"
    },
    "tags": []
   },
   "outputs": [
    {
     "data": {
      "image/png": "[encoded data removed]",
      "text/plain": [
       "<Figure size 1200x600 with 1 Axes>"
      ]
     },
     "metadata": {},
     "output_type": "display_data"
    }
   ],
   "source": [
    "# Total payments made per time period\n",
    "df_count = df_installments_payments.groupby(\"DAYS_INSTALMENT\")[\"SK_ID_PREV\"].count().reset_index()\n",
    "\n",
    "plt.figure(figsize=(12, 6))\n",
    "sns.lineplot(x=\"DAYS_INSTALMENT\", y=\"SK_ID_PREV\", data=df_count)\n",
    "plt.title(\"Number of Payments Made Over Time\")\n",
    "plt.xlabel(\"Days\")\n",
    "plt.ylabel(\"Number of Payments\")\n",
    "plt.show()"
   ]
  },
  {
   "cell_type": "markdown",
   "id": "2c3b68a5",
   "metadata": {
    "papermill": {
     "duration": 0.026806,
     "end_time": "2025-03-08T00:25:30.892721",
     "exception": false,
     "start_time": "2025-03-08T00:25:30.865915",
     "status": "completed"
    },
    "tags": []
   },
   "source": [
    "### Key Takeaways:\n",
    "- **Steady increase in payments:** The number of payments gradually increased over time, reflecting a growing volume of loan transactions.\n",
    "- **Seasonal fluctuations appear in later periods:** Noticeable cyclical patterns emerge closer to the present, indicating **possible periodic repayment behaviors** (e.g., monthly or quarterly cycles).\n",
    "- **Sharp drop near present time:** The recent decline suggests **either a data cutoff issue or a significant drop in loan payments**, which may warrant further investigation."
   ]
  },
  {
   "cell_type": "markdown",
   "id": "7d0dd2d8",
   "metadata": {
    "papermill": {
     "duration": 0.028137,
     "end_time": "2025-03-08T00:25:30.948008",
     "exception": false,
     "start_time": "2025-03-08T00:25:30.919871",
     "status": "completed"
    },
    "tags": []
   },
   "source": [
    "### 4.8 Joint Plot Analysis\n",
    "We use scatter plots with histograms to visualize relationships between numerical features.  \n",
    "This helps identify patterns, correlations, and potential outliers."
   ]
  },
  {
   "cell_type": "code",
   "execution_count": 35,
   "id": "b09786d4",
   "metadata": {
    "execution": {
     "iopub.execute_input": "2025-03-08T00:25:31.005781Z",
     "iopub.status.busy": "2025-03-08T00:25:31.005427Z",
     "iopub.status.idle": "2025-03-08T00:25:36.420564Z",
     "shell.execute_reply": "2025-03-08T00:25:36.419509Z"
    },
    "papermill": {
     "duration": 5.445183,
     "end_time": "2025-03-08T00:25:36.422373",
     "exception": false,
     "start_time": "2025-03-08T00:25:30.977190",
     "status": "completed"
    },
    "tags": []
   },
   "outputs": [
    {
     "data": {
      "image/png": "[encoded data removed]",
      "text/plain": [
       "<Figure size 600x600 with 3 Axes>"
      ]
     },
     "metadata": {},
     "output_type": "display_data"
    }
   ],
   "source": [
    "# Sample 10,000 rows for performance\n",
    "df_sample_scatter = df_installments_payments.sample(n=10000, random_state=42)\n",
    "\n",
    "# Scatter plot of Expected Installment vs. Actual Payment\n",
    "sns.jointplot(x=\"AMT_INSTALMENT\", y=\"AMT_PAYMENT\", data=df_sample_scatter, kind=\"scatter\")\n",
    "\n",
    "plt.title(\"Scatter Plot: AMT_INSTALMENT vs. AMT_PAYMENT\")\n",
    "plt.show()"
   ]
  },
  {
   "cell_type": "markdown",
   "id": "13036ae1",
   "metadata": {
    "papermill": {
     "duration": 0.027449,
     "end_time": "2025-03-08T00:25:36.477684",
     "exception": false,
     "start_time": "2025-03-08T00:25:36.450235",
     "status": "completed"
    },
    "tags": []
   },
   "source": [
    "### Key Takeaways:\n",
    "- **Strong linear relationship:** Most points align closely with the diagonal, suggesting that in many cases, the **actual payment (`AMT_PAYMENT`) closely matches the expected installment (`AMT_INSTALMENT`)**.\n",
    "- **Instances of overpayment and underpayment:** Some points **above the diagonal** indicate **overpayment**, while those **below it** indicate **underpayment**.\n",
    "- **Clusters near zero:** There is a dense cluster near `(0,0)`, potentially representing **small installment amounts or missing data**.\n",
    "- **Outliers with high amounts:** A few extreme values suggest possible **unusual transactions**, which could be further investigated."
   ]
  },
  {
   "cell_type": "markdown",
   "id": "b6e44bf2",
   "metadata": {
    "papermill": {
     "duration": 0.02726,
     "end_time": "2025-03-08T00:25:36.532411",
     "exception": false,
     "start_time": "2025-03-08T00:25:36.505151",
     "status": "completed"
    },
    "tags": []
   },
   "source": [
    "### 4.9 Additional EDA Visualisations"
   ]
  },
  {
   "cell_type": "markdown",
   "id": "3b2b4dc8",
   "metadata": {
    "papermill": {
     "duration": 0.028896,
     "end_time": "2025-03-08T00:25:36.589036",
     "exception": false,
     "start_time": "2025-03-08T00:25:36.560140",
     "status": "completed"
    },
    "tags": []
   },
   "source": [
    "We plot histograms to visualize the distribution of key numerical features.  \n",
    "This helps detect skewness, outliers, and possible data transformations."
   ]
  },
  {
   "cell_type": "code",
   "execution_count": 36,
   "id": "d997ef5f",
   "metadata": {
    "execution": {
     "iopub.execute_input": "2025-03-08T00:25:36.646679Z",
     "iopub.status.busy": "2025-03-08T00:25:36.646332Z",
     "iopub.status.idle": "2025-03-08T00:27:27.620258Z",
     "shell.execute_reply": "2025-03-08T00:27:27.618923Z"
    },
    "papermill": {
     "duration": 111.034106,
     "end_time": "2025-03-08T00:27:27.651641",
     "exception": false,
     "start_time": "2025-03-08T00:25:36.617535",
     "status": "completed"
    },
    "tags": []
   },
   "outputs": [
    {
     "data": {
      "image/png": "[encoded data removed]",
      "text/plain": [
       "<Figure size 1200x600 with 1 Axes>"
      ]
     },
     "metadata": {},
     "output_type": "display_data"
    }
   ],
   "source": [
    "# Payment amount distribution\n",
    "plt.figure(figsize=(12, 6))\n",
    "sns.histplot(df_installments_payments[\"AMT_INSTALMENT\"], bins=50, kde=True, color=\"blue\", label=\"Installment Amount\")\n",
    "sns.histplot(df_installments_payments[\"AMT_PAYMENT\"], bins=50, kde=True, color=\"orange\", label=\"Actual Payment\")\n",
    "plt.title(\"Distribution of Installment vs. Actual Payment Amounts\")\n",
    "plt.xlabel(\"Amount\")\n",
    "plt.ylabel(\"Frequency\")\n",
    "plt.legend()\n",
    "plt.show()"
   ]
  },
  {
   "cell_type": "markdown",
   "id": "698b5987",
   "metadata": {
    "papermill": {
     "duration": 0.028642,
     "end_time": "2025-03-08T00:27:27.709699",
     "exception": false,
     "start_time": "2025-03-08T00:27:27.681057",
     "status": "completed"
    },
    "tags": []
   },
   "source": [
    "### Key Takeaways:\n",
    "- **Highly skewed distribution:** Both `AMT_INSTALMENT` (expected payment) and `AMT_PAYMENT` (actual payment) are **heavily right-skewed**, meaning most payments are **small amounts**, with a few **very large values**.\n",
    "- **Close overlap of distributions:** The two curves align closely, indicating that **actual payments generally match expected installments**.\n",
    "- **Minor variations in density:** While the alignment suggests good repayment adherence, small differences could signal cases of **overpayment or underpayment**.\n",
    "- **Extreme values (outliers):** There are a few **high-value transactions** that might represent **large loans or anomalies**, which could require further investigation."
   ]
  },
  {
   "cell_type": "code",
   "execution_count": 37,
   "id": "d7d3c0b7",
   "metadata": {
    "execution": {
     "iopub.execute_input": "2025-03-08T00:27:27.768956Z",
     "iopub.status.busy": "2025-03-08T00:27:27.768619Z",
     "iopub.status.idle": "2025-03-08T00:28:26.015952Z",
     "shell.execute_reply": "2025-03-08T00:28:26.014899Z"
    },
    "papermill": {
     "duration": 58.307927,
     "end_time": "2025-03-08T00:28:26.046972",
     "exception": false,
     "start_time": "2025-03-08T00:27:27.739045",
     "status": "completed"
    },
    "tags": []
   },
   "outputs": [
    {
     "data": {
      "image/png": "[encoded data removed]",
      "text/plain": [
       "<Figure size 1200x600 with 1 Axes>"
      ]
     },
     "metadata": {},
     "output_type": "display_data"
    }
   ],
   "source": [
    "# Payment ratio (underpayment vs. overpayment)\n",
    "# Safely compute Payment Ratio to prevent division by zero\n",
    "df_installments_payments[\"PAYMENT_RATIO\"] = df_installments_payments[\"AMT_PAYMENT\"] / df_installments_payments[\"AMT_INSTALMENT\"].replace(0, np.nan)\n",
    "\n",
    "plt.figure(figsize=(12, 6))\n",
    "sns.histplot(df_installments_payments[\"PAYMENT_RATIO\"], bins=50, kde=True, color=\"green\")\n",
    "plt.axvline(1, color=\"red\", linestyle=\"--\", label=\"Exact Payment\")\n",
    "plt.title(\"Distribution of Payment Ratio (Underpayment vs. Overpayment)\")\n",
    "plt.xlabel(\"Payment Ratio\")\n",
    "plt.ylabel(\"Frequency\")\n",
    "plt.legend()\n",
    "plt.show()"
   ]
  },
  {
   "cell_type": "markdown",
   "id": "d792aeca",
   "metadata": {
    "papermill": {
     "duration": 0.029299,
     "end_time": "2025-03-08T00:28:26.105417",
     "exception": false,
     "start_time": "2025-03-08T00:28:26.076118",
     "status": "completed"
    },
    "tags": []
   },
   "source": [
    "### Key Takeaways  \n",
    "- The distribution of the payment ratio is **highly skewed**, with extreme outliers causing most data to be compressed along the y-axis.\n",
    "- The majority of payments are **near 1.0**, meaning most payments match the expected installment amount.\n",
    "- Some cases show **significant underpayment (ratio < 1.0) and extreme overpayment (ratio >> 1.0)**.\n",
    "- While attempts were made to **zoom in** or use a **logarithmic scale**, the extreme values distort visibility.\n",
    "- Keeping the full distribution ensures transparency, but a truncated version (e.g., focusing on `0-5` range) might help for exploratory analysis."
   ]
  },
  {
   "cell_type": "markdown",
   "id": "69f429ef",
   "metadata": {
    "papermill": {
     "duration": 0.031898,
     "end_time": "2025-03-08T00:28:26.166824",
     "exception": false,
     "start_time": "2025-03-08T00:28:26.134926",
     "status": "completed"
    },
    "tags": []
   },
   "source": [
    "We analyze the distribution of key categorical features using bar plots.  \n",
    "This helps identify class imbalances, dominant categories, and rare values."
   ]
  },
  {
   "cell_type": "code",
   "execution_count": 38,
   "id": "1227cc7e",
   "metadata": {
    "execution": {
     "iopub.execute_input": "2025-03-08T00:28:26.227598Z",
     "iopub.status.busy": "2025-03-08T00:28:26.227225Z",
     "iopub.status.idle": "2025-03-08T00:28:26.635303Z",
     "shell.execute_reply": "2025-03-08T00:28:26.634103Z"
    },
    "papermill": {
     "duration": 0.440797,
     "end_time": "2025-03-08T00:28:26.637115",
     "exception": false,
     "start_time": "2025-03-08T00:28:26.196318",
     "status": "completed"
    },
    "tags": []
   },
   "outputs": [
    {
     "data": {
      "image/png": "[encoded data removed]",
      "text/plain": [
       "<Figure size 800x500 with 1 Axes>"
      ]
     },
     "metadata": {},
     "output_type": "display_data"
    }
   ],
   "source": [
    "# Missed payments frequency\n",
    "df_installments_payments[\"MISSED_PAYMENT\"] = (df_installments_payments[\"AMT_PAYMENT\"] == 0).astype(int)\n",
    "\n",
    "plt.figure(figsize=(8, 5))\n",
    "sns.barplot(x=df_installments_payments[\"MISSED_PAYMENT\"].value_counts().index, \n",
    "            y=df_installments_payments[\"MISSED_PAYMENT\"].value_counts().values, palette=[\"green\", \"red\"])\n",
    "plt.xticks([0, 1], [\"Paid\", \"Missed Payment\"])\n",
    "plt.title(\"Frequency of Missed Payments\")\n",
    "plt.ylabel(\"Number of Installments\")\n",
    "plt.show()"
   ]
  },
  {
   "cell_type": "markdown",
   "id": "ffcbc3b5",
   "metadata": {
    "papermill": {
     "duration": 0.030482,
     "end_time": "2025-03-08T00:28:26.698448",
     "exception": false,
     "start_time": "2025-03-08T00:28:26.667966",
     "status": "completed"
    },
    "tags": []
   },
   "source": [
    "### Key Takeaways  \n",
    "- The vast majority of installments were **paid on time** (green bar).\n",
    "- **Missed payments (red bar) are rare**, but their impact could be significant in predicting credit risk.\n",
    "- The stark imbalance suggests that **missed payments are an important but minority class**.\n",
    "- Further analysis could explore how missed payments correlate with loan defaults or other financial behaviors."
   ]
  },
  {
   "cell_type": "markdown",
   "id": "7ecd14a1",
   "metadata": {
    "papermill": {
     "duration": 0.029631,
     "end_time": "2025-03-08T00:28:26.758101",
     "exception": false,
     "start_time": "2025-03-08T00:28:26.728470",
     "status": "completed"
    },
    "tags": []
   },
   "source": [
    "## 5. Feature Engineering (`installments_payments.csv`)\n",
    "We create new features to enhance predictive power by summarizing key attributes of the dataset.  \n",
    "Feature engineering helps capture meaningful patterns that might improve model performance."
   ]
  },
  {
   "cell_type": "markdown",
   "id": "5f0a74f9",
   "metadata": {
    "papermill": {
     "duration": 0.030124,
     "end_time": "2025-03-08T00:28:26.818327",
     "exception": false,
     "start_time": "2025-03-08T00:28:26.788203",
     "status": "completed"
    },
    "tags": []
   },
   "source": [
    "### 5.1 Credit Activity Features  \n",
    "Summarize the number of payments made per client, including the total number of missed payments and the ratio of missed payments to total payments."
   ]
  },
  {
   "cell_type": "code",
   "execution_count": 39,
   "id": "65f7cacb",
   "metadata": {
    "execution": {
     "iopub.execute_input": "2025-03-08T00:28:26.880115Z",
     "iopub.status.busy": "2025-03-08T00:28:26.879697Z",
     "iopub.status.idle": "2025-03-08T00:28:42.884602Z",
     "shell.execute_reply": "2025-03-08T00:28:42.883568Z"
    },
    "papermill": {
     "duration": 16.037821,
     "end_time": "2025-03-08T00:28:42.886448",
     "exception": false,
     "start_time": "2025-03-08T00:28:26.848627",
     "status": "completed"
    },
    "tags": []
   },
   "outputs": [
    {
     "data": {
      "text/html": [
       "<div>\n",
       "<style scoped>\n",
       "    .dataframe tbody tr th:only-of-type {\n",
       "        vertical-align: middle;\n",
       "    }\n",
       "\n",
       "    .dataframe tbody tr th {\n",
       "        vertical-align: top;\n",
       "    }\n",
       "\n",
       "    .dataframe thead th {\n",
       "        text-align: right;\n",
       "    }\n",
       "</style>\n",
       "<table border=\"1\" class=\"dataframe\">\n",
       "  <thead>\n",
       "    <tr style=\"text-align: right;\">\n",
       "      <th></th>\n",
       "      <th>SK_ID_CURR</th>\n",
       "      <th>installments_NUM_PAYMENTS</th>\n",
       "      <th>installments_NUM_MISSED_PAYMENTS</th>\n",
       "      <th>installments_MISSED_PAYMENT_RATIO</th>\n",
       "    </tr>\n",
       "  </thead>\n",
       "  <tbody>\n",
       "    <tr>\n",
       "      <th>0</th>\n",
       "      <td>100001</td>\n",
       "      <td>7</td>\n",
       "      <td>0</td>\n",
       "      <td>0.0</td>\n",
       "    </tr>\n",
       "    <tr>\n",
       "      <th>1</th>\n",
       "      <td>100002</td>\n",
       "      <td>19</td>\n",
       "      <td>0</td>\n",
       "      <td>0.0</td>\n",
       "    </tr>\n",
       "    <tr>\n",
       "      <th>2</th>\n",
       "      <td>100003</td>\n",
       "      <td>25</td>\n",
       "      <td>0</td>\n",
       "      <td>0.0</td>\n",
       "    </tr>\n",
       "    <tr>\n",
       "      <th>3</th>\n",
       "      <td>100004</td>\n",
       "      <td>3</td>\n",
       "      <td>0</td>\n",
       "      <td>0.0</td>\n",
       "    </tr>\n",
       "    <tr>\n",
       "      <th>4</th>\n",
       "      <td>100005</td>\n",
       "      <td>9</td>\n",
       "      <td>0</td>\n",
       "      <td>0.0</td>\n",
       "    </tr>\n",
       "  </tbody>\n",
       "</table>\n",
       "</div>"
      ],
      "text/plain": [
       "   SK_ID_CURR  installments_NUM_PAYMENTS  installments_NUM_MISSED_PAYMENTS  \\\n",
       "0      100001                          7                                 0   \n",
       "1      100002                         19                                 0   \n",
       "2      100003                         25                                 0   \n",
       "3      100004                          3                                 0   \n",
       "4      100005                          9                                 0   \n",
       "\n",
       "   installments_MISSED_PAYMENT_RATIO  \n",
       "0                                0.0  \n",
       "1                                0.0  \n",
       "2                                0.0  \n",
       "3                                0.0  \n",
       "4                                0.0  "
      ]
     },
     "metadata": {},
     "output_type": "display_data"
    }
   ],
   "source": [
    "# Group by SK_ID_CURR and calculate credit activity features\n",
    "installments_credit_activity = df_installments_payments.groupby(\"SK_ID_CURR\").agg(\n",
    "    installments_NUM_PAYMENTS=(\"SK_ID_PREV\", \"count\"),  # Total number of payments made\n",
    "    installments_NUM_MISSED_PAYMENTS=(\"MISSED_PAYMENT\", \"sum\"),  # Total number of missed payments\n",
    "    installments_MISSED_PAYMENT_RATIO=(\"MISSED_PAYMENT\", lambda x: x.mean())  # Ratio of missed payments\n",
    ").reset_index()\n",
    "\n",
    "# Preview the new features before merging\n",
    "display(installments_credit_activity.head())"
   ]
  },
  {
   "cell_type": "markdown",
   "id": "b9d3cb4a",
   "metadata": {
    "papermill": {
     "duration": 0.030508,
     "end_time": "2025-03-08T00:28:42.948181",
     "exception": false,
     "start_time": "2025-03-08T00:28:42.917673",
     "status": "completed"
    },
    "tags": []
   },
   "source": [
    "### 5.2 Loan Amount Features  \n",
    "Summarize the expected and actual payment amounts per client, including averages and totals, to capture loan repayment behavior."
   ]
  },
  {
   "cell_type": "code",
   "execution_count": 40,
   "id": "3c6aa838",
   "metadata": {
    "execution": {
     "iopub.execute_input": "2025-03-08T00:28:43.011397Z",
     "iopub.status.busy": "2025-03-08T00:28:43.011001Z",
     "iopub.status.idle": "2025-03-08T00:28:44.216762Z",
     "shell.execute_reply": "2025-03-08T00:28:44.215434Z"
    },
    "papermill": {
     "duration": 1.239654,
     "end_time": "2025-03-08T00:28:44.218838",
     "exception": false,
     "start_time": "2025-03-08T00:28:42.979184",
     "status": "completed"
    },
    "tags": []
   },
   "outputs": [
    {
     "data": {
      "text/html": [
       "<div>\n",
       "<style scoped>\n",
       "    .dataframe tbody tr th:only-of-type {\n",
       "        vertical-align: middle;\n",
       "    }\n",
       "\n",
       "    .dataframe tbody tr th {\n",
       "        vertical-align: top;\n",
       "    }\n",
       "\n",
       "    .dataframe thead th {\n",
       "        text-align: right;\n",
       "    }\n",
       "</style>\n",
       "<table border=\"1\" class=\"dataframe\">\n",
       "  <thead>\n",
       "    <tr style=\"text-align: right;\">\n",
       "      <th></th>\n",
       "      <th>SK_ID_CURR</th>\n",
       "      <th>installments_MEAN_INSTALMENT_AMOUNT</th>\n",
       "      <th>installments_MEAN_ACTUAL_PAYMENT</th>\n",
       "      <th>installments_SUM_INSTALMENT_AMOUNT</th>\n",
       "      <th>installments_SUM_ACTUAL_PAYMENT</th>\n",
       "      <th>installments_PAYMENT_COMPLIANCE_RATIO</th>\n",
       "    </tr>\n",
       "  </thead>\n",
       "  <tbody>\n",
       "    <tr>\n",
       "      <th>0</th>\n",
       "      <td>100001</td>\n",
       "      <td>5885.132143</td>\n",
       "      <td>5885.132143</td>\n",
       "      <td>41195.925</td>\n",
       "      <td>41195.925</td>\n",
       "      <td>1.0</td>\n",
       "    </tr>\n",
       "    <tr>\n",
       "      <th>1</th>\n",
       "      <td>100002</td>\n",
       "      <td>11559.247105</td>\n",
       "      <td>11559.247105</td>\n",
       "      <td>219625.695</td>\n",
       "      <td>219625.695</td>\n",
       "      <td>1.0</td>\n",
       "    </tr>\n",
       "    <tr>\n",
       "      <th>2</th>\n",
       "      <td>100003</td>\n",
       "      <td>64754.586000</td>\n",
       "      <td>64754.586000</td>\n",
       "      <td>1618864.650</td>\n",
       "      <td>1618864.650</td>\n",
       "      <td>1.0</td>\n",
       "    </tr>\n",
       "    <tr>\n",
       "      <th>3</th>\n",
       "      <td>100004</td>\n",
       "      <td>7096.155000</td>\n",
       "      <td>7096.155000</td>\n",
       "      <td>21288.465</td>\n",
       "      <td>21288.465</td>\n",
       "      <td>1.0</td>\n",
       "    </tr>\n",
       "    <tr>\n",
       "      <th>4</th>\n",
       "      <td>100005</td>\n",
       "      <td>6240.205000</td>\n",
       "      <td>6240.205000</td>\n",
       "      <td>56161.845</td>\n",
       "      <td>56161.845</td>\n",
       "      <td>1.0</td>\n",
       "    </tr>\n",
       "  </tbody>\n",
       "</table>\n",
       "</div>"
      ],
      "text/plain": [
       "   SK_ID_CURR  installments_MEAN_INSTALMENT_AMOUNT  \\\n",
       "0      100001                          5885.132143   \n",
       "1      100002                         11559.247105   \n",
       "2      100003                         64754.586000   \n",
       "3      100004                          7096.155000   \n",
       "4      100005                          6240.205000   \n",
       "\n",
       "   installments_MEAN_ACTUAL_PAYMENT  installments_SUM_INSTALMENT_AMOUNT  \\\n",
       "0                       5885.132143                           41195.925   \n",
       "1                      11559.247105                          219625.695   \n",
       "2                      64754.586000                         1618864.650   \n",
       "3                       7096.155000                           21288.465   \n",
       "4                       6240.205000                           56161.845   \n",
       "\n",
       "   installments_SUM_ACTUAL_PAYMENT  installments_PAYMENT_COMPLIANCE_RATIO  \n",
       "0                        41195.925                                    1.0  \n",
       "1                       219625.695                                    1.0  \n",
       "2                      1618864.650                                    1.0  \n",
       "3                        21288.465                                    1.0  \n",
       "4                        56161.845                                    1.0  "
      ]
     },
     "metadata": {},
     "output_type": "display_data"
    }
   ],
   "source": [
    "# Group by SK_ID_CURR and calculate loan amount features\n",
    "installments_loan_amount = df_installments_payments.groupby(\"SK_ID_CURR\").agg(\n",
    "    installments_MEAN_INSTALMENT_AMOUNT=(\"AMT_INSTALMENT\", \"mean\"),  # Avg expected installment amount\n",
    "    installments_MEAN_ACTUAL_PAYMENT=(\"AMT_PAYMENT\", \"mean\"),  # Avg actual payment made\n",
    "    installments_SUM_INSTALMENT_AMOUNT=(\"AMT_INSTALMENT\", \"sum\"),  # Total expected installment amount\n",
    "    installments_SUM_ACTUAL_PAYMENT=(\"AMT_PAYMENT\", \"sum\"),  # Total actual paid amount\n",
    ").reset_index()\n",
    "\n",
    "# Compute Payment Compliance Ratio (Avoid division by zero)\n",
    "installments_loan_amount[\"installments_PAYMENT_COMPLIANCE_RATIO\"] = (\n",
    "    installments_loan_amount[\"installments_SUM_ACTUAL_PAYMENT\"] / installments_loan_amount[\"installments_SUM_INSTALMENT_AMOUNT\"]\n",
    ")\n",
    "installments_loan_amount[\"installments_PAYMENT_COMPLIANCE_RATIO\"] = installments_loan_amount[\"installments_PAYMENT_COMPLIANCE_RATIO\"].replace([np.inf, -np.inf], np.nan).fillna(0)\n",
    "\n",
    "# Preview the new features before merging\n",
    "display(installments_loan_amount.head())"
   ]
  },
  {
   "cell_type": "markdown",
   "id": "37d6ba5d",
   "metadata": {
    "papermill": {
     "duration": 0.030557,
     "end_time": "2025-03-08T00:28:44.282147",
     "exception": false,
     "start_time": "2025-03-08T00:28:44.251590",
     "status": "completed"
    },
    "tags": []
   },
   "source": [
    "### 5.3 Time-Based Features  \n",
    "Summarize key temporal patterns in payment history, including average, earliest, and most recent payment dates."
   ]
  },
  {
   "cell_type": "code",
   "execution_count": 41,
   "id": "67ca3f3a",
   "metadata": {
    "execution": {
     "iopub.execute_input": "2025-03-08T00:28:44.344782Z",
     "iopub.status.busy": "2025-03-08T00:28:44.344406Z",
     "iopub.status.idle": "2025-03-08T00:28:46.233770Z",
     "shell.execute_reply": "2025-03-08T00:28:46.232689Z"
    },
    "papermill": {
     "duration": 1.922563,
     "end_time": "2025-03-08T00:28:46.235313",
     "exception": false,
     "start_time": "2025-03-08T00:28:44.312750",
     "status": "completed"
    },
    "tags": []
   },
   "outputs": [
    {
     "data": {
      "text/html": [
       "<div>\n",
       "<style scoped>\n",
       "    .dataframe tbody tr th:only-of-type {\n",
       "        vertical-align: middle;\n",
       "    }\n",
       "\n",
       "    .dataframe tbody tr th {\n",
       "        vertical-align: top;\n",
       "    }\n",
       "\n",
       "    .dataframe thead th {\n",
       "        text-align: right;\n",
       "    }\n",
       "</style>\n",
       "<table border=\"1\" class=\"dataframe\">\n",
       "  <thead>\n",
       "    <tr style=\"text-align: right;\">\n",
       "      <th></th>\n",
       "      <th>SK_ID_CURR</th>\n",
       "      <th>installments_MEAN_DAYS_ENTRY_PAYMENT</th>\n",
       "      <th>installments_STD_DAYS_ENTRY_PAYMENT</th>\n",
       "      <th>installments_MIN_DAYS_ENTRY_PAYMENT</th>\n",
       "      <th>installments_MAX_DAYS_ENTRY_PAYMENT</th>\n",
       "      <th>installments_MEAN_DAYS_INSTALMENT</th>\n",
       "      <th>installments_MIN_DAYS_INSTALMENT</th>\n",
       "      <th>installments_MAX_DAYS_INSTALMENT</th>\n",
       "      <th>installments_TIME_SINCE_LAST_PAYMENT</th>\n",
       "      <th>installments_MEAN_PAYMENT_DELAY</th>\n",
       "    </tr>\n",
       "  </thead>\n",
       "  <tbody>\n",
       "    <tr>\n",
       "      <th>0</th>\n",
       "      <td>100001</td>\n",
       "      <td>-2195.0</td>\n",
       "      <td>643.904237</td>\n",
       "      <td>-2916</td>\n",
       "      <td>-1628</td>\n",
       "      <td>-2187.714286</td>\n",
       "      <td>-2916</td>\n",
       "      <td>-1619</td>\n",
       "      <td>1628</td>\n",
       "      <td>7.285714</td>\n",
       "    </tr>\n",
       "    <tr>\n",
       "      <th>1</th>\n",
       "      <td>100002</td>\n",
       "      <td>-315.421053</td>\n",
       "      <td>172.058877</td>\n",
       "      <td>-587</td>\n",
       "      <td>-49</td>\n",
       "      <td>-295.0</td>\n",
       "      <td>-565</td>\n",
       "      <td>-25</td>\n",
       "      <td>49</td>\n",
       "      <td>20.421053</td>\n",
       "    </tr>\n",
       "    <tr>\n",
       "      <th>2</th>\n",
       "      <td>100003</td>\n",
       "      <td>-1385.32</td>\n",
       "      <td>757.325432</td>\n",
       "      <td>-2324</td>\n",
       "      <td>-544</td>\n",
       "      <td>-1378.16</td>\n",
       "      <td>-2310</td>\n",
       "      <td>-536</td>\n",
       "      <td>544</td>\n",
       "      <td>7.16</td>\n",
       "    </tr>\n",
       "    <tr>\n",
       "      <th>3</th>\n",
       "      <td>100004</td>\n",
       "      <td>-761.666667</td>\n",
       "      <td>34.019602</td>\n",
       "      <td>-795</td>\n",
       "      <td>-727</td>\n",
       "      <td>-754.0</td>\n",
       "      <td>-784</td>\n",
       "      <td>-724</td>\n",
       "      <td>727</td>\n",
       "      <td>7.666667</td>\n",
       "    </tr>\n",
       "    <tr>\n",
       "      <th>4</th>\n",
       "      <td>100005</td>\n",
       "      <td>-609.555556</td>\n",
       "      <td>90.554005</td>\n",
       "      <td>-736</td>\n",
       "      <td>-470</td>\n",
       "      <td>-586.0</td>\n",
       "      <td>-706</td>\n",
       "      <td>-466</td>\n",
       "      <td>470</td>\n",
       "      <td>23.555556</td>\n",
       "    </tr>\n",
       "  </tbody>\n",
       "</table>\n",
       "</div>"
      ],
      "text/plain": [
       "   SK_ID_CURR  installments_MEAN_DAYS_ENTRY_PAYMENT  \\\n",
       "0      100001                               -2195.0   \n",
       "1      100002                           -315.421053   \n",
       "2      100003                              -1385.32   \n",
       "3      100004                           -761.666667   \n",
       "4      100005                           -609.555556   \n",
       "\n",
       "   installments_STD_DAYS_ENTRY_PAYMENT  installments_MIN_DAYS_ENTRY_PAYMENT  \\\n",
       "0                           643.904237                                -2916   \n",
       "1                           172.058877                                 -587   \n",
       "2                           757.325432                                -2324   \n",
       "3                            34.019602                                 -795   \n",
       "4                            90.554005                                 -736   \n",
       "\n",
       "   installments_MAX_DAYS_ENTRY_PAYMENT  installments_MEAN_DAYS_INSTALMENT  \\\n",
       "0                                -1628                       -2187.714286   \n",
       "1                                  -49                             -295.0   \n",
       "2                                 -544                           -1378.16   \n",
       "3                                 -727                             -754.0   \n",
       "4                                 -470                             -586.0   \n",
       "\n",
       "   installments_MIN_DAYS_INSTALMENT  installments_MAX_DAYS_INSTALMENT  \\\n",
       "0                             -2916                             -1619   \n",
       "1                              -565                               -25   \n",
       "2                             -2310                              -536   \n",
       "3                              -784                              -724   \n",
       "4                              -706                              -466   \n",
       "\n",
       "   installments_TIME_SINCE_LAST_PAYMENT  installments_MEAN_PAYMENT_DELAY  \n",
       "0                                  1628                         7.285714  \n",
       "1                                    49                        20.421053  \n",
       "2                                   544                             7.16  \n",
       "3                                   727                         7.666667  \n",
       "4                                   470                        23.555556  "
      ]
     },
     "metadata": {},
     "output_type": "display_data"
    }
   ],
   "source": [
    "# Group by SK_ID_CURR and calculate time-based features\n",
    "installments_time_based = df_installments_payments.groupby(\"SK_ID_CURR\").agg(\n",
    "    installments_MEAN_DAYS_ENTRY_PAYMENT=(\"DAYS_ENTRY_PAYMENT\", \"mean\"),  # Avg days when payment was made\n",
    "    installments_STD_DAYS_ENTRY_PAYMENT=(\"DAYS_ENTRY_PAYMENT\", \"std\"),  # Std deviation (payment consistency)\n",
    "    installments_MIN_DAYS_ENTRY_PAYMENT=(\"DAYS_ENTRY_PAYMENT\", \"min\"),  # Earliest payment recorded\n",
    "    installments_MAX_DAYS_ENTRY_PAYMENT=(\"DAYS_ENTRY_PAYMENT\", \"max\"),  # Most recent payment recorded\n",
    "    installments_MEAN_DAYS_INSTALMENT=(\"DAYS_INSTALMENT\", \"mean\"),  # Avg expected due date of installment\n",
    "    installments_MIN_DAYS_INSTALMENT=(\"DAYS_INSTALMENT\", \"min\"),  # Earliest expected due date\n",
    "    installments_MAX_DAYS_INSTALMENT=(\"DAYS_INSTALMENT\", \"max\"),  # Most recent due date\n",
    ").reset_index()\n",
    "\n",
    "# Compute Additional Temporal Features\n",
    "installments_time_based[\"installments_TIME_SINCE_LAST_PAYMENT\"] = abs(installments_time_based[\"installments_MAX_DAYS_ENTRY_PAYMENT\"])\n",
    "installments_time_based[\"installments_MEAN_PAYMENT_DELAY\"] = abs(installments_time_based[\"installments_MEAN_DAYS_ENTRY_PAYMENT\"] - installments_time_based[\"installments_MEAN_DAYS_INSTALMENT\"])\n",
    "\n",
    "# Preview the new features before merging\n",
    "display(installments_time_based.head())"
   ]
  },
  {
   "cell_type": "markdown",
   "id": "ee12ac4c",
   "metadata": {
    "papermill": {
     "duration": 0.030546,
     "end_time": "2025-03-08T00:28:46.297015",
     "exception": false,
     "start_time": "2025-03-08T00:28:46.266469",
     "status": "completed"
    },
    "tags": []
   },
   "source": [
    "### 5.4 Credit Overdue Features  \n",
    "Capture late payment statistics, including average delay, standard deviation, and proportion of late payments."
   ]
  },
  {
   "cell_type": "code",
   "execution_count": 42,
   "id": "403896ca",
   "metadata": {
    "execution": {
     "iopub.execute_input": "2025-03-08T00:28:46.360752Z",
     "iopub.status.busy": "2025-03-08T00:28:46.360376Z",
     "iopub.status.idle": "2025-03-08T00:28:47.950507Z",
     "shell.execute_reply": "2025-03-08T00:28:47.949300Z"
    },
    "papermill": {
     "duration": 1.624278,
     "end_time": "2025-03-08T00:28:47.952354",
     "exception": false,
     "start_time": "2025-03-08T00:28:46.328076",
     "status": "completed"
    },
    "tags": []
   },
   "outputs": [
    {
     "data": {
      "text/html": [
       "<div>\n",
       "<style scoped>\n",
       "    .dataframe tbody tr th:only-of-type {\n",
       "        vertical-align: middle;\n",
       "    }\n",
       "\n",
       "    .dataframe tbody tr th {\n",
       "        vertical-align: top;\n",
       "    }\n",
       "\n",
       "    .dataframe thead th {\n",
       "        text-align: right;\n",
       "    }\n",
       "</style>\n",
       "<table border=\"1\" class=\"dataframe\">\n",
       "  <thead>\n",
       "    <tr style=\"text-align: right;\">\n",
       "      <th></th>\n",
       "      <th>SK_ID_CURR</th>\n",
       "      <th>installments_MEAN_PAYMENT_DELAY</th>\n",
       "      <th>installments_STD_PAYMENT_DELAY</th>\n",
       "      <th>installments_NUM_LATE_PAYMENTS</th>\n",
       "      <th>installments_LATE_PAYMENT_RATIO</th>\n",
       "    </tr>\n",
       "  </thead>\n",
       "  <tbody>\n",
       "    <tr>\n",
       "      <th>0</th>\n",
       "      <td>100001</td>\n",
       "      <td>-7.285714</td>\n",
       "      <td>14.625483</td>\n",
       "      <td>1</td>\n",
       "      <td>0.142857</td>\n",
       "    </tr>\n",
       "    <tr>\n",
       "      <th>1</th>\n",
       "      <td>100002</td>\n",
       "      <td>-20.421053</td>\n",
       "      <td>4.925171</td>\n",
       "      <td>0</td>\n",
       "      <td>0.000000</td>\n",
       "    </tr>\n",
       "    <tr>\n",
       "      <th>2</th>\n",
       "      <td>100003</td>\n",
       "      <td>-7.16</td>\n",
       "      <td>3.726929</td>\n",
       "      <td>0</td>\n",
       "      <td>0.000000</td>\n",
       "    </tr>\n",
       "    <tr>\n",
       "      <th>3</th>\n",
       "      <td>100004</td>\n",
       "      <td>-7.666667</td>\n",
       "      <td>4.163332</td>\n",
       "      <td>0</td>\n",
       "      <td>0.000000</td>\n",
       "    </tr>\n",
       "    <tr>\n",
       "      <th>4</th>\n",
       "      <td>100005</td>\n",
       "      <td>-23.555556</td>\n",
       "      <td>13.510284</td>\n",
       "      <td>1</td>\n",
       "      <td>0.111111</td>\n",
       "    </tr>\n",
       "  </tbody>\n",
       "</table>\n",
       "</div>"
      ],
      "text/plain": [
       "   SK_ID_CURR  installments_MEAN_PAYMENT_DELAY  \\\n",
       "0      100001                        -7.285714   \n",
       "1      100002                       -20.421053   \n",
       "2      100003                            -7.16   \n",
       "3      100004                        -7.666667   \n",
       "4      100005                       -23.555556   \n",
       "\n",
       "   installments_STD_PAYMENT_DELAY  installments_NUM_LATE_PAYMENTS  \\\n",
       "0                       14.625483                               1   \n",
       "1                        4.925171                               0   \n",
       "2                        3.726929                               0   \n",
       "3                        4.163332                               0   \n",
       "4                       13.510284                               1   \n",
       "\n",
       "   installments_LATE_PAYMENT_RATIO  \n",
       "0                         0.142857  \n",
       "1                         0.000000  \n",
       "2                         0.000000  \n",
       "3                         0.000000  \n",
       "4                         0.111111  "
      ]
     },
     "metadata": {},
     "output_type": "display_data"
    }
   ],
   "source": [
    "# Precompute late payment flag (avoids repeated computation)\n",
    "df_installments_payments[\"LATE_PAYMENT\"] = (df_installments_payments[\"DAYS_ENTRY_PAYMENT\"] > df_installments_payments[\"DAYS_INSTALMENT\"]).astype(int)\n",
    "\n",
    "# Compute payment delay before aggregation to speed up processing\n",
    "df_installments_payments[\"PAYMENT_DELAY\"] = df_installments_payments[\"DAYS_ENTRY_PAYMENT\"] - df_installments_payments[\"DAYS_INSTALMENT\"]\n",
    "\n",
    "# 🔹 Group by SK_ID_CURR and calculate overdue-related statistics efficiently\n",
    "installments_overdue = df_installments_payments.groupby(\"SK_ID_CURR\").agg(\n",
    "    installments_MEAN_PAYMENT_DELAY=(\"PAYMENT_DELAY\", \"mean\"),  # Avg delay in payment\n",
    "    installments_STD_PAYMENT_DELAY=(\"PAYMENT_DELAY\", \"std\"),  # Std deviation of delays\n",
    "    installments_NUM_LATE_PAYMENTS=(\"LATE_PAYMENT\", \"sum\"),  # Count of late payments\n",
    "    installments_LATE_PAYMENT_RATIO=(\"LATE_PAYMENT\", \"mean\")  # Proportion of late payments\n",
    ").reset_index()\n",
    "\n",
    "# ✅ Preview the new features before merging\n",
    "display(installments_overdue.head())"
   ]
  },
  {
   "cell_type": "markdown",
   "id": "88cc7f15",
   "metadata": {
    "papermill": {
     "duration": 0.030819,
     "end_time": "2025-03-08T00:28:48.015339",
     "exception": false,
     "start_time": "2025-03-08T00:28:47.984520",
     "status": "completed"
    },
    "tags": []
   },
   "source": [
    "### 5.5 Categorical Features Aggregation (`installments_payments.csv`)"
   ]
  },
  {
   "cell_type": "markdown",
   "id": "ddc6ed79",
   "metadata": {
    "papermill": {
     "duration": 0.032732,
     "end_time": "2025-03-08T00:28:48.080137",
     "exception": false,
     "start_time": "2025-03-08T00:28:48.047405",
     "status": "completed"
    },
    "tags": []
   },
   "source": [
    "This dataset does not contain categorical features, so this section is skipped to maintain consistency across notebooks.  "
   ]
  },
  {
   "cell_type": "markdown",
   "id": "b8631ce6",
   "metadata": {
    "papermill": {
     "duration": 0.031359,
     "end_time": "2025-03-08T00:28:48.142660",
     "exception": false,
     "start_time": "2025-03-08T00:28:48.111301",
     "status": "completed"
    },
    "tags": []
   },
   "source": [
    "## 6. Aggregation (`installments_payments.csv`)\n",
    "We aggregate numerical and categorical features at the client level to summarize loan-related patterns. This reduces dataset size while retaining essential information."
   ]
  },
  {
   "cell_type": "markdown",
   "id": "33413cb7",
   "metadata": {
    "papermill": {
     "duration": 0.031909,
     "end_time": "2025-03-08T00:28:48.206058",
     "exception": false,
     "start_time": "2025-03-08T00:28:48.174149",
     "status": "completed"
    },
    "tags": []
   },
   "source": [
    "### 6.1 Aggregate All Numeric and Categorical Columns\n",
    "- Numerical features are aggregated using mean, sum, max, and min to capture overall trends.\n",
    "- Categorical features are aggregated using the most frequent category per client.\n",
    "\n",
    "This step ensures that client-level insights are preserved for modeling while reducing redundancy."
   ]
  },
  {
   "cell_type": "code",
   "execution_count": 43,
   "id": "965c8d84",
   "metadata": {
    "execution": {
     "iopub.execute_input": "2025-03-08T00:28:48.270750Z",
     "iopub.status.busy": "2025-03-08T00:28:48.270401Z",
     "iopub.status.idle": "2025-03-08T00:28:58.246660Z",
     "shell.execute_reply": "2025-03-08T00:28:58.245609Z"
    },
    "papermill": {
     "duration": 10.010413,
     "end_time": "2025-03-08T00:28:58.248270",
     "exception": false,
     "start_time": "2025-03-08T00:28:48.237857",
     "status": "completed"
    },
    "tags": []
   },
   "outputs": [
    {
     "name": "stdout",
     "output_type": "stream",
     "text": [
      "\n",
      "Aggregating df_installments_payments by SK_ID_CURR...\n",
      "✅ Aggregation complete. New df_installments_payments_aggregated shape: (339587, 41)\n"
     ]
    },
    {
     "data": {
      "text/html": [
       "<div>\n",
       "<style scoped>\n",
       "    .dataframe tbody tr th:only-of-type {\n",
       "        vertical-align: middle;\n",
       "    }\n",
       "\n",
       "    .dataframe tbody tr th {\n",
       "        vertical-align: top;\n",
       "    }\n",
       "\n",
       "    .dataframe thead th {\n",
       "        text-align: right;\n",
       "    }\n",
       "</style>\n",
       "<table border=\"1\" class=\"dataframe\">\n",
       "  <thead>\n",
       "    <tr style=\"text-align: right;\">\n",
       "      <th></th>\n",
       "      <th>SK_ID_CURR</th>\n",
       "      <th>installments_agg_NUM_INSTALMENT_VERSION_mean</th>\n",
       "      <th>installments_agg_NUM_INSTALMENT_VERSION_sum</th>\n",
       "      <th>installments_agg_NUM_INSTALMENT_VERSION_max</th>\n",
       "      <th>installments_agg_NUM_INSTALMENT_VERSION_min</th>\n",
       "      <th>installments_agg_NUM_INSTALMENT_NUMBER_mean</th>\n",
       "      <th>installments_agg_NUM_INSTALMENT_NUMBER_sum</th>\n",
       "      <th>installments_agg_NUM_INSTALMENT_NUMBER_max</th>\n",
       "      <th>installments_agg_NUM_INSTALMENT_NUMBER_min</th>\n",
       "      <th>installments_agg_DAYS_INSTALMENT_mean</th>\n",
       "      <th>...</th>\n",
       "      <th>installments_agg_MISSED_PAYMENT_max</th>\n",
       "      <th>installments_agg_MISSED_PAYMENT_min</th>\n",
       "      <th>installments_agg_LATE_PAYMENT_mean</th>\n",
       "      <th>installments_agg_LATE_PAYMENT_sum</th>\n",
       "      <th>installments_agg_LATE_PAYMENT_max</th>\n",
       "      <th>installments_agg_LATE_PAYMENT_min</th>\n",
       "      <th>installments_agg_PAYMENT_DELAY_mean</th>\n",
       "      <th>installments_agg_PAYMENT_DELAY_sum</th>\n",
       "      <th>installments_agg_PAYMENT_DELAY_max</th>\n",
       "      <th>installments_agg_PAYMENT_DELAY_min</th>\n",
       "    </tr>\n",
       "  </thead>\n",
       "  <tbody>\n",
       "    <tr>\n",
       "      <th>0</th>\n",
       "      <td>100001</td>\n",
       "      <td>1.142857</td>\n",
       "      <td>8</td>\n",
       "      <td>2</td>\n",
       "      <td>1</td>\n",
       "      <td>2.714286</td>\n",
       "      <td>19</td>\n",
       "      <td>4</td>\n",
       "      <td>1</td>\n",
       "      <td>-2187.714286</td>\n",
       "      <td>...</td>\n",
       "      <td>0</td>\n",
       "      <td>0</td>\n",
       "      <td>0.142857</td>\n",
       "      <td>1</td>\n",
       "      <td>1</td>\n",
       "      <td>0</td>\n",
       "      <td>-7.285714</td>\n",
       "      <td>-51</td>\n",
       "      <td>11</td>\n",
       "      <td>-36</td>\n",
       "    </tr>\n",
       "    <tr>\n",
       "      <th>1</th>\n",
       "      <td>100002</td>\n",
       "      <td>1.052632</td>\n",
       "      <td>20</td>\n",
       "      <td>2</td>\n",
       "      <td>1</td>\n",
       "      <td>10.000000</td>\n",
       "      <td>190</td>\n",
       "      <td>19</td>\n",
       "      <td>1</td>\n",
       "      <td>-295.0</td>\n",
       "      <td>...</td>\n",
       "      <td>0</td>\n",
       "      <td>0</td>\n",
       "      <td>0.000000</td>\n",
       "      <td>0</td>\n",
       "      <td>0</td>\n",
       "      <td>0</td>\n",
       "      <td>-20.421053</td>\n",
       "      <td>-388</td>\n",
       "      <td>-12</td>\n",
       "      <td>-31</td>\n",
       "    </tr>\n",
       "    <tr>\n",
       "      <th>2</th>\n",
       "      <td>100003</td>\n",
       "      <td>1.04</td>\n",
       "      <td>26</td>\n",
       "      <td>2</td>\n",
       "      <td>1</td>\n",
       "      <td>5.080000</td>\n",
       "      <td>127</td>\n",
       "      <td>12</td>\n",
       "      <td>1</td>\n",
       "      <td>-1378.16</td>\n",
       "      <td>...</td>\n",
       "      <td>0</td>\n",
       "      <td>0</td>\n",
       "      <td>0.000000</td>\n",
       "      <td>0</td>\n",
       "      <td>0</td>\n",
       "      <td>0</td>\n",
       "      <td>-7.16</td>\n",
       "      <td>-179</td>\n",
       "      <td>-1</td>\n",
       "      <td>-14</td>\n",
       "    </tr>\n",
       "    <tr>\n",
       "      <th>3</th>\n",
       "      <td>100004</td>\n",
       "      <td>1.333333</td>\n",
       "      <td>4</td>\n",
       "      <td>2</td>\n",
       "      <td>1</td>\n",
       "      <td>2.000000</td>\n",
       "      <td>6</td>\n",
       "      <td>3</td>\n",
       "      <td>1</td>\n",
       "      <td>-754.0</td>\n",
       "      <td>...</td>\n",
       "      <td>0</td>\n",
       "      <td>0</td>\n",
       "      <td>0.000000</td>\n",
       "      <td>0</td>\n",
       "      <td>0</td>\n",
       "      <td>0</td>\n",
       "      <td>-7.666667</td>\n",
       "      <td>-23</td>\n",
       "      <td>-3</td>\n",
       "      <td>-11</td>\n",
       "    </tr>\n",
       "    <tr>\n",
       "      <th>4</th>\n",
       "      <td>100005</td>\n",
       "      <td>1.111111</td>\n",
       "      <td>10</td>\n",
       "      <td>2</td>\n",
       "      <td>1</td>\n",
       "      <td>5.000000</td>\n",
       "      <td>45</td>\n",
       "      <td>9</td>\n",
       "      <td>1</td>\n",
       "      <td>-586.0</td>\n",
       "      <td>...</td>\n",
       "      <td>0</td>\n",
       "      <td>0</td>\n",
       "      <td>0.111111</td>\n",
       "      <td>1</td>\n",
       "      <td>1</td>\n",
       "      <td>0</td>\n",
       "      <td>-23.555556</td>\n",
       "      <td>-212</td>\n",
       "      <td>1</td>\n",
       "      <td>-37</td>\n",
       "    </tr>\n",
       "  </tbody>\n",
       "</table>\n",
       "<p>5 rows × 41 columns</p>\n",
       "</div>"
      ],
      "text/plain": [
       "   SK_ID_CURR  installments_agg_NUM_INSTALMENT_VERSION_mean  \\\n",
       "0      100001                                      1.142857   \n",
       "1      100002                                      1.052632   \n",
       "2      100003                                          1.04   \n",
       "3      100004                                      1.333333   \n",
       "4      100005                                      1.111111   \n",
       "\n",
       "   installments_agg_NUM_INSTALMENT_VERSION_sum  \\\n",
       "0                                            8   \n",
       "1                                           20   \n",
       "2                                           26   \n",
       "3                                            4   \n",
       "4                                           10   \n",
       "\n",
       "   installments_agg_NUM_INSTALMENT_VERSION_max  \\\n",
       "0                                            2   \n",
       "1                                            2   \n",
       "2                                            2   \n",
       "3                                            2   \n",
       "4                                            2   \n",
       "\n",
       "   installments_agg_NUM_INSTALMENT_VERSION_min  \\\n",
       "0                                            1   \n",
       "1                                            1   \n",
       "2                                            1   \n",
       "3                                            1   \n",
       "4                                            1   \n",
       "\n",
       "   installments_agg_NUM_INSTALMENT_NUMBER_mean  \\\n",
       "0                                     2.714286   \n",
       "1                                    10.000000   \n",
       "2                                     5.080000   \n",
       "3                                     2.000000   \n",
       "4                                     5.000000   \n",
       "\n",
       "   installments_agg_NUM_INSTALMENT_NUMBER_sum  \\\n",
       "0                                          19   \n",
       "1                                         190   \n",
       "2                                         127   \n",
       "3                                           6   \n",
       "4                                          45   \n",
       "\n",
       "   installments_agg_NUM_INSTALMENT_NUMBER_max  \\\n",
       "0                                           4   \n",
       "1                                          19   \n",
       "2                                          12   \n",
       "3                                           3   \n",
       "4                                           9   \n",
       "\n",
       "   installments_agg_NUM_INSTALMENT_NUMBER_min  \\\n",
       "0                                           1   \n",
       "1                                           1   \n",
       "2                                           1   \n",
       "3                                           1   \n",
       "4                                           1   \n",
       "\n",
       "   installments_agg_DAYS_INSTALMENT_mean  ...  \\\n",
       "0                           -2187.714286  ...   \n",
       "1                                 -295.0  ...   \n",
       "2                               -1378.16  ...   \n",
       "3                                 -754.0  ...   \n",
       "4                                 -586.0  ...   \n",
       "\n",
       "   installments_agg_MISSED_PAYMENT_max  installments_agg_MISSED_PAYMENT_min  \\\n",
       "0                                    0                                    0   \n",
       "1                                    0                                    0   \n",
       "2                                    0                                    0   \n",
       "3                                    0                                    0   \n",
       "4                                    0                                    0   \n",
       "\n",
       "   installments_agg_LATE_PAYMENT_mean  installments_agg_LATE_PAYMENT_sum  \\\n",
       "0                            0.142857                                  1   \n",
       "1                            0.000000                                  0   \n",
       "2                            0.000000                                  0   \n",
       "3                            0.000000                                  0   \n",
       "4                            0.111111                                  1   \n",
       "\n",
       "   installments_agg_LATE_PAYMENT_max  installments_agg_LATE_PAYMENT_min  \\\n",
       "0                                  1                                  0   \n",
       "1                                  0                                  0   \n",
       "2                                  0                                  0   \n",
       "3                                  0                                  0   \n",
       "4                                  1                                  0   \n",
       "\n",
       "   installments_agg_PAYMENT_DELAY_mean  installments_agg_PAYMENT_DELAY_sum  \\\n",
       "0                            -7.285714                                 -51   \n",
       "1                           -20.421053                                -388   \n",
       "2                                -7.16                                -179   \n",
       "3                            -7.666667                                 -23   \n",
       "4                           -23.555556                                -212   \n",
       "\n",
       "   installments_agg_PAYMENT_DELAY_max  installments_agg_PAYMENT_DELAY_min  \n",
       "0                                  11                                 -36  \n",
       "1                                 -12                                 -31  \n",
       "2                                  -1                                 -14  \n",
       "3                                  -3                                 -11  \n",
       "4                                   1                                 -37  \n",
       "\n",
       "[5 rows x 41 columns]"
      ]
     },
     "metadata": {},
     "output_type": "display_data"
    }
   ],
   "source": [
    "# Aggregate df_installments_payments before merging\n",
    "print(\"\\nAggregating df_installments_payments by SK_ID_CURR...\")\n",
    "\n",
    "# Exclude SK_ID_PREV (installment-level unique identifier)\n",
    "agg_numeric_columns = df_installments_payments.select_dtypes(include=['number']).drop(columns=['SK_ID_PREV'], errors='ignore')\n",
    "\n",
    "# Aggregate numerical features (without std for cleaner results)\n",
    "agg_funcs = ['mean', 'sum', 'max', 'min']\n",
    "agg_numeric = agg_numeric_columns.groupby('SK_ID_CURR').agg(agg_funcs)\n",
    "\n",
    "# Rename columns to avoid multi-index issue\n",
    "agg_numeric.columns = ['installments_agg_' + '_'.join(col) for col in agg_numeric.columns]\n",
    "agg_numeric.reset_index(inplace=True)\n",
    "\n",
    "# No categorical columns in this dataset, so skip categorical aggregation\n",
    "df_installments_payments_aggregated = agg_numeric\n",
    "\n",
    "# Check new shape\n",
    "print(f\"✅ Aggregation complete. New df_installments_payments_aggregated shape: {df_installments_payments_aggregated.shape}\")\n",
    "\n",
    "# Preview the aggregated dataframe\n",
    "display(df_installments_payments_aggregated.head())"
   ]
  },
  {
   "cell_type": "markdown",
   "id": "31ed5cd0",
   "metadata": {
    "papermill": {
     "duration": 0.031524,
     "end_time": "2025-03-08T00:28:58.311864",
     "exception": false,
     "start_time": "2025-03-08T00:28:58.280340",
     "status": "completed"
    },
    "tags": []
   },
   "source": [
    "## 7. Merging (`installments_payments.csv`)\n",
    "We merge all newly created feature tables into a single dataset using a **left join on SK_ID_CURR**.  \n",
    "This ensures that no client records are lost while incorporating the engineered features."
   ]
  },
  {
   "cell_type": "code",
   "execution_count": 44,
   "id": "62d20160",
   "metadata": {
    "execution": {
     "iopub.execute_input": "2025-03-08T00:28:58.376986Z",
     "iopub.status.busy": "2025-03-08T00:28:58.376610Z",
     "iopub.status.idle": "2025-03-08T00:28:59.067124Z",
     "shell.execute_reply": "2025-03-08T00:28:59.065947Z"
    },
    "papermill": {
     "duration": 0.725386,
     "end_time": "2025-03-08T00:28:59.068798",
     "exception": false,
     "start_time": "2025-03-08T00:28:58.343412",
     "status": "completed"
    },
    "tags": []
   },
   "outputs": [
    {
     "name": "stdout",
     "output_type": "stream",
     "text": [
      "✅ Merged installments_credit_activity: (339587, 41) -> (339587, 44)\n",
      "⚠️ Missing Values in installments_credit_activity After Merge:\n",
      "installments_agg_PAYMENT_RATIO_mean    3\n",
      "installments_agg_PAYMENT_RATIO_max     3\n",
      "installments_agg_PAYMENT_RATIO_min     3\n",
      "dtype: int64\n",
      "--------------------------------------------------\n",
      "✅ Merged installments_loan_amount: (339587, 44) -> (339587, 49)\n",
      "⚠️ Missing Values in installments_loan_amount After Merge:\n",
      "installments_agg_PAYMENT_RATIO_mean    3\n",
      "installments_agg_PAYMENT_RATIO_max     3\n",
      "installments_agg_PAYMENT_RATIO_min     3\n",
      "dtype: int64\n",
      "--------------------------------------------------\n",
      "✅ Merged installments_time_based: (339587, 49) -> (339587, 58)\n",
      "⚠️ Missing Values in installments_time_based After Merge:\n",
      "installments_agg_PAYMENT_RATIO_mean      3\n",
      "installments_agg_PAYMENT_RATIO_max       3\n",
      "installments_agg_PAYMENT_RATIO_min       3\n",
      "installments_STD_DAYS_ENTRY_PAYMENT    972\n",
      "dtype: int64\n",
      "--------------------------------------------------\n",
      "✅ Merged installments_overdue: (339587, 58) -> (339587, 62)\n",
      "⚠️ Missing Values in installments_overdue After Merge:\n",
      "installments_agg_PAYMENT_RATIO_mean      3\n",
      "installments_agg_PAYMENT_RATIO_max       3\n",
      "installments_agg_PAYMENT_RATIO_min       3\n",
      "installments_STD_DAYS_ENTRY_PAYMENT    972\n",
      "installments_STD_PAYMENT_DELAY         972\n",
      "dtype: int64\n",
      "--------------------------------------------------\n",
      "✅ All installments payments feature tables merged successfully!\n"
     ]
    }
   ],
   "source": [
    "# Function to safely merge dataframes and print debugging info\n",
    "def safe_merge(df_main, df_new, merge_on=\"SK_ID_CURR\", name=\"\"):\n",
    "    \"\"\" Merges two dataframes and prints sanity checks \"\"\"\n",
    "    prev_shape = df_main.shape\n",
    "    df_main = df_main.merge(df_new, on=merge_on, how=\"left\")\n",
    "\n",
    "    print(f\"✅ Merged {name}: {prev_shape} -> {df_main.shape}\")\n",
    "    missing_values = df_main.isnull().sum()[df_main.isnull().sum() > 0]\n",
    "    \n",
    "    if not missing_values.empty:\n",
    "        print(f\"⚠️ Missing Values in {name} After Merge:\\n{missing_values}\")\n",
    "    \n",
    "    print(\"-\" * 50)\n",
    "    return df_main\n",
    "\n",
    "# Apply Safe Merges for Installments Payments Features\n",
    "df_installments_payments_aggregated = safe_merge(df_installments_payments_aggregated, installments_credit_activity, name=\"installments_credit_activity\")\n",
    "df_installments_payments_aggregated = safe_merge(df_installments_payments_aggregated, installments_loan_amount, name=\"installments_loan_amount\")\n",
    "df_installments_payments_aggregated = safe_merge(df_installments_payments_aggregated, installments_time_based, name=\"installments_time_based\")\n",
    "df_installments_payments_aggregated = safe_merge(df_installments_payments_aggregated, installments_overdue, name=\"installments_overdue\")\n",
    "\n",
    "print(\"✅ All installments payments feature tables merged successfully!\")"
   ]
  },
  {
   "cell_type": "code",
   "execution_count": 45,
   "id": "f1ca6618",
   "metadata": {
    "execution": {
     "iopub.execute_input": "2025-03-08T00:28:59.135128Z",
     "iopub.status.busy": "2025-03-08T00:28:59.134703Z",
     "iopub.status.idle": "2025-03-08T00:28:59.153810Z",
     "shell.execute_reply": "2025-03-08T00:28:59.152638Z"
    },
    "papermill": {
     "duration": 0.054594,
     "end_time": "2025-03-08T00:28:59.155715",
     "exception": false,
     "start_time": "2025-03-08T00:28:59.101121",
     "status": "completed"
    },
    "tags": []
   },
   "outputs": [],
   "source": [
    "# Handle NaNs in standard deviation columns by filling with 0\n",
    "df_installments_payments_aggregated[\"installments_STD_DAYS_ENTRY_PAYMENT\"] = df_installments_payments_aggregated[\"installments_STD_DAYS_ENTRY_PAYMENT\"].fillna(0)\n",
    "df_installments_payments_aggregated[\"installments_STD_PAYMENT_DELAY\"] = df_installments_payments_aggregated[\"installments_STD_PAYMENT_DELAY\"].fillna(0)\n",
    "\n",
    "# Handle NaNs in Payment Ratio Aggregates\n",
    "# Since missing values in PAYMENT_RATIO occur when AMT_INSTALMENT == 0, we assume full payment was made\n",
    "df_installments_payments_aggregated[\"installments_agg_PAYMENT_RATIO_mean\"] = df_installments_payments_aggregated[\"installments_agg_PAYMENT_RATIO_mean\"].fillna(1)\n",
    "df_installments_payments_aggregated[\"installments_agg_PAYMENT_RATIO_max\"] = df_installments_payments_aggregated[\"installments_agg_PAYMENT_RATIO_max\"].fillna(1)\n",
    "df_installments_payments_aggregated[\"installments_agg_PAYMENT_RATIO_min\"] = df_installments_payments_aggregated[\"installments_agg_PAYMENT_RATIO_min\"].fillna(1)"
   ]
  },
  {
   "cell_type": "markdown",
   "id": "bda2e074",
   "metadata": {
    "papermill": {
     "duration": 0.031275,
     "end_time": "2025-03-08T00:28:59.219015",
     "exception": false,
     "start_time": "2025-03-08T00:28:59.187740",
     "status": "completed"
    },
    "tags": []
   },
   "source": [
    "### 7.1 Feature Validation\n",
    "Before saving, we validate the dataset by checking for:  \n",
    "- **Missing values** (standard NaNs and hidden NaNs stored as text)  \n",
    "- **Infinite values** (Inf or -Inf, which can cause issues in modeling)  \n",
    "\n",
    "Once verified, the aggregated dataset is saved."
   ]
  },
  {
   "cell_type": "code",
   "execution_count": 46,
   "id": "973709db",
   "metadata": {
    "execution": {
     "iopub.execute_input": "2025-03-08T00:28:59.283147Z",
     "iopub.status.busy": "2025-03-08T00:28:59.282801Z",
     "iopub.status.idle": "2025-03-08T00:28:59.415535Z",
     "shell.execute_reply": "2025-03-08T00:28:59.414395Z"
    },
    "papermill": {
     "duration": 0.166697,
     "end_time": "2025-03-08T00:28:59.417193",
     "exception": false,
     "start_time": "2025-03-08T00:28:59.250496",
     "status": "completed"
    },
    "tags": []
   },
   "outputs": [
    {
     "name": "stdout",
     "output_type": "stream",
     "text": [
      "\n",
      "Standard Missing Values in Aggregated Installments Payments Features After Merging:\n",
      "✅ No standard NaN values detected.\n",
      "\n",
      "Hidden NaNs (Empty Strings or 'nan' as Text) in Aggregated Installments Payments Features After Merging:\n",
      "✅ No hidden NaNs detected.\n"
     ]
    }
   ],
   "source": [
    "# Step 1: Check for standard NaN values\n",
    "missing_values_installments_aggregated = df_installments_payments_aggregated.isna().sum()\n",
    "missing_values_installments_aggregated = missing_values_installments_aggregated[missing_values_installments_aggregated > 0]\n",
    "\n",
    "print(\"\\nStandard Missing Values in Aggregated Installments Payments Features After Merging:\")\n",
    "print(missing_values_installments_aggregated if not missing_values_installments_aggregated.empty else \"✅ No standard NaN values detected.\")\n",
    "\n",
    "# Step 2: Check for hidden NaNs (empty strings or \"nan\" stored as a string)\n",
    "hidden_nans_installments_aggregated = (df_installments_payments_aggregated == \"\").sum() + (df_installments_payments_aggregated == \"nan\").sum()\n",
    "hidden_nans_installments_aggregated = hidden_nans_installments_aggregated[hidden_nans_installments_aggregated > 0]\n",
    "\n",
    "print(\"\\nHidden NaNs (Empty Strings or 'nan' as Text) in Aggregated Installments Payments Features After Merging:\")\n",
    "print(hidden_nans_installments_aggregated if not hidden_nans_installments_aggregated.empty else \"✅ No hidden NaNs detected.\")"
   ]
  },
  {
   "cell_type": "code",
   "execution_count": 47,
   "id": "e32b58c6",
   "metadata": {
    "execution": {
     "iopub.execute_input": "2025-03-08T00:28:59.483720Z",
     "iopub.status.busy": "2025-03-08T00:28:59.483357Z",
     "iopub.status.idle": "2025-03-08T00:28:59.810542Z",
     "shell.execute_reply": "2025-03-08T00:28:59.809435Z"
    },
    "papermill": {
     "duration": 0.363262,
     "end_time": "2025-03-08T00:28:59.812280",
     "exception": false,
     "start_time": "2025-03-08T00:28:59.449018",
     "status": "completed"
    },
    "tags": []
   },
   "outputs": [
    {
     "name": "stdout",
     "output_type": "stream",
     "text": [
      "\n",
      "Infinite Values in Aggregated Installments Payments Features After Merging:\n",
      "✅ No Inf values detected.\n"
     ]
    }
   ],
   "source": [
    "# Step 3: Check for Inf values\n",
    "inf_values_installments_aggregated = df_installments_payments_aggregated.replace([np.inf, -np.inf], np.nan).isna().sum()\n",
    "inf_values_installments_aggregated = inf_values_installments_aggregated[inf_values_installments_aggregated > 0]\n",
    "\n",
    "print(\"\\nInfinite Values in Aggregated Installments Payments Features After Merging:\")\n",
    "if inf_values_installments_aggregated.empty:\n",
    "    print(\"✅ No Inf values detected.\")\n",
    "else:\n",
    "    print(inf_values_installments_aggregated)"
   ]
  },
  {
   "cell_type": "code",
   "execution_count": 48,
   "id": "6db61ab1",
   "metadata": {
    "execution": {
     "iopub.execute_input": "2025-03-08T00:28:59.878596Z",
     "iopub.status.busy": "2025-03-08T00:28:59.878224Z",
     "iopub.status.idle": "2025-03-08T00:29:15.730608Z",
     "shell.execute_reply": "2025-03-08T00:29:15.729299Z"
    },
    "papermill": {
     "duration": 15.8881,
     "end_time": "2025-03-08T00:29:15.732359",
     "exception": false,
     "start_time": "2025-03-08T00:28:59.844259",
     "status": "completed"
    },
    "tags": []
   },
   "outputs": [
    {
     "name": "stdout",
     "output_type": "stream",
     "text": [
      "✅ Installments Payments aggregated dataset saved successfully!\n"
     ]
    }
   ],
   "source": [
    "# Save aggregated installments payments dataset\n",
    "df_installments_payments_aggregated.to_csv(\"installments_payments_aggregated.csv\", index=False)\n",
    "df_installments_payments_aggregated.to_pickle(\"installments_payments_aggregated.pkl\")\n",
    "\n",
    "print(\"✅ Installments Payments aggregated dataset saved successfully!\")"
   ]
  }
 ],
 "metadata": {
  "kaggle": {
   "accelerator": "none",
   "dataSources": [
    {
     "databundleVersionId": 860599,
     "sourceId": 9120,
     "sourceType": "competition"
    }
   ],
   "dockerImageVersionId": 30839,
   "isGpuEnabled": false,
   "isInternetEnabled": true,
   "language": "python",
   "sourceType": "notebook"
  },
  "kernelspec": {
   "display_name": "Python 3 (ipykernel)",
   "language": "python",
   "name": "python3"
  },
  "language_info": {
   "codemirror_mode": {
    "name": "ipython",
    "version": 3
   },
   "file_extension": ".py",
   "mimetype": "text/x-python",
   "name": "python",
   "nbconvert_exporter": "python",
   "pygments_lexer": "ipython3",
   "version": "3.9.12"
  },
  "papermill": {
   "default_parameters": {},
   "duration": 518.391003,
   "end_time": "2025-03-08T00:29:16.787330",
   "environment_variables": {},
   "exception": null,
   "input_path": "__notebook__.ipynb",
   "output_path": "__notebook__.ipynb",
   "parameters": {},
   "start_time": "2025-03-08T00:20:38.396327",
   "version": "2.6.0"
  }
 },
 "nbformat": 4,
 "nbformat_minor": 5
}
